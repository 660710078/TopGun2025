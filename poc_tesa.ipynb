{
  "nbformat": 4,
  "nbformat_minor": 0,
  "metadata": {
    "colab": {
      "provenance": [],
      "machine_shape": "hm",
      "include_colab_link": true
    },
    "kernelspec": {
      "name": "python3",
      "display_name": "Python 3"
    },
    "language_info": {
      "name": "python"
    }
  },
  "cells": [
    {
      "cell_type": "markdown",
      "metadata": {
        "id": "view-in-github",
        "colab_type": "text"
      },
      "source": [
        "<a href=\"https://colab.research.google.com/github/660710078/TopGun2025/blob/main/poc_tesa.ipynb\" target=\"_parent\"><img src=\"https://colab.research.google.com/assets/colab-badge.svg\" alt=\"Open In Colab\"/></a>"
      ]
    },
    {
      "cell_type": "code",
      "source": [
        "!pip install fastapi uvicorn"
      ],
      "metadata": {
        "id": "8UoUL4MpztXR",
        "colab": {
          "base_uri": "https://localhost:8080/"
        },
        "outputId": "915fc247-be68-4975-a400-7aaadf6c7f38"
      },
      "execution_count": 1,
      "outputs": [
        {
          "output_type": "stream",
          "name": "stdout",
          "text": [
            "Requirement already satisfied: fastapi in /usr/local/lib/python3.12/dist-packages (0.119.1)\n",
            "Requirement already satisfied: uvicorn in /usr/local/lib/python3.12/dist-packages (0.38.0)\n",
            "Requirement already satisfied: starlette<0.49.0,>=0.40.0 in /usr/local/lib/python3.12/dist-packages (from fastapi) (0.48.0)\n",
            "Requirement already satisfied: pydantic!=1.8,!=1.8.1,!=2.0.0,!=2.0.1,!=2.1.0,<3.0.0,>=1.7.4 in /usr/local/lib/python3.12/dist-packages (from fastapi) (2.11.10)\n",
            "Requirement already satisfied: typing-extensions>=4.8.0 in /usr/local/lib/python3.12/dist-packages (from fastapi) (4.15.0)\n",
            "Requirement already satisfied: click>=7.0 in /usr/local/lib/python3.12/dist-packages (from uvicorn) (8.3.0)\n",
            "Requirement already satisfied: h11>=0.8 in /usr/local/lib/python3.12/dist-packages (from uvicorn) (0.16.0)\n",
            "Requirement already satisfied: annotated-types>=0.6.0 in /usr/local/lib/python3.12/dist-packages (from pydantic!=1.8,!=1.8.1,!=2.0.0,!=2.0.1,!=2.1.0,<3.0.0,>=1.7.4->fastapi) (0.7.0)\n",
            "Requirement already satisfied: pydantic-core==2.33.2 in /usr/local/lib/python3.12/dist-packages (from pydantic!=1.8,!=1.8.1,!=2.0.0,!=2.0.1,!=2.1.0,<3.0.0,>=1.7.4->fastapi) (2.33.2)\n",
            "Requirement already satisfied: typing-inspection>=0.4.0 in /usr/local/lib/python3.12/dist-packages (from pydantic!=1.8,!=1.8.1,!=2.0.0,!=2.0.1,!=2.1.0,<3.0.0,>=1.7.4->fastapi) (0.4.2)\n",
            "Requirement already satisfied: anyio<5,>=3.6.2 in /usr/local/lib/python3.12/dist-packages (from starlette<0.49.0,>=0.40.0->fastapi) (4.11.0)\n",
            "Requirement already satisfied: idna>=2.8 in /usr/local/lib/python3.12/dist-packages (from anyio<5,>=3.6.2->starlette<0.49.0,>=0.40.0->fastapi) (3.11)\n",
            "Requirement already satisfied: sniffio>=1.1 in /usr/local/lib/python3.12/dist-packages (from anyio<5,>=3.6.2->starlette<0.49.0,>=0.40.0->fastapi) (1.3.1)\n"
          ]
        }
      ]
    },
    {
      "cell_type": "code",
      "source": [
        "import uvicorn\n",
        "import gradio as gr #แดชวบอร์ด\n",
        "import requests\n",
        "import datetime"
      ],
      "metadata": {
        "id": "vsn8vVIq0kN-"
      },
      "execution_count": 2,
      "outputs": []
    },
    {
      "cell_type": "code",
      "source": [
        "# ใช้ Fast API\n",
        "#สร้างเส้น get ที่ /predict\n",
        "# ได้ไฟล์ main มา\n",
        "with open('main.py', 'w') as f:\n",
        "    f.write('''import io\n",
        "from fastapi import FastAPI\n",
        "from fastapi.responses import JSONResponse\n",
        "import random\n",
        "\n",
        "app = FastAPI()\n",
        "\n",
        "@app.get(\"/predict\")\n",
        "async def predict():\n",
        "    random_integer = random.randint(1, 100)\n",
        "    return JSONResponse(content={\"result\": random_integer})\n",
        "''')"
      ],
      "metadata": {
        "id": "OwJL4ER_0kQa"
      },
      "execution_count": 3,
      "outputs": []
    },
    {
      "cell_type": "code",
      "source": [
        "!ls"
      ],
      "metadata": {
        "id": "eYBzxcvE0kTL",
        "colab": {
          "base_uri": "https://localhost:8080/"
        },
        "outputId": "c7f5003e-f871-43fe-bd1e-4e6645d6026d"
      },
      "execution_count": 4,
      "outputs": [
        {
          "output_type": "stream",
          "name": "stdout",
          "text": [
            "main.py  sample_data\n"
          ]
        }
      ]
    },
    {
      "cell_type": "code",
      "source": [
        "# !kill -9 $(lsof -t -i:8000)\n",
        "#รันบนlocal 8000"
      ],
      "metadata": {
        "id": "t4eQ4xHp2OyO"
      },
      "execution_count": 5,
      "outputs": []
    },
    {
      "cell_type": "code",
      "source": [
        "!nohup uvicorn main:app --host 0.0.0.0 --port 8000 --reload &\n",
        "# webserver ของ python unicorn linux"
      ],
      "metadata": {
        "id": "Lsuy-nmt0kWA",
        "colab": {
          "base_uri": "https://localhost:8080/"
        },
        "outputId": "ca67b6a1-7432-4518-aa1a-033952c5254a"
      },
      "execution_count": 6,
      "outputs": [
        {
          "output_type": "stream",
          "name": "stdout",
          "text": [
            "nohup: appending output to 'nohup.out'\n"
          ]
        }
      ]
    },
    {
      "cell_type": "code",
      "source": [
        "!cat nohup.out"
      ],
      "metadata": {
        "id": "l27qN2U21wrc"
      },
      "execution_count": 7,
      "outputs": []
    },
    {
      "cell_type": "code",
      "source": [
        "!curl -X GET http://0.0.0.0:8000/predict"
      ],
      "metadata": {
        "id": "cvNN7fHc16OL",
        "colab": {
          "base_uri": "https://localhost:8080/"
        },
        "outputId": "45072917-8292-49d5-961a-83df03cf41b7"
      },
      "execution_count": 8,
      "outputs": [
        {
          "output_type": "stream",
          "name": "stdout",
          "text": [
            "curl: (7) Failed to connect to 0.0.0.0 port 8000 after 1 ms: Connection refused\n"
          ]
        }
      ]
    },
    {
      "cell_type": "code",
      "source": [
        "# สร้าง dashboard\n",
        "API_URL = \"http://0.0.0.0:8000/predict\"\n",
        "\n",
        "def get_data():\n",
        "    res = requests.get(API_URL)\n",
        "    data = res.json()\n",
        "    thb_rate = data[\"result\"]\n",
        "    return f\"1 USD = {thb_rate:.2f} THB\"\n",
        "\n",
        "# UI\n",
        "with gr.Blocks() as demo:\n",
        "    gr.Markdown(\"### อัปเดตราคาค่าเงินจาก API (ไม่ reload หน้า)\")\n",
        "    output = gr.Textbox(label=\"ผลลัพธ์\", interactive=False)\n",
        "    btn = gr.Button(\"รีเฟรชข้อมูล\")\n",
        "\n",
        "    btn.click(fn=get_data, outputs=output)\n",
        "\n",
        "demo.launch()"
      ],
      "metadata": {
        "id": "_E7RDE0Hz3UF",
        "colab": {
          "base_uri": "https://localhost:8080/",
          "height": 645
        },
        "outputId": "d2932486-32e6-4e9c-f62a-f3d0077a259e"
      },
      "execution_count": 9,
      "outputs": [
        {
          "output_type": "stream",
          "name": "stdout",
          "text": [
            "It looks like you are running Gradio on a hosted Jupyter notebook, which requires `share=True`. Automatically setting `share=True` (you can turn this off by setting `share=False` in `launch()` explicitly).\n",
            "\n",
            "Colab notebook detected. To show errors in colab notebook, set debug=True in launch()\n",
            "* Running on public URL: https://5c354fee1f020e667c.gradio.live\n",
            "\n",
            "This share link expires in 1 week. For free permanent hosting and GPU upgrades, run `gradio deploy` from the terminal in the working directory to deploy to Hugging Face Spaces (https://huggingface.co/spaces)\n"
          ]
        },
        {
          "output_type": "display_data",
          "data": {
            "text/plain": [
              "<IPython.core.display.HTML object>"
            ],
            "text/html": [
              "<div><iframe src=\"https://5c354fee1f020e667c.gradio.live\" width=\"100%\" height=\"500\" allow=\"autoplay; camera; microphone; clipboard-read; clipboard-write;\" frameborder=\"0\" allowfullscreen></iframe></div>"
            ]
          },
          "metadata": {}
        },
        {
          "output_type": "execute_result",
          "data": {
            "text/plain": []
          },
          "metadata": {},
          "execution_count": 9
        }
      ]
    },
    {
      "cell_type": "code",
      "source": [
        "import gradio as gr\n",
        "import requests, datetime\n",
        "\n",
        "def get_data():\n",
        "    r = requests.get(\"http://0.0.0.0:8000/predict\")\n",
        "    data = r.json()\n",
        "    return f'{datetime.datetime.now():%H:%M:%S} → BTC/USD: {data[\"result\"]}'\n",
        "\n",
        "with gr.Blocks() as app:\n",
        "    out = gr.Textbox(label=\"Realtime Feed\", lines=2)\n",
        "\n",
        "    # Gradio 4.x+ syntax\n",
        "    gr.Timer(value=1).tick(fn=get_data, outputs=out)\n",
        "\n",
        "app.launch()"
      ],
      "metadata": {
        "id": "AkGVMvkI5z98",
        "colab": {
          "base_uri": "https://localhost:8080/",
          "height": 645
        },
        "outputId": "70e7f6c3-1fa4-422e-d75b-c05bbbffd66a"
      },
      "execution_count": 10,
      "outputs": [
        {
          "output_type": "stream",
          "name": "stdout",
          "text": [
            "It looks like you are running Gradio on a hosted Jupyter notebook, which requires `share=True`. Automatically setting `share=True` (you can turn this off by setting `share=False` in `launch()` explicitly).\n",
            "\n",
            "Colab notebook detected. To show errors in colab notebook, set debug=True in launch()\n",
            "* Running on public URL: https://7905fc47a9589c407e.gradio.live\n",
            "\n",
            "This share link expires in 1 week. For free permanent hosting and GPU upgrades, run `gradio deploy` from the terminal in the working directory to deploy to Hugging Face Spaces (https://huggingface.co/spaces)\n"
          ]
        },
        {
          "output_type": "display_data",
          "data": {
            "text/plain": [
              "<IPython.core.display.HTML object>"
            ],
            "text/html": [
              "<div><iframe src=\"https://7905fc47a9589c407e.gradio.live\" width=\"100%\" height=\"500\" allow=\"autoplay; camera; microphone; clipboard-read; clipboard-write;\" frameborder=\"0\" allowfullscreen></iframe></div>"
            ]
          },
          "metadata": {}
        },
        {
          "output_type": "execute_result",
          "data": {
            "text/plain": []
          },
          "metadata": {},
          "execution_count": 10
        }
      ]
    },
    {
      "cell_type": "code",
      "source": [
        "import gradio as gr\n",
        "import requests\n",
        "import datetime\n",
        "import plotly.graph_objects as go\n",
        "from collections import deque\n",
        "\n",
        "# Keep track of data for the last few updates\n",
        "data_history = deque(maxlen=20) # Store the last 20 data points\n",
        "time_history = deque(maxlen=20) # Store timestamps\n",
        "\n",
        "API_URL = \"http://0.0.0.0:8000/predict\"\n",
        "\n",
        "def get_data_and_update_plot():\n",
        "    try:\n",
        "        r = requests.get(API_URL)\n",
        "        data = r.json()\n",
        "        price = data.get(\"result\")\n",
        "\n",
        "        if price is not None:\n",
        "            now = datetime.datetime.now()\n",
        "            data_history.append(price)\n",
        "            time_history.append(now)\n",
        "\n",
        "            # Create a Plotly figure\n",
        "            fig = go.Figure()\n",
        "            fig.add_trace(go.Scatter(x=list(time_history), y=list(data_history), mode='lines+markers'))\n",
        "\n",
        "            fig.update_layout(\n",
        "                title=\"Real-time BTC/USD Price\",\n",
        "                xaxis_title=\"Time\",\n",
        "                yaxis_title=\"Price\",\n",
        "                xaxis=dict(tickformat=\"%H:%M:%S\")\n",
        "            )\n",
        "\n",
        "            return fig, gr.update(value=f'{now:%H:%M:%S} → BTC/USD: {price}')\n",
        "        else:\n",
        "            return go.Figure(), gr.update(value=f'{datetime.datetime.now():%H:%M:%S} → Error: Could not get price')\n",
        "\n",
        "    except requests.exceptions.RequestException as e:\n",
        "        return go.Figure(), gr.update(value=f'{datetime.datetime.now():%H:%M:%S} → Error: {e}')\n",
        "    except Exception as e:\n",
        "        return go.Figure(), gr.update(value=f'{datetime.datetime.now():%H:%M:%S} → An unexpected error occurred: {e}')\n",
        "\n",
        "\n",
        "with gr.Blocks() as app:\n",
        "    gr.Markdown(\"### อัปเดตราคาค่าเงินจาก API และแสดงผลเป็นกราฟ\")\n",
        "\n",
        "    with gr.Row():\n",
        "        plot_output = gr.Plot(label=\"Realtime Price Graph\")\n",
        "        text_output = gr.Textbox(label=\"Latest Update\", lines=2, interactive=False)\n",
        "\n",
        "    # Gradio 4.x+ syntax\n",
        "    gr.Timer(value=1).tick(\n",
        "        fn=get_data_and_update_plot,\n",
        "        outputs=[plot_output, text_output]\n",
        "    )\n",
        "\n",
        "app.launch()"
      ],
      "metadata": {
        "id": "chmlES1gu9Ev",
        "colab": {
          "base_uri": "https://localhost:8080/",
          "height": 645
        },
        "outputId": "708e5830-36bc-45ca-fbb1-9fbb10bb1ba4"
      },
      "execution_count": 11,
      "outputs": [
        {
          "output_type": "stream",
          "name": "stdout",
          "text": [
            "It looks like you are running Gradio on a hosted Jupyter notebook, which requires `share=True`. Automatically setting `share=True` (you can turn this off by setting `share=False` in `launch()` explicitly).\n",
            "\n",
            "Colab notebook detected. To show errors in colab notebook, set debug=True in launch()\n",
            "* Running on public URL: https://4003a1036954dba9ab.gradio.live\n",
            "\n",
            "This share link expires in 1 week. For free permanent hosting and GPU upgrades, run `gradio deploy` from the terminal in the working directory to deploy to Hugging Face Spaces (https://huggingface.co/spaces)\n"
          ]
        },
        {
          "output_type": "display_data",
          "data": {
            "text/plain": [
              "<IPython.core.display.HTML object>"
            ],
            "text/html": [
              "<div><iframe src=\"https://4003a1036954dba9ab.gradio.live\" width=\"100%\" height=\"500\" allow=\"autoplay; camera; microphone; clipboard-read; clipboard-write;\" frameborder=\"0\" allowfullscreen></iframe></div>"
            ]
          },
          "metadata": {}
        },
        {
          "output_type": "execute_result",
          "data": {
            "text/plain": []
          },
          "metadata": {},
          "execution_count": 11
        }
      ]
    },
    {
      "cell_type": "code",
      "source": [
        "!pip install pybullet"
      ],
      "metadata": {
        "id": "miACFrSVYIgW",
        "colab": {
          "base_uri": "https://localhost:8080/"
        },
        "outputId": "57d4efb8-3651-4532-ecf6-a22010bf7de6"
      },
      "execution_count": null,
      "outputs": [
        {
          "output_type": "stream",
          "name": "stdout",
          "text": [
            "Collecting pybullet\n",
            "  Downloading pybullet-3.2.7.tar.gz (80.5 MB)\n",
            "\u001b[2K     \u001b[90m━━━━━━━━━━━━━━━━━━━━━━━━━━━━━━━━━━━━━━━━\u001b[0m \u001b[32m80.5/80.5 MB\u001b[0m \u001b[31m7.5 MB/s\u001b[0m eta \u001b[36m0:00:00\u001b[0m\n",
            "\u001b[?25h  Preparing metadata (setup.py) ... \u001b[?25l\u001b[?25hdone\n",
            "Building wheels for collected packages: pybullet\n"
          ]
        }
      ]
    },
    {
      "cell_type": "code",
      "source": [
        "!git clone https://github.com/utiasDSL/gym-pybullet-drones.git"
      ],
      "metadata": {
        "id": "ZC8hzQK8euqD"
      },
      "execution_count": null,
      "outputs": []
    },
    {
      "cell_type": "markdown",
      "source": [
        "                ↑  Z  (ขึ้น)\n",
        "                |\n",
        "                |\n",
        "                |         🟦 Drone (โดรน)\n",
        "                |        /\n",
        "                |       /\n",
        "                |      /\n",
        "                |     /\n",
        "                |    /\n",
        "                |   /\n",
        "                |  /\n",
        "                | /\n",
        "                +--------------------→  X (ไปข้างหน้า)\n",
        "               /\n",
        "              /\n",
        "             /\n",
        "            /\n",
        "           ↓\n",
        "          Y (ไปทางขวา)\n"
      ],
      "metadata": {
        "id": "Ng0ByudTPwn3"
      }
    },
    {
      "cell_type": "code",
      "source": [
        "with open('main.py', 'w') as f:\n",
        "    f.write('''\n",
        "import pybullet as p\n",
        "import pybullet_data\n",
        "import time\n",
        "import datetime\n",
        "import json\n",
        "from fastapi import FastAPI\n",
        "from fastapi.responses import JSONResponse\n",
        "# import uvicorn\n",
        "import threading\n",
        "\n",
        "drone_state = {\"x\": 0, \"y\": 0, \"z\": 0, \"vx\": 0, \"vy\": 0, \"vz\": 0}\n",
        "\n",
        "def simulate_drone():\n",
        "    physicsClient = p.connect(p.DIRECT)\n",
        "    p.setAdditionalSearchPath(pybullet_data.getDataPath())\n",
        "    p.setGravity(0, 0, -9.81)\n",
        "    p.loadURDF(\"plane.urdf\")\n",
        "\n",
        "    drone_path = \"/content/gym-pybullet-drones/gym_pybullet_drones/assets/cf2x.urdf\"\n",
        "    drone = p.loadURDF(drone_path, [0, 0, 0])\n",
        "\n",
        "    mass = p.getDynamicsInfo(drone, -1)[0]\n",
        "    thrust = mass * 9.81 * 1.1  # ให้แรงมากกว่า hover เล็กน้อย\n",
        "\n",
        "    while True:\n",
        "        p.applyExternalForce(drone, -1, [0, 0, thrust], [0, 0, 0], p.WORLD_FRAME)\n",
        "        p.stepSimulation()\n",
        "\n",
        "        pos, _ = p.getBasePositionAndOrientation(drone)\n",
        "        vel, _ = p.getBaseVelocity(drone)\n",
        "\n",
        "        # คืนค่าเวลาปัจจุบันเป็นวินาทีตั้งแต่ 1 ม.ค. 1970\n",
        "        now_epoch = time.time()\n",
        "        now_iso = datetime.datetime.utcfromtimestamp(now_epoch).isoformat(timespec='microseconds') + \"Z\"\n",
        "\n",
        "        drone_state.update({\n",
        "            \"x\": pos[0],\n",
        "            \"y\": pos[1],\n",
        "            \"z\": pos[2],\n",
        "            \"vx\": vel[0],\n",
        "            \"vy\": vel[1],\n",
        "            \"vz\": vel[2],\n",
        "            \"timestamp\": now_iso,\n",
        "        })\n",
        "\n",
        "        time.sleep(1/240)\n",
        "\n",
        "# --- รัน PyBullet ใน background ---\n",
        "threading.Thread(target=simulate_drone, daemon=True).start()\n",
        "\n",
        "# --- สร้าง API ---\n",
        "app = FastAPI()\n",
        "\n",
        "@app.get(\"/drone\")\n",
        "def get_drone_state():\n",
        "    return JSONResponse(content=drone_state)\n",
        "\n",
        "''')"
      ],
      "metadata": {
        "id": "yO5sONjHHBVA"
      },
      "execution_count": null,
      "outputs": []
    },
    {
      "cell_type": "code",
      "source": [
        "!kill -9 $(lsof -t -i:8000)"
      ],
      "metadata": {
        "id": "Yk0F_ZkkWeQF"
      },
      "execution_count": null,
      "outputs": []
    },
    {
      "cell_type": "code",
      "source": [
        "!nohup uvicorn main:app --host 0.0.0.0 --port 8000 --reload &"
      ],
      "metadata": {
        "id": "mqoxZYkIWnej"
      },
      "execution_count": null,
      "outputs": []
    },
    {
      "cell_type": "code",
      "source": [
        "# !cat nohup.out"
      ],
      "metadata": {
        "id": "2aAXrQHWWpfr"
      },
      "execution_count": null,
      "outputs": []
    },
    {
      "cell_type": "code",
      "source": [
        "!curl -X GET http://0.0.0.0:8000/drone"
      ],
      "metadata": {
        "id": "UlClXDP8W0jT"
      },
      "execution_count": null,
      "outputs": []
    },
    {
      "cell_type": "code",
      "source": [
        "import gradio as gr\n",
        "import requests\n",
        "import plotly.graph_objects as go\n",
        "from collections import deque\n",
        "\n",
        "API_URL = \"http://0.0.0.0:8000/drone\"\n",
        "\n",
        "# เก็บประวัติพิกัด (200 จุดล่าสุด)\n",
        "x_history, y_history, z_history = deque(maxlen=200), deque(maxlen=200), deque(maxlen=200)\n",
        "\n",
        "def get_drone_data():\n",
        "    try:\n",
        "        r = requests.get(API_URL, timeout=1)\n",
        "        data = r.json()\n",
        "\n",
        "        x, y, z = data[\"x\"], data[\"y\"], data[\"z\"]\n",
        "        vx, vy, vz = data[\"vx\"], data[\"vy\"], data[\"vz\"]\n",
        "\n",
        "        speed_kmh = ((vx**2 + vy**2 + vz**2) ** 0.5) * 3.6\n",
        "\n",
        "        x_history.append(x)\n",
        "        y_history.append(y)\n",
        "        z_history.append(z)\n",
        "\n",
        "        pos_str = (\n",
        "            f\"Position (World Frame) \"\n",
        "            f\"X={x:.2f} m, Y={y:.2f} m, Z={z:.2f} m\\n\\n\"\n",
        "            f\"Velocity \"\n",
        "            f\"vx={vx:.3f}, vy={vy:.3f}, vz={vz:.3f} m/s\\n\\n\"\n",
        "            f\"Speed = {speed_kmh:.2f} km/h\"\n",
        "        )\n",
        "\n",
        "        # --- สร้าง Figure ---\n",
        "        fig3d = go.Figure()\n",
        "\n",
        "        # path\n",
        "        fig3d.add_trace(go.Scatter3d(\n",
        "            x=list(x_history),\n",
        "            y=list(y_history),\n",
        "            z=list(z_history),\n",
        "            mode=\"lines+markers\",\n",
        "            line=dict(color=list(range(len(x_history))), colorscale=\"Turbo\", width=5),\n",
        "            marker=dict(size=3, color=list(range(len(x_history))), colorscale=\"Turbo\", showscale=False),\n",
        "            name=\"Path\"\n",
        "        ))\n",
        "\n",
        "        # current drone\n",
        "        fig3d.add_trace(go.Scatter3d(\n",
        "            x=[x], y=[y], z=[z],\n",
        "            mode=\"markers\",\n",
        "            marker=dict(size=8, color=\"lime\", symbol=\"circle\"),\n",
        "            name=\"Current Position\"\n",
        "        ))\n",
        "\n",
        "        # --- จดจำมุมกล้องเดิมไว้ ---\n",
        "        camera = fig3d.layout.scene.camera if \"scene\" in fig3d.layout else None\n",
        "\n",
        "        margin = 5\n",
        "        if len(x_history) > 1:\n",
        "            x_range = [min(x_history)-margin, max(x_history)+margin]\n",
        "            y_range = [min(y_history)-margin, max(y_history)+margin]\n",
        "            z_range = [min(z_history)-margin, max(z_history)+margin]\n",
        "        else:\n",
        "            # กรอบเริ่มต้นกรณีข้อมูลยังน้อย\n",
        "            x_range, y_range, z_range = [-10, 10], [-10, 10], [0, 20]\n",
        "\n",
        "        # --- อัปเดต layout ---\n",
        "        fig3d.update_layout(\n",
        "            scene=dict(\n",
        "                xaxis=dict(title=\"X (Forward, m)\", range=x_range),\n",
        "                yaxis=dict(title=\"Y (Right, m)\", range=y_range),\n",
        "                zaxis=dict(title=\"Z (Up, m)\", range=z_range),\n",
        "                aspectmode=\"cube\"\n",
        "            ),\n",
        "            template=\"plotly_white\",\n",
        "            margin=dict(l=0, r=0, t=40, b=0),\n",
        "            height=800\n",
        "        )\n",
        "\n",
        "        if camera:\n",
        "            fig3d.update_layout(scene_camera=camera)\n",
        "\n",
        "        return fig3d, pos_str\n",
        "\n",
        "    except Exception as e:\n",
        "        return go.Figure(), f\"Error: {e}\"\n",
        "\n",
        "\n",
        "# --- สร้าง Gradio Dashboard ---\n",
        "with gr.Blocks(\n",
        "    css=\"\"\"\n",
        "        .gradio-container {max-width: 100% !important; padding: 0; margin: 0;}\n",
        "        #plot-area {width: 100%; height: 85vh !important;} /* เต็มหน้าจอ */\n",
        "        #header-text {text-align: center; margin-top: 8px;}\n",
        "    \"\"\"\n",
        ") as dashboard:\n",
        "    gr.Markdown(\"## 🚀 Drone Position & Velocity\", elem_id=\"header-text\")\n",
        "\n",
        "    info = gr.Textbox(label=\"Drone Status\", lines=6, interactive=False)\n",
        "    plot3d = gr.Plot(label=\"🛰️ Real-time 3D Drone Monitor\", elem_id=\"plot-area\")\n",
        "\n",
        "    gr.Timer(value=1).tick(fn=get_drone_data, outputs=[plot3d, info])\n",
        "\n",
        "dashboard.launch()\n"
      ],
      "metadata": {
        "id": "JLMscb_rXGMI"
      },
      "execution_count": null,
      "outputs": []
    },
    {
      "cell_type": "code",
      "source": [
        "import requests\n",
        "from collections import deque\n",
        "\n",
        "API_URL = \"http://0.0.0.0:8000/drone\"\n",
        "\n",
        "# เก็บประวัติพิกัด (x จุดล่าสุด)\n",
        "window_size = 20\n",
        "x_history, y_history, z_history, iso_history = deque(maxlen=window_size), deque(maxlen=window_size), deque(maxlen=window_size), deque(maxlen=window_size)\n",
        "\n",
        "r = requests.get(API_URL, timeout=1)\n",
        "data = r.json()\n",
        "x, y, z, ios = data[\"x\"], data[\"y\"], data[\"z\"], data[\"timestamp\"]\n",
        "\n",
        "print(x, y, z, ios)\n",
        "\n",
        "x_history.append(x)\n",
        "y_history.append(y)\n",
        "z_history.append(z)\n",
        "iso_history.append(ios)\n",
        "\n",
        "x_history, y_history, z_history, iso_history"
      ],
      "metadata": {
        "id": "NixaPviBWfQx"
      },
      "execution_count": null,
      "outputs": []
    },
    {
      "cell_type": "code",
      "source": [
        "import time\n",
        "import datetime\n",
        "from collections import deque\n",
        "import requests\n",
        "import numpy as np\n",
        "\n",
        "history = deque(maxlen=window_size)\n",
        "\n",
        "for _ in range(window_size):\n",
        "    r = requests.get(API_URL, timeout=1)\n",
        "    data = r.json()\n",
        "    # หน่วยของ timestamp() คือ วินาที\n",
        "    t = datetime.datetime.fromisoformat(data[\"timestamp\"].replace(\"Z\", \"+00:00\")).timestamp()\n",
        "    x, y, z = data[\"x\"], data[\"y\"], data[\"z\"]\n",
        "    history.append((t, x, y, z))\n",
        "    time.sleep(0.5)"
      ],
      "metadata": {
        "id": "clDBW8NOWuQV"
      },
      "execution_count": null,
      "outputs": []
    },
    {
      "cell_type": "markdown",
      "source": [
        "                ↑  Z  (ขึ้น)\n",
        "                |\n",
        "                |\n",
        "                |         🟦 Drone (โดรน)\n",
        "                |        /\n",
        "                |       /\n",
        "                |      /\n",
        "                |     /\n",
        "                |    /\n",
        "                |   /\n",
        "                |  /\n",
        "                | /\n",
        "                +--------------------→  X (ไปข้างหน้า)\n",
        "               /\n",
        "              /\n",
        "             /\n",
        "            /\n",
        "           ↓\n",
        "          Y (ไปทางขวา)\n"
      ],
      "metadata": {
        "id": "uAII0ACUYxAI"
      }
    },
    {
      "cell_type": "code",
      "source": [
        "# ตำแหน่งป้อมปืน\n",
        "Pg = np.array([0.0, 0.0, 0.0])\n",
        "\n",
        "# ความเร็วของกระสุนปืน 200 m/s\n",
        "Vs = 200.0\n",
        "\n",
        "history[0][0]"
      ],
      "metadata": {
        "id": "PQ_Aa7p_Yg-h"
      },
      "execution_count": null,
      "outputs": []
    },
    {
      "cell_type": "code",
      "source": [
        "# ตำแหน่ง drone ปัจจุบัน\n",
        "\n",
        "Pd = np.array(history[-1][1:4])\n",
        "Pd"
      ],
      "metadata": {
        "id": "RdDMwzUZYz9i"
      },
      "execution_count": null,
      "outputs": []
    },
    {
      "cell_type": "code",
      "source": [
        "times = np.array([h[0] for h in history])\n",
        "coords = np.array([[h[1], h[2], h[3]] for h in history])"
      ],
      "metadata": {
        "id": "TWNKWlVUZSTJ"
      },
      "execution_count": null,
      "outputs": []
    },
    {
      "cell_type": "code",
      "source": [
        "times.shape, coords.shape"
      ],
      "metadata": {
        "id": "cXsm-mMpddHl"
      },
      "execution_count": null,
      "outputs": []
    },
    {
      "cell_type": "code",
      "source": [
        "t0 = times.mean()\n",
        "t0"
      ],
      "metadata": {
        "id": "eRpVWrUyddJw"
      },
      "execution_count": null,
      "outputs": []
    },
    {
      "cell_type": "code",
      "source": [
        "t_rel = times - t0\n",
        "t_rel"
      ],
      "metadata": {
        "id": "Y2EzX7hRddM9"
      },
      "execution_count": null,
      "outputs": []
    },
    {
      "cell_type": "code",
      "source": [
        "Vd = np.zeros(3, dtype=float)\n",
        "Vd"
      ],
      "metadata": {
        "id": "iA_O3lEceRKe"
      },
      "execution_count": null,
      "outputs": []
    },
    {
      "cell_type": "code",
      "source": [
        "import plotly.graph_objects as go\n",
        "\n",
        "fig = go.Figure(data=go.Scatter(x=t_rel, y=coords[:, 2], mode='markers'))\n",
        "fig.update_layout(title='Z Coordinate over time', xaxis_title='t_rel (seconds)', yaxis_title='Z Coordinate')\n",
        "fig.show()"
      ],
      "metadata": {
        "id": "Fp0WbAmkhMJd"
      },
      "execution_count": null,
      "outputs": []
    },
    {
      "cell_type": "code",
      "source": [
        "for i in range(3):\n",
        "  # fit line coord = a * t_rel + b\n",
        "  # a คือ slope คือ ความเร็วในแกนนั้น\n",
        "  # b คือ ค่าพิกัดของ Z ที่เวลาอ้างอิง (t_rel = 0)\n",
        "  a, b = np.polyfit(t_rel, coords[:, i], 1)\n",
        "  Vd[i] = a\n",
        "\n",
        "Vd"
      ],
      "metadata": {
        "id": "teFLbZTxeRM5"
      },
      "execution_count": null,
      "outputs": []
    },
    {
      "cell_type": "code",
      "source": [
        "t_fit = np.linspace(t_rel.min(), t_rel.max(), 100)\n",
        "y_fit_z = a * t_fit + b\n",
        "\n",
        "fig = go.Figure()\n",
        "\n",
        "fig.add_trace(go.Scatter(x=t_rel, y=coords[:, 2], mode='markers', name='Original Z Data'))\n",
        "\n",
        "fig.add_trace(go.Scatter(x=t_fit, y=y_fit_z, mode='lines', name='Linear Fit (Z)', line=dict(color='red')))\n",
        "\n",
        "fig.update_layout(title='Z Coordinate with Linear Fit', xaxis_title='t_rel (seconds)', yaxis_title='Z Coordinate')\n",
        "fig.show()"
      ],
      "metadata": {
        "id": "kDTCeuKleat_"
      },
      "execution_count": null,
      "outputs": []
    },
    {
      "cell_type": "code",
      "source": [
        "# ตำแหน่ง drone ปัจจุบัน\n",
        "Pd"
      ],
      "metadata": {
        "id": "CuS0z3Yweawo"
      },
      "execution_count": null,
      "outputs": []
    },
    {
      "cell_type": "code",
      "source": [
        "# ความเร็วของโดรน\n",
        "Vd"
      ],
      "metadata": {
        "id": "VLyJSzHLk38u"
      },
      "execution_count": null,
      "outputs": []
    },
    {
      "cell_type": "code",
      "source": [
        "# ตำแหน่งป้อมปืน\n",
        "Pg"
      ],
      "metadata": {
        "id": "_eUBQMbnji8U"
      },
      "execution_count": null,
      "outputs": []
    },
    {
      "cell_type": "code",
      "source": [
        "# ความเร็วของกระสุน\n",
        "Vs"
      ],
      "metadata": {
        "id": "tTAwhe6gk-dT"
      },
      "execution_count": null,
      "outputs": []
    },
    {
      "cell_type": "code",
      "source": [
        "# ตำแหน่งของโดรน (Pd) เทียบกับตำแหน่งของป้อมปืน (Pg)\n",
        "P_rel = Pd - Pg\n",
        "P_rel"
      ],
      "metadata": {
        "id": "vRq9IFkpjS0K"
      },
      "execution_count": null,
      "outputs": []
    },
    {
      "cell_type": "markdown",
      "source": [
        "เราต้องหาค่าเวลา t ที่กระสุนกับโดรนจะอยู่ที่จุดเดียวกัน\n",
        "at^2+bt+c=0\n",
        "\n",
        "a บอกว่า กระสุนเร็วกว่าหรือช้ากว่าโดรนมากแค่ไหน\n",
        "\n",
        "b บอกว่า โดรนกำลังเคลื่อนที่เข้าหรือออกจากป้อมเร็วแค่ไหน\n",
        "\n",
        "c คือ โดรนอยู่ห่างจากป้อมแค่ไหนในตอนเริ่มต้น"
      ],
      "metadata": {
        "id": "6iRPeevUlWg9"
      }
    },
    {
      "cell_type": "code",
      "source": [
        "# vx² + vy² + vz²\n",
        "a = np.dot(Vd, Vd) - Vs**2\n",
        "\n",
        "a"
      ],
      "metadata": {
        "id": "LjTEJ6NljS2M"
      },
      "execution_count": null,
      "outputs": []
    },
    {
      "cell_type": "code",
      "source": [
        "b = 2.0 * np.dot(P_rel, Vd)\n",
        "b"
      ],
      "metadata": {
        "id": "vDw8dn0MjS4q"
      },
      "execution_count": null,
      "outputs": []
    },
    {
      "cell_type": "code",
      "source": [
        "c = np.dot(P_rel, P_rel)\n",
        "c"
      ],
      "metadata": {
        "id": "XLpX5QXyrlaW"
      },
      "execution_count": null,
      "outputs": []
    },
    {
      "cell_type": "markdown",
      "source": [
        "AI Projectile Intercept Formula for Gaming, without Trigonometry\n",
        "\n",
        "https://medium.com/andys-coding-blog/ai-projectile-intercept-formula-for-gaming-without-trigonometry-37b70ef5718b\n"
      ],
      "metadata": {
        "id": "08k63aN6vfe-"
      }
    },
    {
      "cell_type": "code",
      "source": [
        "# quadratic\n",
        "disc = b*b - 4*a*c\n",
        "sqrt_disc = np.sqrt(disc)\n",
        "t1 = (-b + sqrt_disc) / (2*a)\n",
        "t2 = (-b - sqrt_disc) / (2*a)\n",
        "\n",
        "t1, t2"
      ],
      "metadata": {
        "id": "nzBoxspQuvi5"
      },
      "execution_count": null,
      "outputs": []
    },
    {
      "cell_type": "code",
      "source": [
        "ts = [t for t in (t1, t2) if t > 1e-9]\n",
        "ts"
      ],
      "metadata": {
        "id": "L1K6xe8Vwfxm"
      },
      "execution_count": null,
      "outputs": []
    },
    {
      "cell_type": "code",
      "source": [
        "t = min(ts)\n",
        "t"
      ],
      "metadata": {
        "id": "Iked8CU1wWGC"
      },
      "execution_count": null,
      "outputs": []
    },
    {
      "cell_type": "code",
      "source": [
        "P_hit = Pd + Vd * t\n",
        "P_hit"
      ],
      "metadata": {
        "id": "ZKViNCDXw3Vk"
      },
      "execution_count": null,
      "outputs": []
    },
    {
      "cell_type": "code",
      "source": [
        "def estimate_velocity_linear_regression(history):\n",
        "    if len(history) < 2:\n",
        "        return np.array([0.0, 0.0, 0.0])\n",
        "    times = np.array([h[0] for h in history])\n",
        "    coords = np.array([[h[1], h[2], h[3]] for h in history])\n",
        "    t0 = times.mean()\n",
        "    t_rel = times - t0\n",
        "    v = np.zeros(3, dtype=float)\n",
        "    for i in range(3):\n",
        "        a, b = np.polyfit(t_rel, coords[:, i], 1)\n",
        "        v[i] = a\n",
        "    return v\n",
        "\n",
        "def compute_intercept_point(Pd, Vd, Pg, Vs, eps=1e-6):\n",
        "    P_rel = Pd - Pg\n",
        "    a = np.dot(Vd, Vd) - Vs**2\n",
        "    b = 2.0 * np.dot(P_rel, Vd)\n",
        "    c = np.dot(P_rel, P_rel)\n",
        "\n",
        "    # if a is approx zero -> linear equation b t + c = 0\n",
        "    if abs(a) < eps:\n",
        "        if abs(b) < eps:\n",
        "            return (None, None)  # no motion relative or degenerate\n",
        "        t = -c / b\n",
        "        if t > 0:\n",
        "            P_hit = Pd + Vd * t\n",
        "            return P_hit, t\n",
        "        else:\n",
        "            return (None, None)\n",
        "\n",
        "    disc = b*b - 4*a*c\n",
        "    if disc < 0:\n",
        "        return (None, None)\n",
        "    sqrt_disc = np.sqrt(disc)\n",
        "    t1 = (-b + sqrt_disc) / (2*a)\n",
        "    t2 = (-b - sqrt_disc) / (2*a)\n",
        "\n",
        "    ts = [t for t in (t1, t2) if t > 1e-9]\n",
        "    if not ts:\n",
        "        return (None, None)\n",
        "    t = min(ts)\n",
        "    P_hit = Pd + Vd * t\n",
        "    return P_hit, t"
      ],
      "metadata": {
        "id": "QJtflwD9C1_Z"
      },
      "execution_count": null,
      "outputs": []
    },
    {
      "cell_type": "markdown",
      "source": [
        "การคำนวนการหมุนปากลำกล้องปืน"
      ],
      "metadata": {
        "id": "D6hcWTbC7VpJ"
      }
    },
    {
      "cell_type": "code",
      "source": [
        "# ตำแหน่งป้อมปืน\n",
        "Pg"
      ],
      "metadata": {
        "id": "RAlOiqoczJVg"
      },
      "execution_count": null,
      "outputs": []
    },
    {
      "cell_type": "code",
      "source": [
        "# ปากลำกล้องยื่นออก 0.5 m สูง 0.2 m\n",
        "barrel_offset = np.array([0.5, 0, 0.2])\n",
        "barrel_offset"
      ],
      "metadata": {
        "id": "8yFQ05Xb7gzC"
      },
      "execution_count": null,
      "outputs": []
    },
    {
      "cell_type": "code",
      "source": [
        "Pg_barrel = Pg + barrel_offset\n",
        "Pg_barrel"
      ],
      "metadata": {
        "id": "bEAeyltP8yGJ"
      },
      "execution_count": null,
      "outputs": []
    },
    {
      "cell_type": "code",
      "source": [
        "# จุดที่จะยิงโดย\n",
        "P_hit"
      ],
      "metadata": {
        "id": "1Y5uZ-sB7g1V"
      },
      "execution_count": null,
      "outputs": []
    },
    {
      "cell_type": "code",
      "source": [
        "# คำนวณเวกเตอร์จาก ปากลำกล้องไปจุดเป้า\n",
        "\n",
        "D = P_hit - Pg_barrel\n",
        "D"
      ],
      "metadata": {
        "id": "fxRAE6PY7g3-"
      },
      "execution_count": null,
      "outputs": []
    },
    {
      "cell_type": "code",
      "source": [
        "dx, dy, dz = D\n",
        "\n",
        "# มุมหมุนซ้าย/ขวา\n",
        "yaw = np.arctan2(dy, dx)\n",
        "\n",
        "# มุมเงย/ก้ม\n",
        "# pitch = np.arctan2(dz, np.sqrt(dx**2 + dy**2))\n",
        "pitch = np.arctan2(dz, np.hypot(dx, dy))\n",
        "\n",
        "yaw_deg = np.degrees(yaw)\n",
        "pitch_deg = np.degrees(pitch)\n",
        "\n",
        "print(f\"Yaw (radians) {yaw}, (degrees) {yaw_deg}\")\n",
        "print(f\"Pitch (radians) {pitch}, (degrees) {pitch_deg}\")"
      ],
      "metadata": {
        "id": "AXANB1K1zJYr"
      },
      "execution_count": null,
      "outputs": []
    },
    {
      "cell_type": "code",
      "source": [
        "P_hit, t = compute_intercept_point(Pd, Vd, Pg_barrel, Vs)\n",
        "P_hit, t"
      ],
      "metadata": {
        "id": "nsI_RGnQCfAA"
      },
      "execution_count": null,
      "outputs": []
    },
    {
      "cell_type": "code",
      "source": [
        "def compute_yaw_pitch(P_hit, Pg_barrel):\n",
        "  dx, dy, dz = np.array(P_hit) - np.array(Pg_barrel)\n",
        "  yaw = np.degrees(np.arctan2(dy, dx))\n",
        "  pitch = np.degrees(np.arctan2(dz, np.hypot(dx, dy)))\n",
        "  return yaw, pitch"
      ],
      "metadata": {
        "id": "jX1jiiKCw3Y5"
      },
      "execution_count": null,
      "outputs": []
    },
    {
      "cell_type": "code",
      "source": [
        "yaw, pitch = compute_yaw_pitch(P_hit, Pg_barrel)\n",
        "yaw, pitch"
      ],
      "metadata": {
        "id": "39NpdBFAw3bs"
      },
      "execution_count": null,
      "outputs": []
    },
    {
      "cell_type": "markdown",
      "source": [
        "Code เต็ม"
      ],
      "metadata": {
        "id": "L9GVJwjtPRnL"
      }
    },
    {
      "cell_type": "code",
      "source": [
        "import gradio as gr\n",
        "import requests\n",
        "import plotly.graph_objects as go\n",
        "from collections import deque\n",
        "import numpy as np\n",
        "import datetime\n",
        "import time\n",
        "\n",
        "API_URL = \"http://0.0.0.0:8000/drone\"\n",
        "\n",
        "# เก็บประวัติพิกัด/เวลา (สำหรับ estimate velocity)\n",
        "window_size = 20\n",
        "history = deque(maxlen=window_size)\n",
        "\n",
        "# เก็บประวัติแค่เพื่อวาด path\n",
        "x_history, y_history, z_history = deque(maxlen=200), deque(maxlen=200), deque(maxlen=200)\n",
        "\n",
        "# ป้อมปืน / barrel offset (ปรับตามของจริง)\n",
        "Pg = np.array([0.0, 0.0, 0.0])\n",
        "barrel_offset = np.array([0.5, 0.0, 0.2])   # ตัวอย่าง ปากลำกล้องยื่นไป 0.5m และสูง 0.2m\n",
        "Pg_barrel = Pg + barrel_offset\n",
        "\n",
        "# ความเร็วกระสุน (m/s)\n",
        "Vs = 200.0\n",
        "\n",
        "firing = False               # True เมื่อ user กด Fire และยังไม่ถึงเวลา impact\n",
        "fire_target_epoch = None     # epoch (seconds) เมื่อควรยิงจริง (now + t)\n",
        "last_P_hit = None            # เก็บ P_hit ปัจจุบัน (สำหรับแสดง marker impact)\n",
        "impact_record = None         # เก็บข้อมูลตอน fired (P_hit, epoch)\n",
        "\n",
        "def estimate_velocity_linear_regression(history):\n",
        "    if len(history) < 2:\n",
        "        return np.array([0.0, 0.0, 0.0])\n",
        "    times = np.array([h[0] for h in history])\n",
        "    coords = np.array([[h[1], h[2], h[3]] for h in history])\n",
        "    t0 = times.mean()\n",
        "    t_rel = times - t0\n",
        "    v = np.zeros(3, dtype=float)\n",
        "    for i in range(3):\n",
        "        a, b = np.polyfit(t_rel, coords[:, i], 1)  # a = slope = velocity\n",
        "        v[i] = a\n",
        "    return v\n",
        "\n",
        "def compute_intercept_point(Pd, Vd, Pg, Vs, eps=1e-6):\n",
        "    P_rel = Pd - Pg\n",
        "    a = np.dot(Vd, Vd) - Vs**2\n",
        "    b = 2.0 * np.dot(P_rel, Vd)\n",
        "    c = np.dot(P_rel, P_rel)\n",
        "\n",
        "    if abs(a) < eps:\n",
        "        # linear: b t + c = 0\n",
        "        if abs(b) < eps:\n",
        "            return (None, None)\n",
        "        t = -c / b\n",
        "        if t > 0:\n",
        "            P_hit = Pd + Vd * t\n",
        "            return P_hit, t\n",
        "        else:\n",
        "            return (None, None)\n",
        "\n",
        "    disc = b*b - 4*a*c\n",
        "    if disc < 0:\n",
        "        return (None, None)\n",
        "    sqrt_disc = np.sqrt(disc)\n",
        "    t1 = (-b + sqrt_disc) / (2*a)\n",
        "    t2 = (-b - sqrt_disc) / (2*a)\n",
        "    ts = [t for t in (t1, t2) if t > 1e-9]\n",
        "    if not ts:\n",
        "        return (None, None)\n",
        "    t = min(ts)\n",
        "    P_hit = Pd + Vd * t\n",
        "    return P_hit, t\n",
        "\n",
        "def compute_yaw_pitch(P_hit, Pg_barrel):\n",
        "    dx, dy, dz = np.array(P_hit) - np.array(Pg_barrel)\n",
        "    yaw = np.degrees(np.arctan2(dy, dx))\n",
        "    pitch = np.degrees(np.arctan2(dz, np.hypot(dx, dy)))\n",
        "    return float(yaw), float(pitch)\n",
        "\n",
        "def prepare_fire():\n",
        "    \"\"\"\n",
        "    เมื่อกด Fire: อ่านสถานะปัจจุบันของโดรน (ล่าสุดจาก history if available),\n",
        "    คำนวณ P_hit,t แล้วตั้ง fire_target_epoch = now + t\n",
        "    \"\"\"\n",
        "    global firing, fire_target_epoch, last_P_hit, impact_record\n",
        "\n",
        "    # ต้องมีข้อมูลล่าสุดใน history\n",
        "    if len(history) == 0:\n",
        "        return \"No drone data to compute intercept (history empty).\"\n",
        "\n",
        "    # ใช้สถานะปัจจุบัน (ล่าสุด)\n",
        "    t_now, x, y, z = history[-1]\n",
        "    Pd = np.array([x, y, z])\n",
        "    Vd = estimate_velocity_linear_regression(history)\n",
        "    P_hit, t_to_hit = compute_intercept_point(Pd, Vd, Pg_barrel, Vs)\n",
        "\n",
        "    if P_hit is None or t_to_hit is None:\n",
        "        return \"No intercept solution (cannot fire).\"\n",
        "\n",
        "    last_P_hit = P_hit\n",
        "    firing = True\n",
        "    fire_target_epoch = time.time() + float(t_to_hit)\n",
        "    impact_record = None\n",
        "    fire_time_iso = datetime.datetime.utcfromtimestamp(fire_target_epoch).isoformat(timespec='seconds') + \"Z\"\n",
        "    return f\"Firing prepared — impact in {t_to_hit:.2f} s (target at {fire_time_iso} UTC).\"\n",
        "\n",
        "def get_drone_data_and_plot():\n",
        "    global last_P_hit, firing, fire_target_epoch, impact_record\n",
        "\n",
        "    try:\n",
        "        r = requests.get(API_URL, timeout=1)\n",
        "        data = r.json()\n",
        "\n",
        "        # position & velocity from API\n",
        "        x, y, z = data[\"x\"], data[\"y\"], data[\"z\"]\n",
        "        vx, vy, vz = data[\"vx\"], data[\"vy\"], data[\"vz\"]\n",
        "\n",
        "        # timestamp from API (ISO) -> seconds\n",
        "        ts_str = data.get(\"timestamp\")\n",
        "        if ts_str:\n",
        "            t_seconds = datetime.datetime.fromisoformat(ts_str.replace(\"Z\", \"+00:00\")).timestamp()\n",
        "        else:\n",
        "            t_seconds = time.time()\n",
        "\n",
        "        # update histories\n",
        "        history.append((t_seconds, x, y, z))\n",
        "        x_history.append(x); y_history.append(y); z_history.append(z)\n",
        "\n",
        "        # estimate velocity from recent history\n",
        "        Vd = estimate_velocity_linear_regression(history)\n",
        "\n",
        "        # current drone pos\n",
        "        Pd = np.array([x, y, z])\n",
        "\n",
        "        # compute intercept (update aiming)\n",
        "        P_hit, t_to_hit = compute_intercept_point(Pd, Vd, Pg_barrel, Vs)\n",
        "        if P_hit is not None:\n",
        "            last_P_hit = P_hit\n",
        "\n",
        "        # prepare status string (pos, vel, speed)\n",
        "        speed_kmh = ((vx**2 + vy**2 + vz**2) ** 0.5) * 3.6\n",
        "        pos_str = (\n",
        "            f\"Position (World Frame)\\n\"\n",
        "            f\"({x:.2f}, {y:.2f}, {z:.2f}) m\\n\\n\"\n",
        "            f\"Velocity (API)\\n\"\n",
        "            f\"({vx:.3f}, {vy:.3f}, {vz:.3f}) m/s\\n\\n\"\n",
        "            f\"Speed\\n{speed_kmh:.2f} km/h\\n\\n\"\n",
        "        )\n",
        "\n",
        "        if P_hit is not None and t_to_hit is not None:\n",
        "            yaw_deg, pitch_deg = compute_yaw_pitch(P_hit, Pg_barrel)\n",
        "            pos_str += f\"<<Current predicted HIT>>\\nt\\n{t_to_hit:.2f}s\\n\\nP_hit\\n({P_hit[0]:.3f}, {P_hit[1]:.3f}, {P_hit[2]:.3f}) m\\n\\n\"\n",
        "            pos_str += f\"Yaw\\n({yaw_deg:.2f}°, Pitch={pitch_deg:.2f}°)\\n\"\n",
        "        else:\n",
        "            pos_str += \"No intercept solution (P_hit not found)\\n\"\n",
        "\n",
        "        # If firing was prepared, compute countdown to target epoch\n",
        "        if firing and fire_target_epoch is not None:\n",
        "            remaining = fire_target_epoch - time.time()\n",
        "            if remaining > 0:\n",
        "                pos_str += f\"\\nFIRING -> countdown: {remaining:.2f} s\\n\"\n",
        "            else:\n",
        "                # impact moment\n",
        "                pos_str += f\"\\n*** IMPACT / FIRED at {datetime.datetime.utcnow().isoformat(timespec='seconds')}Z ***\\n\"\n",
        "                firing = False\n",
        "                impact_record = {\n",
        "                    \"epoch\": fire_target_epoch,\n",
        "                    \"P_hit\": last_P_hit.copy() if last_P_hit is not None else None\n",
        "                }\n",
        "                fire_target_epoch = None\n",
        "\n",
        "        if impact_record is not None:\n",
        "            ph = impact_record[\"P_hit\"]\n",
        "            if ph is not None:\n",
        "                pos_str += f\"\\nLast Impact at P_hit = ({ph[0]:.3f}, {ph[1]:.3f}, {ph[2]:.3f}) m\\n\"\n",
        "\n",
        "        fig3d = go.Figure()\n",
        "\n",
        "        # path\n",
        "        fig3d.add_trace(go.Scatter3d(\n",
        "            x=list(x_history),\n",
        "            y=list(y_history),\n",
        "            z=list(z_history),\n",
        "            mode=\"lines+markers\",\n",
        "            line=dict(color=list(range(len(x_history))), colorscale=\"Turbo\", width=4),\n",
        "            marker=dict(size=3, color=list(range(len(x_history))), colorscale=\"Turbo\", showscale=False),\n",
        "            name=\"Path\"\n",
        "        ))\n",
        "\n",
        "        # current drone marker\n",
        "        fig3d.add_trace(go.Scatter3d(\n",
        "            x=[x], y=[y], z=[z],\n",
        "            mode=\"markers\",\n",
        "            marker=dict(size=8, color=\"lime\", symbol=\"circle\"),\n",
        "            name=\"Drone (current)\"\n",
        "        ))\n",
        "\n",
        "        # barrel position marker\n",
        "        fig3d.add_trace(go.Scatter3d(\n",
        "            x=[Pg_barrel[0]], y=[Pg_barrel[1]], z=[Pg_barrel[2]],\n",
        "            mode=\"markers+text\",\n",
        "            marker=dict(size=6, color=\"black\", symbol=\"square\"),\n",
        "            text=[\"Barrel\"],\n",
        "            textposition=\"top center\",\n",
        "            name=\"Barrel\"\n",
        "        ))\n",
        "\n",
        "        # P_hit marker & line (current predicted)\n",
        "        if last_P_hit is not None:\n",
        "            fig3d.add_trace(go.Scatter3d(\n",
        "                x=[last_P_hit[0]], y=[last_P_hit[1]], z=[last_P_hit[2]],\n",
        "                mode=\"markers+text\",\n",
        "                marker=dict(size=6, color=\"red\", symbol=\"x\"),\n",
        "                text=[f\"P_hit\\n{last_P_hit[2]:.1f}m\"],\n",
        "                textposition=\"bottom center\",\n",
        "                name=\"P_hit (pred)\"\n",
        "            ))\n",
        "            # line from barrel -> P_hit\n",
        "            fig3d.add_trace(go.Scatter3d(\n",
        "                x=[Pg_barrel[0], last_P_hit[0]],\n",
        "                y=[Pg_barrel[1], last_P_hit[1]],\n",
        "                z=[Pg_barrel[2], last_P_hit[2]],\n",
        "                mode=\"lines\",\n",
        "                line=dict(color=\"red\", width=3, dash=\"dash\"),\n",
        "                showlegend=False\n",
        "            ))\n",
        "\n",
        "        # impact marker (if fired)\n",
        "        if impact_record is not None and impact_record.get(\"P_hit\") is not None:\n",
        "            ph = impact_record[\"P_hit\"]\n",
        "            fig3d.add_trace(go.Scatter3d(\n",
        "                x=[ph[0]], y=[ph[1]], z=[ph[2]],\n",
        "                mode=\"markers+text\",\n",
        "                marker=dict(size=10, color=\"orange\", symbol=\"diamond\"),\n",
        "                text=[\"IMPACT\"],\n",
        "                textposition=\"top center\",\n",
        "                name=\"Impact\"\n",
        "            ))\n",
        "\n",
        "        margin = 5.0\n",
        "        if len(x_history) > 1:\n",
        "            x_range = [min(x_history)-margin, max(x_history)+margin]\n",
        "            y_range = [min(y_history)-margin, max(y_history)+margin]\n",
        "            z_range = [min(z_history)-margin, max(z_history)+margin]\n",
        "        else:\n",
        "            x_range, y_range, z_range = [-10,10], [-10,10], [0,20]\n",
        "\n",
        "        fig3d.update_layout(\n",
        "            scene=dict(\n",
        "                xaxis=dict(title=\"X (Forward, m)\", range=x_range),\n",
        "                yaxis=dict(title=\"Y (Right, m)\", range=y_range),\n",
        "                zaxis=dict(title=\"Z (Up, m)\", range=z_range),\n",
        "                aspectmode=\"cube\"\n",
        "            ),\n",
        "            template=\"plotly_white\",\n",
        "            margin=dict(l=0, r=0, t=40, b=0),\n",
        "            height=800\n",
        "        )\n",
        "\n",
        "        return fig3d, pos_str\n",
        "\n",
        "    except Exception as e:\n",
        "        return go.Figure(), f\"Error: {e}\"\n",
        "\n",
        "# สร้าง Gradio Dashboard\n",
        "with gr.Blocks(\n",
        "    css=\"\"\"\n",
        "        .gradio-container {max-width: 100% !important; padding: 0; margin: 0;}\n",
        "        #plot-area {width: 100%; height: 75vh !important;} /* ปรับสูงให้พอดี */\n",
        "        #header-text {text-align: center; margin-top: 8px;}\n",
        "        .controls {display:flex; gap:8px; align-items:center;}\n",
        "    \"\"\"\n",
        ") as dashboard:\n",
        "    gr.Markdown(\"## 🚀 Drone Position, Predicted Hit & Gun Angles (Fire)\", elem_id=\"header-text\")\n",
        "\n",
        "    with gr.Row():\n",
        "        with gr.Column(scale=1):\n",
        "            btn_fire = gr.Button(\"Fire (Prepare)\")\n",
        "            info = gr.Textbox(label=\"Drone Status & Intercept Info\", lines=10, interactive=False)\n",
        "        with gr.Column(scale=3):\n",
        "            plot3d = gr.Plot(label=\"🛰️ Real-time 3D Drone Monitor\", elem_id=\"plot-area\")\n",
        "\n",
        "    # ปุ่ม callback\n",
        "    btn_fire.click(prepare_fire, outputs=info)\n",
        "\n",
        "    # เรียกทุก 1 วินาที (update กราฟ และสถานะ)\n",
        "    gr.Timer(value=1).tick(fn=get_drone_data_and_plot, outputs=[plot3d, info])\n",
        "\n",
        "dashboard.launch()\n"
      ],
      "metadata": {
        "id": "az1RTyQxPSOf"
      },
      "execution_count": null,
      "outputs": []
    },
    {
      "cell_type": "code",
      "source": [],
      "metadata": {
        "id": "HWsKN1xvPiuH"
      },
      "execution_count": null,
      "outputs": []
    }
  ]
}