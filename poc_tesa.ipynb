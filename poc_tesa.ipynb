{
  "nbformat": 4,
  "nbformat_minor": 0,
  "metadata": {
    "colab": {
      "provenance": [],
      "machine_shape": "hm",
      "include_colab_link": true
    },
    "kernelspec": {
      "name": "python3",
      "display_name": "Python 3"
    },
    "language_info": {
      "name": "python"
    }
  },
  "cells": [
    {
      "cell_type": "markdown",
      "metadata": {
        "id": "view-in-github",
        "colab_type": "text"
      },
      "source": [
        "<a href=\"https://colab.research.google.com/github/660710078/TopGun2025/blob/main/poc_tesa.ipynb\" target=\"_parent\"><img src=\"https://colab.research.google.com/assets/colab-badge.svg\" alt=\"Open In Colab\"/></a>"
      ]
    },
    {
      "cell_type": "code",
      "source": [
        "!pip install fastapi uvicorn"
      ],
      "metadata": {
        "id": "8UoUL4MpztXR",
        "colab": {
          "base_uri": "https://localhost:8080/"
        },
        "outputId": "090caab2-e3c1-46d9-c803-5fe8ac14af65"
      },
      "execution_count": 55,
      "outputs": [
        {
          "output_type": "stream",
          "name": "stdout",
          "text": [
            "Requirement already satisfied: fastapi in /usr/local/lib/python3.12/dist-packages (0.119.1)\n",
            "Requirement already satisfied: uvicorn in /usr/local/lib/python3.12/dist-packages (0.38.0)\n",
            "Requirement already satisfied: starlette<0.49.0,>=0.40.0 in /usr/local/lib/python3.12/dist-packages (from fastapi) (0.48.0)\n",
            "Requirement already satisfied: pydantic!=1.8,!=1.8.1,!=2.0.0,!=2.0.1,!=2.1.0,<3.0.0,>=1.7.4 in /usr/local/lib/python3.12/dist-packages (from fastapi) (2.11.10)\n",
            "Requirement already satisfied: typing-extensions>=4.8.0 in /usr/local/lib/python3.12/dist-packages (from fastapi) (4.15.0)\n",
            "Requirement already satisfied: click>=7.0 in /usr/local/lib/python3.12/dist-packages (from uvicorn) (8.3.0)\n",
            "Requirement already satisfied: h11>=0.8 in /usr/local/lib/python3.12/dist-packages (from uvicorn) (0.16.0)\n",
            "Requirement already satisfied: annotated-types>=0.6.0 in /usr/local/lib/python3.12/dist-packages (from pydantic!=1.8,!=1.8.1,!=2.0.0,!=2.0.1,!=2.1.0,<3.0.0,>=1.7.4->fastapi) (0.7.0)\n",
            "Requirement already satisfied: pydantic-core==2.33.2 in /usr/local/lib/python3.12/dist-packages (from pydantic!=1.8,!=1.8.1,!=2.0.0,!=2.0.1,!=2.1.0,<3.0.0,>=1.7.4->fastapi) (2.33.2)\n",
            "Requirement already satisfied: typing-inspection>=0.4.0 in /usr/local/lib/python3.12/dist-packages (from pydantic!=1.8,!=1.8.1,!=2.0.0,!=2.0.1,!=2.1.0,<3.0.0,>=1.7.4->fastapi) (0.4.2)\n",
            "Requirement already satisfied: anyio<5,>=3.6.2 in /usr/local/lib/python3.12/dist-packages (from starlette<0.49.0,>=0.40.0->fastapi) (4.11.0)\n",
            "Requirement already satisfied: idna>=2.8 in /usr/local/lib/python3.12/dist-packages (from anyio<5,>=3.6.2->starlette<0.49.0,>=0.40.0->fastapi) (3.11)\n",
            "Requirement already satisfied: sniffio>=1.1 in /usr/local/lib/python3.12/dist-packages (from anyio<5,>=3.6.2->starlette<0.49.0,>=0.40.0->fastapi) (1.3.1)\n"
          ]
        }
      ]
    },
    {
      "cell_type": "code",
      "source": [
        "import uvicorn\n",
        "import gradio as gr #แดชวบอร์ด\n",
        "import requests\n",
        "import datetime"
      ],
      "metadata": {
        "id": "vsn8vVIq0kN-"
      },
      "execution_count": 56,
      "outputs": []
    },
    {
      "cell_type": "code",
      "source": [
        "# ใช้ Fast API\n",
        "#สร้างเส้น get ที่ /predict\n",
        "# ได้ไฟล์ main มา\n",
        "with open('main.py', 'w') as f:\n",
        "    f.write('''import io\n",
        "from fastapi import FastAPI\n",
        "from fastapi.responses import JSONResponse\n",
        "import random\n",
        "\n",
        "app = FastAPI()\n",
        "\n",
        "@app.get(\"/predict\")\n",
        "async def predict():\n",
        "    random_integer = random.randint(1, 100)\n",
        "    return JSONResponse(content={\"result\": random_integer})\n",
        "''')"
      ],
      "metadata": {
        "id": "OwJL4ER_0kQa"
      },
      "execution_count": 57,
      "outputs": []
    },
    {
      "cell_type": "code",
      "source": [
        "!ls"
      ],
      "metadata": {
        "id": "eYBzxcvE0kTL",
        "colab": {
          "base_uri": "https://localhost:8080/"
        },
        "outputId": "d08c47da-e542-4528-b8d0-8472eb6e1b5c"
      },
      "execution_count": 58,
      "outputs": [
        {
          "output_type": "stream",
          "name": "stdout",
          "text": [
            "gym-pybullet-drones  main.py  nohup.out  __pycache__  sample_data\n"
          ]
        }
      ]
    },
    {
      "cell_type": "code",
      "source": [
        "# !kill -9 $(lsof -t -i:8000)\n",
        "#รันบนlocal 8000"
      ],
      "metadata": {
        "id": "t4eQ4xHp2OyO"
      },
      "execution_count": 59,
      "outputs": []
    },
    {
      "cell_type": "code",
      "source": [
        "!nohup uvicorn main:app --host 0.0.0.0 --port 8000 --reload &\n",
        "# webserver ของ python unicorn linux"
      ],
      "metadata": {
        "id": "Lsuy-nmt0kWA",
        "colab": {
          "base_uri": "https://localhost:8080/"
        },
        "outputId": "c19029ad-61bd-42cc-d65b-e7a1a90e00c3"
      },
      "execution_count": 60,
      "outputs": [
        {
          "output_type": "stream",
          "name": "stdout",
          "text": [
            "nohup: appending output to 'nohup.out'\n"
          ]
        }
      ]
    },
    {
      "cell_type": "code",
      "source": [
        "!cat nohup.out"
      ],
      "metadata": {
        "id": "l27qN2U21wrc",
        "colab": {
          "base_uri": "https://localhost:8080/"
        },
        "outputId": "6f144ba9-4484-4c6a-ec38-f3aaa2681ded"
      },
      "execution_count": 61,
      "outputs": [
        {
          "output_type": "stream",
          "name": "stdout",
          "text": [
            "INFO:     Will watch for changes in these directories: ['/content']\n",
            "INFO:     Uvicorn running on http://0.0.0.0:8000 (Press CTRL+C to quit)\n",
            "INFO:     Started reloader process [1278] using StatReload\n",
            "INFO:     Started server process [1300]\n",
            "INFO:     Waiting for application startup.\n",
            "INFO:     Application startup complete.\n",
            "INFO:     127.0.0.1:43040 - \"GET /predict HTTP/1.1\" 200 OK\n",
            "INFO:     127.0.0.1:52720 - \"GET /predict HTTP/1.1\" 200 OK\n",
            "INFO:     127.0.0.1:52732 - \"GET /predict HTTP/1.1\" 200 OK\n",
            "INFO:     127.0.0.1:45292 - \"GET /predict HTTP/1.1\" 200 OK\n",
            "INFO:     127.0.0.1:45302 - \"GET /predict HTTP/1.1\" 200 OK\n",
            "INFO:     127.0.0.1:45316 - \"GET /predict HTTP/1.1\" 200 OK\n",
            "INFO:     127.0.0.1:45330 - \"GET /predict HTTP/1.1\" 200 OK\n",
            "INFO:     127.0.0.1:45342 - \"GET /predict HTTP/1.1\" 200 OK\n",
            "INFO:     127.0.0.1:45348 - \"GET /predict HTTP/1.1\" 200 OK\n",
            "INFO:     127.0.0.1:45362 - \"GET /predict HTTP/1.1\" 200 OK\n",
            "INFO:     127.0.0.1:45370 - \"GET /predict HTTP/1.1\" 200 OK\n",
            "INFO:     127.0.0.1:39126 - \"GET /predict HTTP/1.1\" 200 OK\n",
            "INFO:     127.0.0.1:39132 - \"GET /predict HTTP/1.1\" 200 OK\n",
            "INFO:     127.0.0.1:39140 - \"GET /predict HTTP/1.1\" 200 OK\n",
            "INFO:     127.0.0.1:39146 - \"GET /predict HTTP/1.1\" 200 OK\n",
            "INFO:     127.0.0.1:39152 - \"GET /predict HTTP/1.1\" 200 OK\n",
            "INFO:     127.0.0.1:39154 - \"GET /predict HTTP/1.1\" 200 OK\n",
            "INFO:     127.0.0.1:39164 - \"GET /predict HTTP/1.1\" 200 OK\n",
            "INFO:     127.0.0.1:39172 - \"GET /predict HTTP/1.1\" 200 OK\n",
            "INFO:     127.0.0.1:39188 - \"GET /predict HTTP/1.1\" 200 OK\n",
            "INFO:     127.0.0.1:39196 - \"GET /predict HTTP/1.1\" 200 OK\n",
            "INFO:     127.0.0.1:39204 - \"GET /predict HTTP/1.1\" 200 OK\n",
            "INFO:     127.0.0.1:57786 - \"GET /predict HTTP/1.1\" 200 OK\n",
            "INFO:     127.0.0.1:57800 - \"GET /predict HTTP/1.1\" 200 OK\n",
            "INFO:     127.0.0.1:57802 - \"GET /predict HTTP/1.1\" 200 OK\n",
            "INFO:     127.0.0.1:57818 - \"GET /predict HTTP/1.1\" 200 OK\n",
            "INFO:     127.0.0.1:57832 - \"GET /predict HTTP/1.1\" 200 OK\n",
            "INFO:     127.0.0.1:57842 - \"GET /predict HTTP/1.1\" 200 OK\n",
            "INFO:     127.0.0.1:57850 - \"GET /predict HTTP/1.1\" 200 OK\n",
            "INFO:     127.0.0.1:57852 - \"GET /predict HTTP/1.1\" 200 OK\n",
            "INFO:     127.0.0.1:57866 - \"GET /predict HTTP/1.1\" 200 OK\n",
            "INFO:     127.0.0.1:57874 - \"GET /predict HTTP/1.1\" 200 OK\n",
            "INFO:     127.0.0.1:35812 - \"GET /predict HTTP/1.1\" 200 OK\n",
            "INFO:     127.0.0.1:35816 - \"GET /predict HTTP/1.1\" 200 OK\n",
            "INFO:     127.0.0.1:35818 - \"GET /predict HTTP/1.1\" 200 OK\n",
            "INFO:     127.0.0.1:35828 - \"GET /predict HTTP/1.1\" 200 OK\n",
            "INFO:     127.0.0.1:35838 - \"GET /predict HTTP/1.1\" 200 OK\n",
            "INFO:     127.0.0.1:35844 - \"GET /predict HTTP/1.1\" 200 OK\n",
            "INFO:     127.0.0.1:55170 - \"GET /predict HTTP/1.1\" 200 OK\n",
            "INFO:     127.0.0.1:55180 - \"GET /predict HTTP/1.1\" 200 OK\n",
            "INFO:     127.0.0.1:55192 - \"GET /predict HTTP/1.1\" 200 OK\n",
            "INFO:     127.0.0.1:55194 - \"GET /predict HTTP/1.1\" 200 OK\n",
            "INFO:     127.0.0.1:55204 - \"GET /predict HTTP/1.1\" 200 OK\n",
            "INFO:     127.0.0.1:55210 - \"GET /predict HTTP/1.1\" 200 OK\n",
            "INFO:     127.0.0.1:55218 - \"GET /predict HTTP/1.1\" 200 OK\n",
            "INFO:     127.0.0.1:55226 - \"GET /predict HTTP/1.1\" 200 OK\n",
            "INFO:     127.0.0.1:55240 - \"GET /predict HTTP/1.1\" 200 OK\n",
            "INFO:     127.0.0.1:55250 - \"GET /predict HTTP/1.1\" 200 OK\n",
            "INFO:     127.0.0.1:56052 - \"GET /predict HTTP/1.1\" 200 OK\n",
            "INFO:     127.0.0.1:56064 - \"GET /predict HTTP/1.1\" 200 OK\n",
            "INFO:     127.0.0.1:56066 - \"GET /predict HTTP/1.1\" 200 OK\n",
            "INFO:     127.0.0.1:56074 - \"GET /predict HTTP/1.1\" 200 OK\n",
            "INFO:     127.0.0.1:56078 - \"GET /predict HTTP/1.1\" 200 OK\n",
            "INFO:     127.0.0.1:56084 - \"GET /predict HTTP/1.1\" 200 OK\n",
            "INFO:     127.0.0.1:56088 - \"GET /predict HTTP/1.1\" 200 OK\n",
            "INFO:     127.0.0.1:56094 - \"GET /predict HTTP/1.1\" 200 OK\n",
            "INFO:     127.0.0.1:56096 - \"GET /predict HTTP/1.1\" 200 OK\n",
            "INFO:     127.0.0.1:56098 - \"GET /predict HTTP/1.1\" 200 OK\n",
            "INFO:     127.0.0.1:40928 - \"GET /predict HTTP/1.1\" 200 OK\n",
            "INFO:     127.0.0.1:40930 - \"GET /predict HTTP/1.1\" 200 OK\n",
            "INFO:     127.0.0.1:40938 - \"GET /predict HTTP/1.1\" 200 OK\n",
            "INFO:     127.0.0.1:40950 - \"GET /predict HTTP/1.1\" 200 OK\n",
            "INFO:     127.0.0.1:40960 - \"GET /predict HTTP/1.1\" 200 OK\n",
            "INFO:     127.0.0.1:40968 - \"GET /predict HTTP/1.1\" 200 OK\n",
            "INFO:     127.0.0.1:40974 - \"GET /predict HTTP/1.1\" 200 OK\n",
            "INFO:     127.0.0.1:40988 - \"GET /predict HTTP/1.1\" 200 OK\n",
            "INFO:     127.0.0.1:41002 - \"GET /predict HTTP/1.1\" 200 OK\n",
            "INFO:     127.0.0.1:41012 - \"GET /predict HTTP/1.1\" 200 OK\n",
            "INFO:     127.0.0.1:41016 - \"GET /predict HTTP/1.1\" 200 OK\n",
            "INFO:     127.0.0.1:49730 - \"GET /predict HTTP/1.1\" 200 OK\n",
            "INFO:     127.0.0.1:49734 - \"GET /predict HTTP/1.1\" 200 OK\n",
            "INFO:     127.0.0.1:49748 - \"GET /predict HTTP/1.1\" 200 OK\n",
            "INFO:     127.0.0.1:49760 - \"GET /predict HTTP/1.1\" 200 OK\n",
            "INFO:     127.0.0.1:49764 - \"GET /predict HTTP/1.1\" 200 OK\n",
            "INFO:     127.0.0.1:49774 - \"GET /predict HTTP/1.1\" 200 OK\n",
            "INFO:     127.0.0.1:49776 - \"GET /predict HTTP/1.1\" 200 OK\n",
            "INFO:     127.0.0.1:49784 - \"GET /predict HTTP/1.1\" 200 OK\n",
            "INFO:     127.0.0.1:49798 - \"GET /predict HTTP/1.1\" 200 OK\n",
            "INFO:     127.0.0.1:49808 - \"GET /predict HTTP/1.1\" 200 OK\n",
            "INFO:     127.0.0.1:33366 - \"GET /predict HTTP/1.1\" 200 OK\n",
            "INFO:     127.0.0.1:33382 - \"GET /predict HTTP/1.1\" 200 OK\n",
            "INFO:     127.0.0.1:33390 - \"GET /predict HTTP/1.1\" 200 OK\n",
            "INFO:     127.0.0.1:33396 - \"GET /predict HTTP/1.1\" 200 OK\n",
            "INFO:     127.0.0.1:33398 - \"GET /predict HTTP/1.1\" 200 OK\n",
            "INFO:     127.0.0.1:33410 - \"GET /predict HTTP/1.1\" 200 OK\n",
            "INFO:     127.0.0.1:33420 - \"GET /predict HTTP/1.1\" 200 OK\n",
            "INFO:     127.0.0.1:33436 - \"GET /predict HTTP/1.1\" 200 OK\n",
            "INFO:     127.0.0.1:33448 - \"GET /predict HTTP/1.1\" 200 OK\n",
            "INFO:     127.0.0.1:40280 - \"GET /predict HTTP/1.1\" 200 OK\n",
            "INFO:     127.0.0.1:40292 - \"GET /predict HTTP/1.1\" 200 OK\n",
            "INFO:     127.0.0.1:40304 - \"GET /predict HTTP/1.1\" 200 OK\n",
            "INFO:     127.0.0.1:40308 - \"GET /predict HTTP/1.1\" 200 OK\n",
            "INFO:     127.0.0.1:40320 - \"GET /predict HTTP/1.1\" 200 OK\n",
            "INFO:     127.0.0.1:40330 - \"GET /predict HTTP/1.1\" 200 OK\n",
            "INFO:     127.0.0.1:40334 - \"GET /predict HTTP/1.1\" 200 OK\n",
            "INFO:     127.0.0.1:40350 - \"GET /predict HTTP/1.1\" 200 OK\n",
            "INFO:     127.0.0.1:40354 - \"GET /predict HTTP/1.1\" 200 OK\n",
            "INFO:     127.0.0.1:40362 - \"GET /predict HTTP/1.1\" 200 OK\n",
            "INFO:     127.0.0.1:40366 - \"GET /predict HTTP/1.1\" 200 OK\n",
            "INFO:     127.0.0.1:50056 - \"GET /predict HTTP/1.1\" 200 OK\n",
            "INFO:     127.0.0.1:50068 - \"GET /predict HTTP/1.1\" 200 OK\n",
            "INFO:     127.0.0.1:50072 - \"GET /predict HTTP/1.1\" 200 OK\n",
            "INFO:     127.0.0.1:50086 - \"GET /predict HTTP/1.1\" 200 OK\n",
            "INFO:     127.0.0.1:50094 - \"GET /predict HTTP/1.1\" 200 OK\n",
            "INFO:     127.0.0.1:50108 - \"GET /predict HTTP/1.1\" 200 OK\n",
            "INFO:     127.0.0.1:50110 - \"GET /predict HTTP/1.1\" 200 OK\n",
            "INFO:     127.0.0.1:50116 - \"GET /predict HTTP/1.1\" 200 OK\n",
            "INFO:     127.0.0.1:50124 - \"GET /predict HTTP/1.1\" 200 OK\n",
            "INFO:     127.0.0.1:33722 - \"GET /predict HTTP/1.1\" 200 OK\n",
            "INFO:     127.0.0.1:33728 - \"GET /predict HTTP/1.1\" 200 OK\n",
            "INFO:     127.0.0.1:33732 - \"GET /predict HTTP/1.1\" 200 OK\n",
            "INFO:     127.0.0.1:33740 - \"GET /predict HTTP/1.1\" 200 OK\n",
            "INFO:     127.0.0.1:33742 - \"GET /predict HTTP/1.1\" 200 OK\n",
            "INFO:     127.0.0.1:33750 - \"GET /predict HTTP/1.1\" 200 OK\n",
            "INFO:     127.0.0.1:33760 - \"GET /predict HTTP/1.1\" 200 OK\n",
            "INFO:     127.0.0.1:33770 - \"GET /predict HTTP/1.1\" 200 OK\n",
            "INFO:     127.0.0.1:33784 - \"GET /predict HTTP/1.1\" 200 OK\n",
            "INFO:     127.0.0.1:33800 - \"GET /predict HTTP/1.1\" 200 OK\n",
            "INFO:     127.0.0.1:33810 - \"GET /predict HTTP/1.1\" 200 OK\n",
            "INFO:     127.0.0.1:55242 - \"GET /predict HTTP/1.1\" 200 OK\n",
            "INFO:     127.0.0.1:55248 - \"GET /predict HTTP/1.1\" 200 OK\n",
            "INFO:     127.0.0.1:55254 - \"GET /predict HTTP/1.1\" 200 OK\n",
            "INFO:     127.0.0.1:55268 - \"GET /predict HTTP/1.1\" 200 OK\n",
            "INFO:     127.0.0.1:55282 - \"GET /predict HTTP/1.1\" 200 OK\n",
            "INFO:     127.0.0.1:55298 - \"GET /predict HTTP/1.1\" 200 OK\n",
            "INFO:     127.0.0.1:55302 - \"GET /predict HTTP/1.1\" 200 OK\n",
            "INFO:     127.0.0.1:55316 - \"GET /predict HTTP/1.1\" 200 OK\n",
            "INFO:     127.0.0.1:47310 - \"GET /predict HTTP/1.1\" 200 OK\n",
            "INFO:     127.0.0.1:47318 - \"GET /predict HTTP/1.1\" 200 OK\n",
            "INFO:     127.0.0.1:47328 - \"GET /predict HTTP/1.1\" 200 OK\n",
            "INFO:     127.0.0.1:47332 - \"GET /predict HTTP/1.1\" 200 OK\n",
            "INFO:     127.0.0.1:47348 - \"GET /predict HTTP/1.1\" 200 OK\n",
            "INFO:     127.0.0.1:47364 - \"GET /predict HTTP/1.1\" 200 OK\n",
            "INFO:     127.0.0.1:47380 - \"GET /predict HTTP/1.1\" 200 OK\n",
            "INFO:     127.0.0.1:47386 - \"GET /predict HTTP/1.1\" 200 OK\n",
            "INFO:     127.0.0.1:47388 - \"GET /predict HTTP/1.1\" 200 OK\n",
            "INFO:     127.0.0.1:59996 - \"GET /predict HTTP/1.1\" 200 OK\n",
            "INFO:     127.0.0.1:60012 - \"GET /predict HTTP/1.1\" 200 OK\n",
            "INFO:     127.0.0.1:60028 - \"GET /predict HTTP/1.1\" 200 OK\n",
            "INFO:     127.0.0.1:60042 - \"GET /predict HTTP/1.1\" 200 OK\n",
            "INFO:     127.0.0.1:60048 - \"GET /predict HTTP/1.1\" 200 OK\n",
            "INFO:     127.0.0.1:60062 - \"GET /predict HTTP/1.1\" 200 OK\n",
            "INFO:     127.0.0.1:60078 - \"GET /predict HTTP/1.1\" 200 OK\n",
            "INFO:     127.0.0.1:60094 - \"GET /predict HTTP/1.1\" 200 OK\n",
            "INFO:     127.0.0.1:60110 - \"GET /predict HTTP/1.1\" 200 OK\n",
            "INFO:     127.0.0.1:60112 - \"GET /predict HTTP/1.1\" 200 OK\n",
            "INFO:     127.0.0.1:60126 - \"GET /predict HTTP/1.1\" 200 OK\n",
            "INFO:     127.0.0.1:60140 - \"GET /predict HTTP/1.1\" 200 OK\n",
            "INFO:     127.0.0.1:60144 - \"GET /predict HTTP/1.1\" 200 OK\n",
            "INFO:     127.0.0.1:60158 - \"GET /predict HTTP/1.1\" 200 OK\n",
            "INFO:     127.0.0.1:60174 - \"GET /predict HTTP/1.1\" 200 OK\n",
            "INFO:     127.0.0.1:60190 - \"GET /predict HTTP/1.1\" 200 OK\n",
            "INFO:     127.0.0.1:60196 - \"GET /predict HTTP/1.1\" 200 OK\n",
            "INFO:     127.0.0.1:60208 - \"GET /predict HTTP/1.1\" 200 OK\n",
            "INFO:     127.0.0.1:60220 - \"GET /predict HTTP/1.1\" 200 OK\n",
            "INFO:     127.0.0.1:60236 - \"GET /predict HTTP/1.1\" 200 OK\n",
            "INFO:     127.0.0.1:60252 - \"GET /predict HTTP/1.1\" 200 OK\n",
            "INFO:     127.0.0.1:60260 - \"GET /predict HTTP/1.1\" 200 OK\n",
            "INFO:     127.0.0.1:60266 - \"GET /predict HTTP/1.1\" 200 OK\n",
            "INFO:     127.0.0.1:60276 - \"GET /predict HTTP/1.1\" 200 OK\n",
            "INFO:     127.0.0.1:60288 - \"GET /predict HTTP/1.1\" 200 OK\n",
            "INFO:     127.0.0.1:60300 - \"GET /predict HTTP/1.1\" 200 OK\n",
            "INFO:     127.0.0.1:60304 - \"GET /predict HTTP/1.1\" 200 OK\n",
            "INFO:     127.0.0.1:60310 - \"GET /predict HTTP/1.1\" 200 OK\n",
            "INFO:     127.0.0.1:60316 - \"GET /predict HTTP/1.1\" 200 OK\n",
            "INFO:     127.0.0.1:44500 - \"GET /predict HTTP/1.1\" 200 OK\n",
            "INFO:     127.0.0.1:44514 - \"GET /predict HTTP/1.1\" 200 OK\n",
            "INFO:     127.0.0.1:44518 - \"GET /predict HTTP/1.1\" 200 OK\n",
            "INFO:     127.0.0.1:44532 - \"GET /predict HTTP/1.1\" 200 OK\n",
            "INFO:     127.0.0.1:44258 - \"GET /predict HTTP/1.1\" 200 OK\n",
            "INFO:     127.0.0.1:44270 - \"GET /predict HTTP/1.1\" 200 OK\n",
            "INFO:     127.0.0.1:44276 - \"GET /predict HTTP/1.1\" 200 OK\n",
            "INFO:     127.0.0.1:44284 - \"GET /predict HTTP/1.1\" 200 OK\n",
            "INFO:     127.0.0.1:44296 - \"GET /predict HTTP/1.1\" 200 OK\n",
            "INFO:     127.0.0.1:44306 - \"GET /predict HTTP/1.1\" 200 OK\n",
            "INFO:     127.0.0.1:35984 - \"GET /predict HTTP/1.1\" 200 OK\n",
            "INFO:     127.0.0.1:36000 - \"GET /predict HTTP/1.1\" 200 OK\n",
            "INFO:     127.0.0.1:36010 - \"GET /predict HTTP/1.1\" 200 OK\n",
            "INFO:     127.0.0.1:36020 - \"GET /predict HTTP/1.1\" 200 OK\n",
            "INFO:     127.0.0.1:36024 - \"GET /predict HTTP/1.1\" 200 OK\n",
            "INFO:     127.0.0.1:36034 - \"GET /predict HTTP/1.1\" 200 OK\n",
            "INFO:     127.0.0.1:36048 - \"GET /predict HTTP/1.1\" 200 OK\n",
            "INFO:     127.0.0.1:36052 - \"GET /predict HTTP/1.1\" 200 OK\n",
            "INFO:     127.0.0.1:36064 - \"GET /predict HTTP/1.1\" 200 OK\n",
            "INFO:     127.0.0.1:36040 - \"GET /predict HTTP/1.1\" 200 OK\n",
            "INFO:     127.0.0.1:36046 - \"GET /predict HTTP/1.1\" 200 OK\n",
            "INFO:     127.0.0.1:36056 - \"GET /predict HTTP/1.1\" 200 OK\n",
            "INFO:     127.0.0.1:36058 - \"GET /predict HTTP/1.1\" 200 OK\n",
            "INFO:     127.0.0.1:36064 - \"GET /predict HTTP/1.1\" 200 OK\n",
            "INFO:     127.0.0.1:36080 - \"GET /predict HTTP/1.1\" 200 OK\n",
            "INFO:     127.0.0.1:36092 - \"GET /predict HTTP/1.1\" 200 OK\n",
            "INFO:     127.0.0.1:36094 - \"GET /predict HTTP/1.1\" 200 OK\n",
            "INFO:     127.0.0.1:36104 - \"GET /predict HTTP/1.1\" 200 OK\n",
            "INFO:     127.0.0.1:36114 - \"GET /predict HTTP/1.1\" 200 OK\n",
            "INFO:     127.0.0.1:51310 - \"GET /predict HTTP/1.1\" 200 OK\n",
            "INFO:     127.0.0.1:51324 - \"GET /predict HTTP/1.1\" 200 OK\n",
            "INFO:     127.0.0.1:51338 - \"GET /predict HTTP/1.1\" 200 OK\n",
            "INFO:     127.0.0.1:51352 - \"GET /predict HTTP/1.1\" 200 OK\n",
            "INFO:     127.0.0.1:51366 - \"GET /predict HTTP/1.1\" 200 OK\n",
            "INFO:     127.0.0.1:51368 - \"GET /predict HTTP/1.1\" 200 OK\n",
            "INFO:     127.0.0.1:51376 - \"GET /predict HTTP/1.1\" 200 OK\n",
            "INFO:     127.0.0.1:51390 - \"GET /predict HTTP/1.1\" 200 OK\n",
            "INFO:     127.0.0.1:51404 - \"GET /predict HTTP/1.1\" 200 OK\n",
            "WARNING:  StatReload detected changes in 'main.py'. Reloading...\n",
            "INFO:     Will watch for changes in these directories: ['/content']\n",
            "INFO:     Uvicorn running on http://0.0.0.0:8000 (Press CTRL+C to quit)\n",
            "INFO:     Started reloader process [5309] using StatReload\n",
            "pybullet build time: Oct 27 2025 03:29:19\n",
            "INFO:     Started server process [5314]\n",
            "INFO:     Waiting for application startup.\n",
            "INFO:     Application startup complete.\n",
            "INFO:     127.0.0.1:34634 - \"GET /drone HTTP/1.1\" 200 OK\n",
            "INFO:     127.0.0.1:34650 - \"GET /drone HTTP/1.1\" 200 OK\n",
            "INFO:     127.0.0.1:34662 - \"GET /drone HTTP/1.1\" 200 OK\n",
            "INFO:     127.0.0.1:34666 - \"GET /drone HTTP/1.1\" 200 OK\n",
            "INFO:     127.0.0.1:34676 - \"GET /drone HTTP/1.1\" 200 OK\n",
            "INFO:     127.0.0.1:34692 - \"GET /drone HTTP/1.1\" 200 OK\n",
            "INFO:     127.0.0.1:34704 - \"GET /drone HTTP/1.1\" 200 OK\n",
            "INFO:     127.0.0.1:34708 - \"GET /drone HTTP/1.1\" 200 OK\n",
            "INFO:     127.0.0.1:41934 - \"GET /drone HTTP/1.1\" 200 OK\n",
            "INFO:     127.0.0.1:41950 - \"GET /drone HTTP/1.1\" 200 OK\n",
            "INFO:     127.0.0.1:41954 - \"GET /drone HTTP/1.1\" 200 OK\n",
            "INFO:     127.0.0.1:41960 - \"GET /drone HTTP/1.1\" 200 OK\n",
            "INFO:     127.0.0.1:41964 - \"GET /drone HTTP/1.1\" 200 OK\n",
            "INFO:     127.0.0.1:41974 - \"GET /drone HTTP/1.1\" 200 OK\n",
            "INFO:     127.0.0.1:41982 - \"GET /drone HTTP/1.1\" 200 OK\n",
            "INFO:     127.0.0.1:41990 - \"GET /drone HTTP/1.1\" 200 OK\n",
            "INFO:     127.0.0.1:42002 - \"GET /drone HTTP/1.1\" 200 OK\n",
            "INFO:     127.0.0.1:42008 - \"GET /drone HTTP/1.1\" 200 OK\n",
            "INFO:     127.0.0.1:42020 - \"GET /drone HTTP/1.1\" 200 OK\n",
            "INFO:     127.0.0.1:42036 - \"GET /drone HTTP/1.1\" 200 OK\n",
            "INFO:     127.0.0.1:42052 - \"GET /drone HTTP/1.1\" 200 OK\n",
            "WARNING:  StatReload detected changes in 'main.py'. Reloading...\n",
            "INFO:     Shutting down\n",
            "INFO:     Waiting for application shutdown.\n",
            "INFO:     Application shutdown complete.\n",
            "INFO:     Finished server process [5314]\n"
          ]
        }
      ]
    },
    {
      "cell_type": "code",
      "source": [
        "!curl -X GET http://0.0.0.0:8000/predict"
      ],
      "metadata": {
        "id": "cvNN7fHc16OL",
        "colab": {
          "base_uri": "https://localhost:8080/"
        },
        "outputId": "05fea215-c173-4b8f-f3ad-f1968b44e05b"
      },
      "execution_count": 62,
      "outputs": [
        {
          "output_type": "stream",
          "name": "stdout",
          "text": [
            "{\"result\":88}"
          ]
        }
      ]
    },
    {
      "cell_type": "code",
      "source": [
        "# สร้าง dashboard\n",
        "API_URL = \"http://0.0.0.0:8000/predict\"\n",
        "\n",
        "def get_data():\n",
        "    res = requests.get(API_URL)\n",
        "    data = res.json()\n",
        "    thb_rate = data[\"result\"]\n",
        "    return f\"1 USD = {thb_rate:.2f} THB\"\n",
        "\n",
        "# UI\n",
        "with gr.Blocks() as demo:\n",
        "    gr.Markdown(\"### อัปเดตราคาค่าเงินจาก API (ไม่ reload หน้า)\")\n",
        "    output = gr.Textbox(label=\"ผลลัพธ์\", interactive=False)\n",
        "    btn = gr.Button(\"รีเฟรชข้อมูล\")\n",
        "\n",
        "    btn.click(fn=get_data, outputs=output)\n",
        "\n",
        "demo.launch()"
      ],
      "metadata": {
        "id": "_E7RDE0Hz3UF",
        "colab": {
          "base_uri": "https://localhost:8080/",
          "height": 625
        },
        "outputId": "d7a92fbb-5a60-422e-c50c-964ab039b68b"
      },
      "execution_count": 63,
      "outputs": [
        {
          "output_type": "stream",
          "name": "stdout",
          "text": [
            "It looks like you are running Gradio on a hosted Jupyter notebook, which requires `share=True`. Automatically setting `share=True` (you can turn this off by setting `share=False` in `launch()` explicitly).\n",
            "\n",
            "Colab notebook detected. To show errors in colab notebook, set debug=True in launch()\n",
            "* Running on public URL: https://d8e06c7bbe738e8e5d.gradio.live\n",
            "\n",
            "This share link expires in 1 week. For free permanent hosting and GPU upgrades, run `gradio deploy` from the terminal in the working directory to deploy to Hugging Face Spaces (https://huggingface.co/spaces)\n"
          ]
        },
        {
          "output_type": "display_data",
          "data": {
            "text/plain": [
              "<IPython.core.display.HTML object>"
            ],
            "text/html": [
              "<div><iframe src=\"https://d8e06c7bbe738e8e5d.gradio.live\" width=\"100%\" height=\"500\" allow=\"autoplay; camera; microphone; clipboard-read; clipboard-write;\" frameborder=\"0\" allowfullscreen></iframe></div>"
            ]
          },
          "metadata": {}
        },
        {
          "output_type": "execute_result",
          "data": {
            "text/plain": []
          },
          "metadata": {},
          "execution_count": 63
        }
      ]
    },
    {
      "cell_type": "code",
      "source": [
        "import gradio as gr\n",
        "import requests, datetime\n",
        "\n",
        "def get_data():\n",
        "    r = requests.get(\"http://0.0.0.0:8000/predict\")\n",
        "    data = r.json()\n",
        "    return f'{datetime.datetime.now():%H:%M:%S} → BTC/USD: {data[\"result\"]}'\n",
        "\n",
        "with gr.Blocks() as app:\n",
        "    out = gr.Textbox(label=\"Realtime Feed\", lines=2)\n",
        "\n",
        "    # Gradio 4.x+ syntax\n",
        "    gr.Timer(value=1).tick(fn=get_data, outputs=out)\n",
        "\n",
        "app.launch()"
      ],
      "metadata": {
        "id": "AkGVMvkI5z98",
        "colab": {
          "base_uri": "https://localhost:8080/",
          "height": 625
        },
        "outputId": "9823a659-9852-4761-c7ca-e6818f5de68f"
      },
      "execution_count": 64,
      "outputs": [
        {
          "output_type": "stream",
          "name": "stdout",
          "text": [
            "It looks like you are running Gradio on a hosted Jupyter notebook, which requires `share=True`. Automatically setting `share=True` (you can turn this off by setting `share=False` in `launch()` explicitly).\n",
            "\n",
            "Colab notebook detected. To show errors in colab notebook, set debug=True in launch()\n",
            "* Running on public URL: https://3403afce198b5751c7.gradio.live\n",
            "\n",
            "This share link expires in 1 week. For free permanent hosting and GPU upgrades, run `gradio deploy` from the terminal in the working directory to deploy to Hugging Face Spaces (https://huggingface.co/spaces)\n"
          ]
        },
        {
          "output_type": "display_data",
          "data": {
            "text/plain": [
              "<IPython.core.display.HTML object>"
            ],
            "text/html": [
              "<div><iframe src=\"https://3403afce198b5751c7.gradio.live\" width=\"100%\" height=\"500\" allow=\"autoplay; camera; microphone; clipboard-read; clipboard-write;\" frameborder=\"0\" allowfullscreen></iframe></div>"
            ]
          },
          "metadata": {}
        },
        {
          "output_type": "execute_result",
          "data": {
            "text/plain": []
          },
          "metadata": {},
          "execution_count": 64
        }
      ]
    },
    {
      "cell_type": "code",
      "source": [
        "import gradio as gr\n",
        "import requests\n",
        "import datetime\n",
        "import plotly.graph_objects as go\n",
        "from collections import deque\n",
        "\n",
        "# Keep track of data for the last few updates\n",
        "data_history = deque(maxlen=20) # Store the last 20 data points\n",
        "time_history = deque(maxlen=20) # Store timestamps\n",
        "\n",
        "API_URL = \"http://0.0.0.0:8000/predict\"\n",
        "\n",
        "def get_data_and_update_plot():\n",
        "    try:\n",
        "        r = requests.get(API_URL)\n",
        "        data = r.json()\n",
        "        price = data.get(\"result\")\n",
        "\n",
        "        if price is not None:\n",
        "            now = datetime.datetime.now()\n",
        "            data_history.append(price)\n",
        "            time_history.append(now)\n",
        "\n",
        "            # Create a Plotly figure\n",
        "            fig = go.Figure()\n",
        "            fig.add_trace(go.Scatter(x=list(time_history), y=list(data_history), mode='lines+markers'))\n",
        "\n",
        "            fig.update_layout(\n",
        "                title=\"Real-time BTC/USD Price\",\n",
        "                xaxis_title=\"Time\",\n",
        "                yaxis_title=\"Price\",\n",
        "                xaxis=dict(tickformat=\"%H:%M:%S\")\n",
        "            )\n",
        "\n",
        "            return fig, gr.update(value=f'{now:%H:%M:%S} → BTC/USD: {price}')\n",
        "        else:\n",
        "            return go.Figure(), gr.update(value=f'{datetime.datetime.now():%H:%M:%S} → Error: Could not get price')\n",
        "\n",
        "    except requests.exceptions.RequestException as e:\n",
        "        return go.Figure(), gr.update(value=f'{datetime.datetime.now():%H:%M:%S} → Error: {e}')\n",
        "    except Exception as e:\n",
        "        return go.Figure(), gr.update(value=f'{datetime.datetime.now():%H:%M:%S} → An unexpected error occurred: {e}')\n",
        "\n",
        "\n",
        "with gr.Blocks() as app:\n",
        "    gr.Markdown(\"### อัปเดตราคาค่าเงินจาก API และแสดงผลเป็นกราฟ\")\n",
        "\n",
        "    with gr.Row():\n",
        "        plot_output = gr.Plot(label=\"Realtime Price Graph\")\n",
        "        text_output = gr.Textbox(label=\"Latest Update\", lines=2, interactive=False)\n",
        "\n",
        "    # Gradio 4.x+ syntax\n",
        "    gr.Timer(value=1).tick(\n",
        "        fn=get_data_and_update_plot,\n",
        "        outputs=[plot_output, text_output]\n",
        "    )\n",
        "\n",
        "app.launch()"
      ],
      "metadata": {
        "id": "chmlES1gu9Ev",
        "colab": {
          "base_uri": "https://localhost:8080/",
          "height": 625
        },
        "outputId": "83cccb09-e10c-41cb-d44c-f00634e1bb36"
      },
      "execution_count": 65,
      "outputs": [
        {
          "output_type": "stream",
          "name": "stdout",
          "text": [
            "It looks like you are running Gradio on a hosted Jupyter notebook, which requires `share=True`. Automatically setting `share=True` (you can turn this off by setting `share=False` in `launch()` explicitly).\n",
            "\n",
            "Colab notebook detected. To show errors in colab notebook, set debug=True in launch()\n",
            "* Running on public URL: https://50389c1a355bcea704.gradio.live\n",
            "\n",
            "This share link expires in 1 week. For free permanent hosting and GPU upgrades, run `gradio deploy` from the terminal in the working directory to deploy to Hugging Face Spaces (https://huggingface.co/spaces)\n"
          ]
        },
        {
          "output_type": "display_data",
          "data": {
            "text/plain": [
              "<IPython.core.display.HTML object>"
            ],
            "text/html": [
              "<div><iframe src=\"https://50389c1a355bcea704.gradio.live\" width=\"100%\" height=\"500\" allow=\"autoplay; camera; microphone; clipboard-read; clipboard-write;\" frameborder=\"0\" allowfullscreen></iframe></div>"
            ]
          },
          "metadata": {}
        },
        {
          "output_type": "execute_result",
          "data": {
            "text/plain": []
          },
          "metadata": {},
          "execution_count": 65
        }
      ]
    },
    {
      "cell_type": "code",
      "source": [
        "!pip install pybullet\n",
        "# จำลองโดรน"
      ],
      "metadata": {
        "id": "miACFrSVYIgW",
        "colab": {
          "base_uri": "https://localhost:8080/"
        },
        "outputId": "df68873a-ef7f-4d41-bbb4-ca1134a50fc8"
      },
      "execution_count": 12,
      "outputs": [
        {
          "output_type": "stream",
          "name": "stdout",
          "text": [
            "Collecting pybullet\n",
            "  Downloading pybullet-3.2.7.tar.gz (80.5 MB)\n",
            "\u001b[2K     \u001b[90m━━━━━━━━━━━━━━━━━━━━━━━━━━━━━━━━━━━━━━━━\u001b[0m \u001b[32m80.5/80.5 MB\u001b[0m \u001b[31m7.5 MB/s\u001b[0m eta \u001b[36m0:00:00\u001b[0m\n",
            "\u001b[?25h  Preparing metadata (setup.py) ... \u001b[?25l\u001b[?25hdone\n",
            "Building wheels for collected packages: pybullet\n",
            "  Building wheel for pybullet (setup.py) ... \u001b[?25l\u001b[?25hdone\n",
            "  Created wheel for pybullet: filename=pybullet-3.2.7-cp312-cp312-linux_x86_64.whl size=99873451 sha256=85b8a8fb6f21f519a9b42abb96d64355a32cb9ea29cc9f61fed8b884175ddc74\n",
            "  Stored in directory: /root/.cache/pip/wheels/72/95/1d/b336e5ee612ae9a019bfff4dc0bedd100ee6f0570db205fdf8\n",
            "Successfully built pybullet\n",
            "Installing collected packages: pybullet\n",
            "Successfully installed pybullet-3.2.7\n"
          ]
        }
      ]
    },
    {
      "cell_type": "code",
      "source": [
        "!git clone https://github.com/utiasDSL/gym-pybullet-drones.git\n",
        "#  โมเดลโดรน\n",
        "# แกน x เป็นบวก = จากซ้ายไปขวา\n"
      ],
      "metadata": {
        "id": "ZC8hzQK8euqD",
        "colab": {
          "base_uri": "https://localhost:8080/"
        },
        "outputId": "d80a5abf-e325-4d33-99d8-53c7132ce6c2"
      },
      "execution_count": 13,
      "outputs": [
        {
          "output_type": "stream",
          "name": "stdout",
          "text": [
            "Cloning into 'gym-pybullet-drones'...\n",
            "remote: Enumerating objects: 5177, done.\u001b[K\n",
            "remote: Counting objects: 100% (58/58), done.\u001b[K\n",
            "remote: Compressing objects: 100% (31/31), done.\u001b[K\n",
            "remote: Total 5177 (delta 47), reused 27 (delta 27), pack-reused 5119 (from 3)\u001b[K\n",
            "Receiving objects: 100% (5177/5177), 118.79 MiB | 31.52 MiB/s, done.\n",
            "Resolving deltas: 100% (3375/3375), done.\n"
          ]
        }
      ]
    },
    {
      "cell_type": "markdown",
      "source": [
        "                ↑  Z  (ขึ้น)\n",
        "                |\n",
        "                |\n",
        "                |         🟦 Drone (โดรน)\n",
        "                |        /\n",
        "                |       /\n",
        "                |      /\n",
        "                |     /\n",
        "                |    /\n",
        "                |   /\n",
        "                |  /\n",
        "                | /\n",
        "                +--------------------→  X (ไปข้างหน้า)\n",
        "               /\n",
        "              /\n",
        "             /\n",
        "            /\n",
        "           ↓\n",
        "          Y (ไปทางขวา)\n"
      ],
      "metadata": {
        "id": "Ng0ByudTPwn3"
      }
    },
    {
      "cell_type": "code",
      "source": [
        "# โดยเบื้องต้นให้มันยกขึ้น\n",
        "# จำลองเป็นโลก ใช้ แกน z อย่างเดียว\n",
        "with open('main.py', 'w') as f:\n",
        "    f.write('''\n",
        "import pybullet as p\n",
        "import pybullet_data\n",
        "import time\n",
        "import datetime\n",
        "import json\n",
        "from fastapi import FastAPI\n",
        "from fastapi.responses import JSONResponse\n",
        "# import uvicorn\n",
        "import threading\n",
        "\n",
        "drone_state = {\"x\": 0, \"y\": 0, \"z\": 0, \"vx\": 0, \"vy\": 0, \"vz\": 0}\n",
        "\n",
        "def simulate_drone():\n",
        "    physicsClient = p.connect(p.DIRECT)\n",
        "    p.setAdditionalSearchPath(pybullet_data.getDataPath())\n",
        "    p.setGravity(0, 0, -9.81)\n",
        "    p.loadURDF(\"plane.urdf\")\n",
        "\n",
        "    drone_path = \"/content/gym-pybullet-drones/gym_pybullet_drones/assets/cf2x.urdf\"\n",
        "    drone = p.loadURDF(drone_path, [0, 0, 0])\n",
        "\n",
        "    mass = p.getDynamicsInfo(drone, -1)[0]\n",
        "    thrust = mass * 9.81 * 1.1  # ให้แรงมากกว่า hover เล็กน้อย\n",
        "\n",
        "    while True:\n",
        "        p.applyExternalForce(drone, -1, [0, 0, thrust], [0, 0, 0], p.WORLD_FRAME)\n",
        "        p.stepSimulation()\n",
        "\n",
        "        pos, _ = p.getBasePositionAndOrientation(drone)\n",
        "        vel, _ = p.getBaseVelocity(drone)\n",
        "\n",
        "        # คืนค่าเวลาปัจจุบันเป็นวินาทีตั้งแต่ 1 ม.ค. 1970\n",
        "        now_epoch = time.time()\n",
        "        now_iso = datetime.datetime.utcfromtimestamp(now_epoch).isoformat(timespec='microseconds') + \"Z\"\n",
        "\n",
        "        drone_state.update({\n",
        "            \"x\": pos[0],\n",
        "            \"y\": pos[1],\n",
        "            \"z\": pos[2],\n",
        "            \"vx\": vel[0],\n",
        "            \"vy\": vel[1],\n",
        "            \"vz\": vel[2],\n",
        "            \"timestamp\": now_iso,\n",
        "        })\n",
        "\n",
        "        time.sleep(1/240)\n",
        "\n",
        "# --- รัน PyBullet ใน background ---\n",
        "threading.Thread(target=simulate_drone, daemon=True).start()\n",
        "\n",
        "# --- สร้าง API ---\n",
        "app = FastAPI()\n",
        "\n",
        "@app.get(\"/drone\")\n",
        "def get_drone_state():\n",
        "    return JSONResponse(content=drone_state)\n",
        "\n",
        "''')"
      ],
      "metadata": {
        "id": "yO5sONjHHBVA"
      },
      "execution_count": 14,
      "outputs": []
    },
    {
      "cell_type": "code",
      "source": [
        "!kill -9 $(lsof -t -i:8000)"
      ],
      "metadata": {
        "id": "Yk0F_ZkkWeQF"
      },
      "execution_count": 15,
      "outputs": []
    },
    {
      "cell_type": "code",
      "source": [
        "!nohup uvicorn main:app --host 0.0.0.0 --port 8000 --reload &"
      ],
      "metadata": {
        "id": "mqoxZYkIWnej",
        "colab": {
          "base_uri": "https://localhost:8080/"
        },
        "outputId": "23821266-a991-41f9-c96a-cff655f82e2b"
      },
      "execution_count": 16,
      "outputs": [
        {
          "output_type": "stream",
          "name": "stdout",
          "text": [
            "nohup: appending output to 'nohup.out'\n"
          ]
        }
      ]
    },
    {
      "cell_type": "code",
      "source": [
        "# !cat nohup.out"
      ],
      "metadata": {
        "id": "2aAXrQHWWpfr"
      },
      "execution_count": 17,
      "outputs": []
    },
    {
      "cell_type": "code",
      "source": [
        "!curl -X GET http://0.0.0.0:8000/drone"
      ],
      "metadata": {
        "id": "UlClXDP8W0jT",
        "colab": {
          "base_uri": "https://localhost:8080/"
        },
        "outputId": "29d75b07-a329-4c8b-cc59-4348e0c23655"
      },
      "execution_count": 18,
      "outputs": [
        {
          "output_type": "stream",
          "name": "stdout",
          "text": [
            "curl: (7) Failed to connect to 0.0.0.0 port 8000 after 0 ms: Connection refused\n"
          ]
        }
      ]
    },
    {
      "cell_type": "code",
      "source": [
        "import gradio as gr\n",
        "import requests\n",
        "import plotly.graph_objects as go\n",
        "from collections import deque\n",
        "\n",
        "API_URL = \"http://0.0.0.0:8000/drone\"\n",
        "\n",
        "# เก็บประวัติพิกัด (200 จุดล่าสุด)\n",
        "x_history, y_history, z_history = deque(maxlen=200), deque(maxlen=200), deque(maxlen=200)\n",
        "\n",
        "def get_drone_data():\n",
        "    try:\n",
        "        r = requests.get(API_URL, timeout=1)\n",
        "        data = r.json()\n",
        "\n",
        "        x, y, z = data[\"x\"], data[\"y\"], data[\"z\"]\n",
        "        vx, vy, vz = data[\"vx\"], data[\"vy\"], data[\"vz\"]\n",
        "\n",
        "        speed_kmh = ((vx**2 + vy**2 + vz**2) ** 0.5) * 3.6\n",
        "\n",
        "        x_history.append(x)\n",
        "        y_history.append(y)\n",
        "        z_history.append(z)\n",
        "\n",
        "        pos_str = (\n",
        "            f\"Position (World Frame) \"\n",
        "            f\"X={x:.2f} m, Y={y:.2f} m, Z={z:.2f} m\\n\\n\"\n",
        "            f\"Velocity \"\n",
        "            f\"vx={vx:.3f}, vy={vy:.3f}, vz={vz:.3f} m/s\\n\\n\"\n",
        "            f\"Speed = {speed_kmh:.2f} km/h\"\n",
        "        )\n",
        "\n",
        "        # --- สร้าง Figure ---\n",
        "        fig3d = go.Figure()\n",
        "\n",
        "        # path\n",
        "        fig3d.add_trace(go.Scatter3d(\n",
        "            x=list(x_history),\n",
        "            y=list(y_history),\n",
        "            z=list(z_history),\n",
        "            mode=\"lines+markers\",\n",
        "            line=dict(color=list(range(len(x_history))), colorscale=\"Turbo\", width=5),\n",
        "            marker=dict(size=3, color=list(range(len(x_history))), colorscale=\"Turbo\", showscale=False),\n",
        "            name=\"Path\"\n",
        "        ))\n",
        "\n",
        "        # current drone\n",
        "        fig3d.add_trace(go.Scatter3d(\n",
        "            x=[x], y=[y], z=[z],\n",
        "            mode=\"markers\",\n",
        "            marker=dict(size=8, color=\"lime\", symbol=\"circle\"),\n",
        "            name=\"Current Position\"\n",
        "        ))\n",
        "\n",
        "        # --- จดจำมุมกล้องเดิมไว้ ---\n",
        "        camera = fig3d.layout.scene.camera if \"scene\" in fig3d.layout else None\n",
        "\n",
        "        margin = 5\n",
        "        if len(x_history) > 1:\n",
        "            x_range = [min(x_history)-margin, max(x_history)+margin]\n",
        "            y_range = [min(y_history)-margin, max(y_history)+margin]\n",
        "            z_range = [min(z_history)-margin, max(z_history)+margin]\n",
        "        else:\n",
        "            # กรอบเริ่มต้นกรณีข้อมูลยังน้อย\n",
        "            x_range, y_range, z_range = [-10, 10], [-10, 10], [0, 20]\n",
        "\n",
        "        # --- อัปเดต layout ---\n",
        "        fig3d.update_layout(\n",
        "            scene=dict(\n",
        "                xaxis=dict(title=\"X (Forward, m)\", range=x_range),\n",
        "                yaxis=dict(title=\"Y (Right, m)\", range=y_range),\n",
        "                zaxis=dict(title=\"Z (Up, m)\", range=z_range),\n",
        "                aspectmode=\"cube\"\n",
        "            ),\n",
        "            template=\"plotly_white\",\n",
        "            margin=dict(l=0, r=0, t=40, b=0),\n",
        "            height=800\n",
        "        )\n",
        "\n",
        "        if camera:\n",
        "            fig3d.update_layout(scene_camera=camera)\n",
        "\n",
        "        return fig3d, pos_str\n",
        "\n",
        "    except Exception as e:\n",
        "        return go.Figure(), f\"Error: {e}\"\n",
        "\n",
        "\n",
        "# --- สร้าง Gradio Dashboard ---\n",
        "with gr.Blocks(\n",
        "    css=\"\"\"\n",
        "        .gradio-container {max-width: 100% !important; padding: 0; margin: 0;}\n",
        "        #plot-area {width: 100%; height: 85vh !important;} /* เต็มหน้าจอ */\n",
        "        #header-text {text-align: center; margin-top: 8px;}\n",
        "    \"\"\"\n",
        ") as dashboard:\n",
        "    gr.Markdown(\"## 🚀 Drone Position & Velocity\", elem_id=\"header-text\")\n",
        "\n",
        "    info = gr.Textbox(label=\"Drone Status\", lines=6, interactive=False)\n",
        "    plot3d = gr.Plot(label=\"🛰️ Real-time 3D Drone Monitor\", elem_id=\"plot-area\")\n",
        "\n",
        "    gr.Timer(value=1).tick(fn=get_drone_data, outputs=[plot3d, info])\n",
        "\n",
        "dashboard.launch()\n"
      ],
      "metadata": {
        "id": "JLMscb_rXGMI",
        "colab": {
          "base_uri": "https://localhost:8080/",
          "height": 625
        },
        "outputId": "028909fb-65f8-4a54-e5a2-96aa33574a85"
      },
      "execution_count": 19,
      "outputs": [
        {
          "output_type": "stream",
          "name": "stdout",
          "text": [
            "It looks like you are running Gradio on a hosted Jupyter notebook, which requires `share=True`. Automatically setting `share=True` (you can turn this off by setting `share=False` in `launch()` explicitly).\n",
            "\n",
            "Colab notebook detected. To show errors in colab notebook, set debug=True in launch()\n",
            "* Running on public URL: https://5a632545c4019b52ed.gradio.live\n",
            "\n",
            "This share link expires in 1 week. For free permanent hosting and GPU upgrades, run `gradio deploy` from the terminal in the working directory to deploy to Hugging Face Spaces (https://huggingface.co/spaces)\n"
          ]
        },
        {
          "output_type": "display_data",
          "data": {
            "text/plain": [
              "<IPython.core.display.HTML object>"
            ],
            "text/html": [
              "<div><iframe src=\"https://5a632545c4019b52ed.gradio.live\" width=\"100%\" height=\"500\" allow=\"autoplay; camera; microphone; clipboard-read; clipboard-write;\" frameborder=\"0\" allowfullscreen></iframe></div>"
            ]
          },
          "metadata": {}
        },
        {
          "output_type": "execute_result",
          "data": {
            "text/plain": []
          },
          "metadata": {},
          "execution_count": 19
        }
      ]
    },
    {
      "cell_type": "code",
      "source": [
        "import requests\n",
        "from collections import deque\n",
        "\n",
        "API_URL = \"http://0.0.0.0:8000/drone\"\n",
        "\n",
        "# เก็บประวัติพิกัด (x จุดล่าสุด)\n",
        "window_size = 20\n",
        "x_history, y_history, z_history, iso_history = deque(maxlen=window_size), deque(maxlen=window_size), deque(maxlen=window_size), deque(maxlen=window_size)\n",
        "\n",
        "r = requests.get(API_URL, timeout=1)\n",
        "data = r.json()\n",
        "x, y, z, ios = data[\"x\"], data[\"y\"], data[\"z\"], data[\"timestamp\"]\n",
        "\n",
        "print(x, y, z, ios)\n",
        "\n",
        "x_history.append(x)\n",
        "y_history.append(y)\n",
        "z_history.append(z)\n",
        "iso_history.append(ios)\n",
        "\n",
        "x_history, y_history, z_history, iso_history"
      ],
      "metadata": {
        "id": "NixaPviBWfQx",
        "colab": {
          "base_uri": "https://localhost:8080/"
        },
        "outputId": "be0fb993-bd20-4321-fdea-03f2a713f094"
      },
      "execution_count": 20,
      "outputs": [
        {
          "output_type": "stream",
          "name": "stdout",
          "text": [
            "-7.312481825050914e-07 -8.330279314718645e-06 0.012836828732536006 2025-10-27T03:33:46.596025Z\n"
          ]
        },
        {
          "output_type": "execute_result",
          "data": {
            "text/plain": [
              "(deque([-7.312481825050914e-07]),\n",
              " deque([-8.330279314718645e-06]),\n",
              " deque([0.012836828732536006]),\n",
              " deque(['2025-10-27T03:33:46.596025Z']))"
            ]
          },
          "metadata": {},
          "execution_count": 20
        }
      ]
    },
    {
      "cell_type": "code",
      "source": [
        "import time\n",
        "import datetime\n",
        "from collections import deque\n",
        "import requests\n",
        "import numpy as np\n",
        "\n",
        "history = deque(maxlen=window_size)\n",
        "\n",
        "for _ in range(window_size):\n",
        "    r = requests.get(API_URL, timeout=1)\n",
        "    data = r.json()\n",
        "    # หน่วยของ timestamp() คือ วินาที\n",
        "    t = datetime.datetime.fromisoformat(data[\"timestamp\"].replace(\"Z\", \"+00:00\")).timestamp()\n",
        "    x, y, z = data[\"x\"], data[\"y\"], data[\"z\"]\n",
        "    history.append((t, x, y, z))\n",
        "    time.sleep(0.5)"
      ],
      "metadata": {
        "id": "clDBW8NOWuQV"
      },
      "execution_count": 21,
      "outputs": []
    },
    {
      "cell_type": "markdown",
      "source": [
        "                ↑  Z  (ขึ้น)\n",
        "                |\n",
        "                |\n",
        "                |         🟦 Drone (โดรน)\n",
        "                |        /\n",
        "                |       /\n",
        "                |      /\n",
        "                |     /\n",
        "                |    /\n",
        "                |   /\n",
        "                |  /\n",
        "                | /\n",
        "                +--------------------→  X (ไปข้างหน้า)\n",
        "               /\n",
        "              /\n",
        "             /\n",
        "            /\n",
        "           ↓\n",
        "          Y (ไปทางขวา)\n"
      ],
      "metadata": {
        "id": "uAII0ACUYxAI"
      }
    },
    {
      "cell_type": "code",
      "source": [
        "# ตำแหน่งป้อมปืน\n",
        "Pg = np.array([0.0, 0.0, 0.0])\n",
        "\n",
        "# ความเร็วของกระสุนปืน 200 m/s\n",
        "Vs = 200.0\n",
        "\n",
        "history[0][0]"
      ],
      "metadata": {
        "id": "PQ_Aa7p_Yg-h"
      },
      "execution_count": null,
      "outputs": []
    },
    {
      "cell_type": "code",
      "source": [
        "# ตำแหน่ง drone ปัจจุบัน\n",
        "\n",
        "Pd = np.array(history[-1][1:4])\n",
        "Pd"
      ],
      "metadata": {
        "id": "RdDMwzUZYz9i"
      },
      "execution_count": null,
      "outputs": []
    },
    {
      "cell_type": "code",
      "source": [
        "times = np.array([h[0] for h in history])\n",
        "coords = np.array([[h[1], h[2], h[3]] for h in history])"
      ],
      "metadata": {
        "id": "TWNKWlVUZSTJ"
      },
      "execution_count": 24,
      "outputs": []
    },
    {
      "cell_type": "code",
      "source": [
        "times.shape, coords.shape"
      ],
      "metadata": {
        "id": "cXsm-mMpddHl",
        "colab": {
          "base_uri": "https://localhost:8080/"
        },
        "outputId": "773b275d-08a6-4a39-c591-e331aa2efee3"
      },
      "execution_count": 25,
      "outputs": [
        {
          "output_type": "execute_result",
          "data": {
            "text/plain": [
              "((20,), (20, 3))"
            ]
          },
          "metadata": {},
          "execution_count": 25
        }
      ]
    },
    {
      "cell_type": "code",
      "source": [
        "t0 = times.mean()\n",
        "t0"
      ],
      "metadata": {
        "id": "eRpVWrUyddJw",
        "colab": {
          "base_uri": "https://localhost:8080/"
        },
        "outputId": "125aacc2-f016-458d-e1c8-929271e3f864"
      },
      "execution_count": 26,
      "outputs": [
        {
          "output_type": "execute_result",
          "data": {
            "text/plain": [
              "np.float64(1761536031.4323666)"
            ]
          },
          "metadata": {},
          "execution_count": 26
        }
      ]
    },
    {
      "cell_type": "code",
      "source": [
        "t_rel = times - t0\n",
        "t_rel"
      ],
      "metadata": {
        "id": "Y2EzX7hRddM9",
        "colab": {
          "base_uri": "https://localhost:8080/"
        },
        "outputId": "3f740108-171b-4c62-e3df-ffb9dc1d5182"
      },
      "execution_count": 27,
      "outputs": [
        {
          "output_type": "execute_result",
          "data": {
            "text/plain": [
              "array([-4.81091452, -4.29670167, -3.79270864, -3.28863358, -2.78216267,\n",
              "       -2.27454972, -1.76680851, -1.26195955, -0.75538468, -0.24894261,\n",
              "        0.25796533,  0.76368332,  1.26799846,  1.77229643,  2.27429748,\n",
              "        2.78127241,  3.28180432,  3.78806639,  4.29399538,  4.79738736])"
            ]
          },
          "metadata": {},
          "execution_count": 27
        }
      ]
    },
    {
      "cell_type": "code",
      "source": [
        "Vd = np.zeros(3, dtype=float)\n",
        "Vd"
      ],
      "metadata": {
        "id": "iA_O3lEceRKe",
        "colab": {
          "base_uri": "https://localhost:8080/"
        },
        "outputId": "4d9c239f-e4b2-411e-e326-0e95fc60bff6"
      },
      "execution_count": 28,
      "outputs": [
        {
          "output_type": "execute_result",
          "data": {
            "text/plain": [
              "array([0., 0., 0.])"
            ]
          },
          "metadata": {},
          "execution_count": 28
        }
      ]
    },
    {
      "cell_type": "code",
      "source": [
        "import plotly.graph_objects as go\n",
        "\n",
        "fig = go.Figure(data=go.Scatter(x=t_rel, y=coords[:, 2], mode='markers'))\n",
        "fig.update_layout(title='Z Coordinate over time', xaxis_title='t_rel (seconds)', yaxis_title='Z Coordinate')\n",
        "fig.show()"
      ],
      "metadata": {
        "id": "Fp0WbAmkhMJd",
        "colab": {
          "base_uri": "https://localhost:8080/",
          "height": 542
        },
        "outputId": "aa8b7b1a-b4c7-495b-d921-758568c63314"
      },
      "execution_count": 29,
      "outputs": [
        {
          "output_type": "display_data",
          "data": {
            "text/html": [
              "<html>\n",
              "<head><meta charset=\"utf-8\" /></head>\n",
              "<body>\n",
              "    <div>            <script src=\"https://cdnjs.cloudflare.com/ajax/libs/mathjax/2.7.5/MathJax.js?config=TeX-AMS-MML_SVG\"></script><script type=\"text/javascript\">if (window.MathJax && window.MathJax.Hub && window.MathJax.Hub.Config) {window.MathJax.Hub.Config({SVG: {font: \"STIX-Web\"}});}</script>                <script type=\"text/javascript\">window.PlotlyConfig = {MathJaxConfig: 'local'};</script>\n",
              "        <script charset=\"utf-8\" src=\"https://cdn.plot.ly/plotly-2.35.2.min.js\"></script>                <div id=\"3e01d12c-e83e-4500-ae31-1be213ddc77f\" class=\"plotly-graph-div\" style=\"height:525px; width:100%;\"></div>            <script type=\"text/javascript\">                                    window.PLOTLYENV=window.PLOTLYENV || {};                                    if (document.getElementById(\"3e01d12c-e83e-4500-ae31-1be213ddc77f\")) {                    Plotly.newPlot(                        \"3e01d12c-e83e-4500-ae31-1be213ddc77f\",                        [{\"mode\":\"markers\",\"x\":[-4.810914516448975,-4.296701669692993,-3.7927086353302,-3.2886335849761963,-2.782162666320801,-2.274549722671509,-1.7668085098266602,-1.2619595527648926,-0.7553846836090088,-0.24894261360168457,0.2579653263092041,0.7636833190917969,1.267998456954956,1.77229642868042,2.2742974758148193,2.7812724113464355,3.281804323196411,3.7880663871765137,4.293995380401611,4.797387361526489],\"y\":[0.019187673294607247,0.26682418291101573,0.7079444815597072,1.3402460132720326,2.1480975325820966,3.098734392374731,4.19122988946651,5.423149752583859,6.770792414656602,8.220467895340052,9.759371520327948,11.360737209166324,13.043398321221074,14.815627811117961,16.622118063061393,18.48777672590786,20.372753916948447,22.3053283866601,24.246188347241873,26.172882891972442],\"type\":\"scatter\"}],                        {\"template\":{\"data\":{\"histogram2dcontour\":[{\"type\":\"histogram2dcontour\",\"colorbar\":{\"outlinewidth\":0,\"ticks\":\"\"},\"colorscale\":[[0.0,\"#0d0887\"],[0.1111111111111111,\"#46039f\"],[0.2222222222222222,\"#7201a8\"],[0.3333333333333333,\"#9c179e\"],[0.4444444444444444,\"#bd3786\"],[0.5555555555555556,\"#d8576b\"],[0.6666666666666666,\"#ed7953\"],[0.7777777777777778,\"#fb9f3a\"],[0.8888888888888888,\"#fdca26\"],[1.0,\"#f0f921\"]]}],\"choropleth\":[{\"type\":\"choropleth\",\"colorbar\":{\"outlinewidth\":0,\"ticks\":\"\"}}],\"histogram2d\":[{\"type\":\"histogram2d\",\"colorbar\":{\"outlinewidth\":0,\"ticks\":\"\"},\"colorscale\":[[0.0,\"#0d0887\"],[0.1111111111111111,\"#46039f\"],[0.2222222222222222,\"#7201a8\"],[0.3333333333333333,\"#9c179e\"],[0.4444444444444444,\"#bd3786\"],[0.5555555555555556,\"#d8576b\"],[0.6666666666666666,\"#ed7953\"],[0.7777777777777778,\"#fb9f3a\"],[0.8888888888888888,\"#fdca26\"],[1.0,\"#f0f921\"]]}],\"heatmap\":[{\"type\":\"heatmap\",\"colorbar\":{\"outlinewidth\":0,\"ticks\":\"\"},\"colorscale\":[[0.0,\"#0d0887\"],[0.1111111111111111,\"#46039f\"],[0.2222222222222222,\"#7201a8\"],[0.3333333333333333,\"#9c179e\"],[0.4444444444444444,\"#bd3786\"],[0.5555555555555556,\"#d8576b\"],[0.6666666666666666,\"#ed7953\"],[0.7777777777777778,\"#fb9f3a\"],[0.8888888888888888,\"#fdca26\"],[1.0,\"#f0f921\"]]}],\"heatmapgl\":[{\"type\":\"heatmapgl\",\"colorbar\":{\"outlinewidth\":0,\"ticks\":\"\"},\"colorscale\":[[0.0,\"#0d0887\"],[0.1111111111111111,\"#46039f\"],[0.2222222222222222,\"#7201a8\"],[0.3333333333333333,\"#9c179e\"],[0.4444444444444444,\"#bd3786\"],[0.5555555555555556,\"#d8576b\"],[0.6666666666666666,\"#ed7953\"],[0.7777777777777778,\"#fb9f3a\"],[0.8888888888888888,\"#fdca26\"],[1.0,\"#f0f921\"]]}],\"contourcarpet\":[{\"type\":\"contourcarpet\",\"colorbar\":{\"outlinewidth\":0,\"ticks\":\"\"}}],\"contour\":[{\"type\":\"contour\",\"colorbar\":{\"outlinewidth\":0,\"ticks\":\"\"},\"colorscale\":[[0.0,\"#0d0887\"],[0.1111111111111111,\"#46039f\"],[0.2222222222222222,\"#7201a8\"],[0.3333333333333333,\"#9c179e\"],[0.4444444444444444,\"#bd3786\"],[0.5555555555555556,\"#d8576b\"],[0.6666666666666666,\"#ed7953\"],[0.7777777777777778,\"#fb9f3a\"],[0.8888888888888888,\"#fdca26\"],[1.0,\"#f0f921\"]]}],\"surface\":[{\"type\":\"surface\",\"colorbar\":{\"outlinewidth\":0,\"ticks\":\"\"},\"colorscale\":[[0.0,\"#0d0887\"],[0.1111111111111111,\"#46039f\"],[0.2222222222222222,\"#7201a8\"],[0.3333333333333333,\"#9c179e\"],[0.4444444444444444,\"#bd3786\"],[0.5555555555555556,\"#d8576b\"],[0.6666666666666666,\"#ed7953\"],[0.7777777777777778,\"#fb9f3a\"],[0.8888888888888888,\"#fdca26\"],[1.0,\"#f0f921\"]]}],\"mesh3d\":[{\"type\":\"mesh3d\",\"colorbar\":{\"outlinewidth\":0,\"ticks\":\"\"}}],\"scatter\":[{\"fillpattern\":{\"fillmode\":\"overlay\",\"size\":10,\"solidity\":0.2},\"type\":\"scatter\"}],\"parcoords\":[{\"type\":\"parcoords\",\"line\":{\"colorbar\":{\"outlinewidth\":0,\"ticks\":\"\"}}}],\"scatterpolargl\":[{\"type\":\"scatterpolargl\",\"marker\":{\"colorbar\":{\"outlinewidth\":0,\"ticks\":\"\"}}}],\"bar\":[{\"error_x\":{\"color\":\"#2a3f5f\"},\"error_y\":{\"color\":\"#2a3f5f\"},\"marker\":{\"line\":{\"color\":\"#E5ECF6\",\"width\":0.5},\"pattern\":{\"fillmode\":\"overlay\",\"size\":10,\"solidity\":0.2}},\"type\":\"bar\"}],\"scattergeo\":[{\"type\":\"scattergeo\",\"marker\":{\"colorbar\":{\"outlinewidth\":0,\"ticks\":\"\"}}}],\"scatterpolar\":[{\"type\":\"scatterpolar\",\"marker\":{\"colorbar\":{\"outlinewidth\":0,\"ticks\":\"\"}}}],\"histogram\":[{\"marker\":{\"pattern\":{\"fillmode\":\"overlay\",\"size\":10,\"solidity\":0.2}},\"type\":\"histogram\"}],\"scattergl\":[{\"type\":\"scattergl\",\"marker\":{\"colorbar\":{\"outlinewidth\":0,\"ticks\":\"\"}}}],\"scatter3d\":[{\"type\":\"scatter3d\",\"line\":{\"colorbar\":{\"outlinewidth\":0,\"ticks\":\"\"}},\"marker\":{\"colorbar\":{\"outlinewidth\":0,\"ticks\":\"\"}}}],\"scattermapbox\":[{\"type\":\"scattermapbox\",\"marker\":{\"colorbar\":{\"outlinewidth\":0,\"ticks\":\"\"}}}],\"scatterternary\":[{\"type\":\"scatterternary\",\"marker\":{\"colorbar\":{\"outlinewidth\":0,\"ticks\":\"\"}}}],\"scattercarpet\":[{\"type\":\"scattercarpet\",\"marker\":{\"colorbar\":{\"outlinewidth\":0,\"ticks\":\"\"}}}],\"carpet\":[{\"aaxis\":{\"endlinecolor\":\"#2a3f5f\",\"gridcolor\":\"white\",\"linecolor\":\"white\",\"minorgridcolor\":\"white\",\"startlinecolor\":\"#2a3f5f\"},\"baxis\":{\"endlinecolor\":\"#2a3f5f\",\"gridcolor\":\"white\",\"linecolor\":\"white\",\"minorgridcolor\":\"white\",\"startlinecolor\":\"#2a3f5f\"},\"type\":\"carpet\"}],\"table\":[{\"cells\":{\"fill\":{\"color\":\"#EBF0F8\"},\"line\":{\"color\":\"white\"}},\"header\":{\"fill\":{\"color\":\"#C8D4E3\"},\"line\":{\"color\":\"white\"}},\"type\":\"table\"}],\"barpolar\":[{\"marker\":{\"line\":{\"color\":\"#E5ECF6\",\"width\":0.5},\"pattern\":{\"fillmode\":\"overlay\",\"size\":10,\"solidity\":0.2}},\"type\":\"barpolar\"}],\"pie\":[{\"automargin\":true,\"type\":\"pie\"}]},\"layout\":{\"autotypenumbers\":\"strict\",\"colorway\":[\"#636efa\",\"#EF553B\",\"#00cc96\",\"#ab63fa\",\"#FFA15A\",\"#19d3f3\",\"#FF6692\",\"#B6E880\",\"#FF97FF\",\"#FECB52\"],\"font\":{\"color\":\"#2a3f5f\"},\"hovermode\":\"closest\",\"hoverlabel\":{\"align\":\"left\"},\"paper_bgcolor\":\"white\",\"plot_bgcolor\":\"#E5ECF6\",\"polar\":{\"bgcolor\":\"#E5ECF6\",\"angularaxis\":{\"gridcolor\":\"white\",\"linecolor\":\"white\",\"ticks\":\"\"},\"radialaxis\":{\"gridcolor\":\"white\",\"linecolor\":\"white\",\"ticks\":\"\"}},\"ternary\":{\"bgcolor\":\"#E5ECF6\",\"aaxis\":{\"gridcolor\":\"white\",\"linecolor\":\"white\",\"ticks\":\"\"},\"baxis\":{\"gridcolor\":\"white\",\"linecolor\":\"white\",\"ticks\":\"\"},\"caxis\":{\"gridcolor\":\"white\",\"linecolor\":\"white\",\"ticks\":\"\"}},\"coloraxis\":{\"colorbar\":{\"outlinewidth\":0,\"ticks\":\"\"}},\"colorscale\":{\"sequential\":[[0.0,\"#0d0887\"],[0.1111111111111111,\"#46039f\"],[0.2222222222222222,\"#7201a8\"],[0.3333333333333333,\"#9c179e\"],[0.4444444444444444,\"#bd3786\"],[0.5555555555555556,\"#d8576b\"],[0.6666666666666666,\"#ed7953\"],[0.7777777777777778,\"#fb9f3a\"],[0.8888888888888888,\"#fdca26\"],[1.0,\"#f0f921\"]],\"sequentialminus\":[[0.0,\"#0d0887\"],[0.1111111111111111,\"#46039f\"],[0.2222222222222222,\"#7201a8\"],[0.3333333333333333,\"#9c179e\"],[0.4444444444444444,\"#bd3786\"],[0.5555555555555556,\"#d8576b\"],[0.6666666666666666,\"#ed7953\"],[0.7777777777777778,\"#fb9f3a\"],[0.8888888888888888,\"#fdca26\"],[1.0,\"#f0f921\"]],\"diverging\":[[0,\"#8e0152\"],[0.1,\"#c51b7d\"],[0.2,\"#de77ae\"],[0.3,\"#f1b6da\"],[0.4,\"#fde0ef\"],[0.5,\"#f7f7f7\"],[0.6,\"#e6f5d0\"],[0.7,\"#b8e186\"],[0.8,\"#7fbc41\"],[0.9,\"#4d9221\"],[1,\"#276419\"]]},\"xaxis\":{\"gridcolor\":\"white\",\"linecolor\":\"white\",\"ticks\":\"\",\"title\":{\"standoff\":15},\"zerolinecolor\":\"white\",\"automargin\":true,\"zerolinewidth\":2},\"yaxis\":{\"gridcolor\":\"white\",\"linecolor\":\"white\",\"ticks\":\"\",\"title\":{\"standoff\":15},\"zerolinecolor\":\"white\",\"automargin\":true,\"zerolinewidth\":2},\"scene\":{\"xaxis\":{\"backgroundcolor\":\"#E5ECF6\",\"gridcolor\":\"white\",\"linecolor\":\"white\",\"showbackground\":true,\"ticks\":\"\",\"zerolinecolor\":\"white\",\"gridwidth\":2},\"yaxis\":{\"backgroundcolor\":\"#E5ECF6\",\"gridcolor\":\"white\",\"linecolor\":\"white\",\"showbackground\":true,\"ticks\":\"\",\"zerolinecolor\":\"white\",\"gridwidth\":2},\"zaxis\":{\"backgroundcolor\":\"#E5ECF6\",\"gridcolor\":\"white\",\"linecolor\":\"white\",\"showbackground\":true,\"ticks\":\"\",\"zerolinecolor\":\"white\",\"gridwidth\":2}},\"shapedefaults\":{\"line\":{\"color\":\"#2a3f5f\"}},\"annotationdefaults\":{\"arrowcolor\":\"#2a3f5f\",\"arrowhead\":0,\"arrowwidth\":1},\"geo\":{\"bgcolor\":\"white\",\"landcolor\":\"#E5ECF6\",\"subunitcolor\":\"white\",\"showland\":true,\"showlakes\":true,\"lakecolor\":\"white\"},\"title\":{\"x\":0.05},\"mapbox\":{\"style\":\"light\"}}},\"title\":{\"text\":\"Z Coordinate over time\"},\"xaxis\":{\"title\":{\"text\":\"t_rel (seconds)\"}},\"yaxis\":{\"title\":{\"text\":\"Z Coordinate\"}}},                        {\"responsive\": true}                    ).then(function(){\n",
              "                            \n",
              "var gd = document.getElementById('3e01d12c-e83e-4500-ae31-1be213ddc77f');\n",
              "var x = new MutationObserver(function (mutations, observer) {{\n",
              "        var display = window.getComputedStyle(gd).display;\n",
              "        if (!display || display === 'none') {{\n",
              "            console.log([gd, 'removed!']);\n",
              "            Plotly.purge(gd);\n",
              "            observer.disconnect();\n",
              "        }}\n",
              "}});\n",
              "\n",
              "// Listen for the removal of the full notebook cells\n",
              "var notebookContainer = gd.closest('#notebook-container');\n",
              "if (notebookContainer) {{\n",
              "    x.observe(notebookContainer, {childList: true});\n",
              "}}\n",
              "\n",
              "// Listen for the clearing of the current output cell\n",
              "var outputEl = gd.closest('.output');\n",
              "if (outputEl) {{\n",
              "    x.observe(outputEl, {childList: true});\n",
              "}}\n",
              "\n",
              "                        })                };                            </script>        </div>\n",
              "</body>\n",
              "</html>"
            ]
          },
          "metadata": {}
        }
      ]
    },
    {
      "cell_type": "code",
      "source": [
        "for i in range(3):\n",
        "  # fit line coord = a * t_rel + b\n",
        "  # a คือ slope คือ ความเร็วในแกนนั้น\n",
        "  # b คือ ค่าพิกัดของ Z ที่เวลาอ้างอิง (t_rel = 0)\n",
        "  a, b = np.polyfit(t_rel, coords[:, i], 1)\n",
        "  Vd[i] = a\n",
        "\n",
        "Vd"
      ],
      "metadata": {
        "id": "teFLbZTxeRM5",
        "colab": {
          "base_uri": "https://localhost:8080/"
        },
        "outputId": "5157b371-3f09-4293-f2c8-e7654cc83ac8"
      },
      "execution_count": 30,
      "outputs": [
        {
          "output_type": "execute_result",
          "data": {
            "text/plain": [
              "array([-8.20135114e-06,  1.82506191e-03,  2.83309977e+00])"
            ]
          },
          "metadata": {},
          "execution_count": 30
        }
      ]
    },
    {
      "cell_type": "code",
      "source": [
        "t_fit = np.linspace(t_rel.min(), t_rel.max(), 100)\n",
        "y_fit_z = a * t_fit + b\n",
        "\n",
        "fig = go.Figure()\n",
        "\n",
        "fig.add_trace(go.Scatter(x=t_rel, y=coords[:, 2], mode='markers', name='Original Z Data'))\n",
        "\n",
        "fig.add_trace(go.Scatter(x=t_fit, y=y_fit_z, mode='lines', name='Linear Fit (Z)', line=dict(color='red')))\n",
        "\n",
        "fig.update_layout(title='Z Coordinate with Linear Fit', xaxis_title='t_rel (seconds)', yaxis_title='Z Coordinate')\n",
        "fig.show()"
      ],
      "metadata": {
        "id": "kDTCeuKleat_",
        "colab": {
          "base_uri": "https://localhost:8080/",
          "height": 542
        },
        "outputId": "dadc8bcf-cb8d-4977-832b-c01c7092bf6b"
      },
      "execution_count": 31,
      "outputs": [
        {
          "output_type": "display_data",
          "data": {
            "text/html": [
              "<html>\n",
              "<head><meta charset=\"utf-8\" /></head>\n",
              "<body>\n",
              "    <div>            <script src=\"https://cdnjs.cloudflare.com/ajax/libs/mathjax/2.7.5/MathJax.js?config=TeX-AMS-MML_SVG\"></script><script type=\"text/javascript\">if (window.MathJax && window.MathJax.Hub && window.MathJax.Hub.Config) {window.MathJax.Hub.Config({SVG: {font: \"STIX-Web\"}});}</script>                <script type=\"text/javascript\">window.PlotlyConfig = {MathJaxConfig: 'local'};</script>\n",
              "        <script charset=\"utf-8\" src=\"https://cdn.plot.ly/plotly-2.35.2.min.js\"></script>                <div id=\"420408e6-ca56-45a2-ab9c-250b3b4402c2\" class=\"plotly-graph-div\" style=\"height:525px; width:100%;\"></div>            <script type=\"text/javascript\">                                    window.PLOTLYENV=window.PLOTLYENV || {};                                    if (document.getElementById(\"420408e6-ca56-45a2-ab9c-250b3b4402c2\")) {                    Plotly.newPlot(                        \"420408e6-ca56-45a2-ab9c-250b3b4402c2\",                        [{\"mode\":\"markers\",\"name\":\"Original Z Data\",\"x\":[-4.810914516448975,-4.296701669692993,-3.7927086353302,-3.2886335849761963,-2.782162666320801,-2.274549722671509,-1.7668085098266602,-1.2619595527648926,-0.7553846836090088,-0.24894261360168457,0.2579653263092041,0.7636833190917969,1.267998456954956,1.77229642868042,2.2742974758148193,2.7812724113464355,3.281804323196411,3.7880663871765137,4.293995380401611,4.797387361526489],\"y\":[0.019187673294607247,0.26682418291101573,0.7079444815597072,1.3402460132720326,2.1480975325820966,3.098734392374731,4.19122988946651,5.423149752583859,6.770792414656602,8.220467895340052,9.759371520327948,11.360737209166324,13.043398321221074,14.815627811117961,16.622118063061393,18.48777672590786,20.372753916948447,22.3053283866601,24.246188347241873,26.172882891972442],\"type\":\"scatter\"},{\"line\":{\"color\":\"red\"},\"mode\":\"lines\",\"name\":\"Linear Fit (Z)\",\"x\":[-4.810914516448975,-4.71386096212599,-4.616807407803005,-4.5197538534800215,-4.422700299157037,-4.325646744834052,-4.228593190511067,-4.131539636188084,-4.034486081865099,-3.9374325275421143,-3.8403789732191296,-3.7433254188961453,-3.6462718645731607,-3.5492183102501764,-3.4521647559271917,-3.355111201604207,-3.258057647281223,-3.1610040929582386,-3.063950538635254,-2.9668969843122692,-2.869843429989285,-2.7727898756663003,-2.675736321343316,-2.5786827670203314,-2.4816292126973467,-2.3845756583743625,-2.287522104051378,-2.1904685497283936,-2.093414995405409,-1.9963614410824246,-1.89930788675944,-1.8022543324364557,-1.705200778113471,-1.6081472237904864,-1.5110936694675021,-1.4140401151445174,-1.3169865608215332,-1.2199330064985485,-1.1228794521755643,-1.0258258978525796,-0.9287723435295954,-0.8317187892066107,-0.734665234883626,-0.6376116805606413,-0.5405581262376575,-0.44350457191467285,-0.34645101759168817,-0.2493974632687035,-0.1523439089457188,-0.055290354622735016,0.041763199700249665,0.13881675402323435,0.23587030834621903,0.3329238626692028,0.4299774169921875,0.5270309713151722,0.6240845256381569,0.7211380799611415,0.8181916342841253,0.91524518860711,1.0122987429300947,1.1093522972530794,1.2064058515760632,1.3034594058990479,1.4005129602220325,1.4975665145450172,1.594620068868002,1.6916736231909857,1.7887271775139704,1.885780731836955,1.9828342861599397,2.0798878404829235,2.176941394805908,2.273994949128893,2.3710485034518776,2.4681020577748622,2.565155612097846,2.6622091664208307,2.7592627207438154,2.8563162750668,2.953369829389784,3.0504233837127686,3.1474769380357532,3.244530492358738,3.3415840466817226,3.4386376010047073,3.535691155327692,3.632744709650675,3.7297982639736595,3.8268518182966442,3.923905372619629,4.020958926942614,4.118012481265598,4.215066035588583,4.312119589911568,4.409173144234552,4.506226698557537,4.60328025288052,4.700333807203505,4.797387361526489],\"y\":[-3.161158027392851,-2.8861956252226495,-2.611233223052448,-2.33627082088225,-2.0613084187120485,-1.786346016541847,-1.5113836143716473,-1.2364212122014475,-0.9614588100312478,-0.6864964078610463,-0.41153400569084475,-0.136571603520645,0.1383907986495565,0.41335320081975624,0.688315602989956,0.9632780051601575,1.2382404073303572,1.513202809500557,1.7881652116707585,2.06312761384096,2.3380900160111597,2.6130524181813604,2.88801482035156,3.1629772225217616,3.4379396246919622,3.712902026862162,3.9878644290323635,4.262826831202563,4.537789233372764,4.8127516355429645,5.087714037713165,5.362676439883365,5.637638842053566,5.912601244223767,6.187563646393967,6.462526048564168,6.737488450734368,7.0124508529045695,7.287413255074769,7.56237565724497,7.83733805941517,8.11230046158537,8.387262863755572,8.662225265925773,8.937187668095971,9.212150070266173,9.487112472436374,9.762074874606574,10.037037276776775,10.311999678946973,10.586962081117175,10.861924483287376,11.136886885457578,11.411849287627776,11.686811689797977,11.961774091968177,12.236736494138379,12.51169889630858,12.786661298478778,13.06162370064898,13.336586102819181,13.611548504989383,13.88651090715958,14.161473309329782,14.436435711499982,14.711398113670183,14.986360515840385,15.261322918010585,15.536285320180784,15.811247722350986,16.086210124521187,16.361172526691384,16.636134928861587,16.911097331031787,17.186059733201986,17.46102213537219,17.735984537542386,18.01094693971259,18.28590934188279,18.56087174405299,18.835834146223192,19.11079654839339,19.38575895056359,19.660721352733795,19.935683754903994,20.210646157074194,20.485608559244397,20.760570961414594,21.035533363584793,21.310495765754993,21.585458167925196,21.860420570095396,22.135382972265596,22.4103453744358,22.685307776606,22.9602701787762,23.235232580946402,23.510194983116598,23.7851573852868,24.060119787456998],\"type\":\"scatter\"}],                        {\"template\":{\"data\":{\"histogram2dcontour\":[{\"type\":\"histogram2dcontour\",\"colorbar\":{\"outlinewidth\":0,\"ticks\":\"\"},\"colorscale\":[[0.0,\"#0d0887\"],[0.1111111111111111,\"#46039f\"],[0.2222222222222222,\"#7201a8\"],[0.3333333333333333,\"#9c179e\"],[0.4444444444444444,\"#bd3786\"],[0.5555555555555556,\"#d8576b\"],[0.6666666666666666,\"#ed7953\"],[0.7777777777777778,\"#fb9f3a\"],[0.8888888888888888,\"#fdca26\"],[1.0,\"#f0f921\"]]}],\"choropleth\":[{\"type\":\"choropleth\",\"colorbar\":{\"outlinewidth\":0,\"ticks\":\"\"}}],\"histogram2d\":[{\"type\":\"histogram2d\",\"colorbar\":{\"outlinewidth\":0,\"ticks\":\"\"},\"colorscale\":[[0.0,\"#0d0887\"],[0.1111111111111111,\"#46039f\"],[0.2222222222222222,\"#7201a8\"],[0.3333333333333333,\"#9c179e\"],[0.4444444444444444,\"#bd3786\"],[0.5555555555555556,\"#d8576b\"],[0.6666666666666666,\"#ed7953\"],[0.7777777777777778,\"#fb9f3a\"],[0.8888888888888888,\"#fdca26\"],[1.0,\"#f0f921\"]]}],\"heatmap\":[{\"type\":\"heatmap\",\"colorbar\":{\"outlinewidth\":0,\"ticks\":\"\"},\"colorscale\":[[0.0,\"#0d0887\"],[0.1111111111111111,\"#46039f\"],[0.2222222222222222,\"#7201a8\"],[0.3333333333333333,\"#9c179e\"],[0.4444444444444444,\"#bd3786\"],[0.5555555555555556,\"#d8576b\"],[0.6666666666666666,\"#ed7953\"],[0.7777777777777778,\"#fb9f3a\"],[0.8888888888888888,\"#fdca26\"],[1.0,\"#f0f921\"]]}],\"heatmapgl\":[{\"type\":\"heatmapgl\",\"colorbar\":{\"outlinewidth\":0,\"ticks\":\"\"},\"colorscale\":[[0.0,\"#0d0887\"],[0.1111111111111111,\"#46039f\"],[0.2222222222222222,\"#7201a8\"],[0.3333333333333333,\"#9c179e\"],[0.4444444444444444,\"#bd3786\"],[0.5555555555555556,\"#d8576b\"],[0.6666666666666666,\"#ed7953\"],[0.7777777777777778,\"#fb9f3a\"],[0.8888888888888888,\"#fdca26\"],[1.0,\"#f0f921\"]]}],\"contourcarpet\":[{\"type\":\"contourcarpet\",\"colorbar\":{\"outlinewidth\":0,\"ticks\":\"\"}}],\"contour\":[{\"type\":\"contour\",\"colorbar\":{\"outlinewidth\":0,\"ticks\":\"\"},\"colorscale\":[[0.0,\"#0d0887\"],[0.1111111111111111,\"#46039f\"],[0.2222222222222222,\"#7201a8\"],[0.3333333333333333,\"#9c179e\"],[0.4444444444444444,\"#bd3786\"],[0.5555555555555556,\"#d8576b\"],[0.6666666666666666,\"#ed7953\"],[0.7777777777777778,\"#fb9f3a\"],[0.8888888888888888,\"#fdca26\"],[1.0,\"#f0f921\"]]}],\"surface\":[{\"type\":\"surface\",\"colorbar\":{\"outlinewidth\":0,\"ticks\":\"\"},\"colorscale\":[[0.0,\"#0d0887\"],[0.1111111111111111,\"#46039f\"],[0.2222222222222222,\"#7201a8\"],[0.3333333333333333,\"#9c179e\"],[0.4444444444444444,\"#bd3786\"],[0.5555555555555556,\"#d8576b\"],[0.6666666666666666,\"#ed7953\"],[0.7777777777777778,\"#fb9f3a\"],[0.8888888888888888,\"#fdca26\"],[1.0,\"#f0f921\"]]}],\"mesh3d\":[{\"type\":\"mesh3d\",\"colorbar\":{\"outlinewidth\":0,\"ticks\":\"\"}}],\"scatter\":[{\"fillpattern\":{\"fillmode\":\"overlay\",\"size\":10,\"solidity\":0.2},\"type\":\"scatter\"}],\"parcoords\":[{\"type\":\"parcoords\",\"line\":{\"colorbar\":{\"outlinewidth\":0,\"ticks\":\"\"}}}],\"scatterpolargl\":[{\"type\":\"scatterpolargl\",\"marker\":{\"colorbar\":{\"outlinewidth\":0,\"ticks\":\"\"}}}],\"bar\":[{\"error_x\":{\"color\":\"#2a3f5f\"},\"error_y\":{\"color\":\"#2a3f5f\"},\"marker\":{\"line\":{\"color\":\"#E5ECF6\",\"width\":0.5},\"pattern\":{\"fillmode\":\"overlay\",\"size\":10,\"solidity\":0.2}},\"type\":\"bar\"}],\"scattergeo\":[{\"type\":\"scattergeo\",\"marker\":{\"colorbar\":{\"outlinewidth\":0,\"ticks\":\"\"}}}],\"scatterpolar\":[{\"type\":\"scatterpolar\",\"marker\":{\"colorbar\":{\"outlinewidth\":0,\"ticks\":\"\"}}}],\"histogram\":[{\"marker\":{\"pattern\":{\"fillmode\":\"overlay\",\"size\":10,\"solidity\":0.2}},\"type\":\"histogram\"}],\"scattergl\":[{\"type\":\"scattergl\",\"marker\":{\"colorbar\":{\"outlinewidth\":0,\"ticks\":\"\"}}}],\"scatter3d\":[{\"type\":\"scatter3d\",\"line\":{\"colorbar\":{\"outlinewidth\":0,\"ticks\":\"\"}},\"marker\":{\"colorbar\":{\"outlinewidth\":0,\"ticks\":\"\"}}}],\"scattermapbox\":[{\"type\":\"scattermapbox\",\"marker\":{\"colorbar\":{\"outlinewidth\":0,\"ticks\":\"\"}}}],\"scatterternary\":[{\"type\":\"scatterternary\",\"marker\":{\"colorbar\":{\"outlinewidth\":0,\"ticks\":\"\"}}}],\"scattercarpet\":[{\"type\":\"scattercarpet\",\"marker\":{\"colorbar\":{\"outlinewidth\":0,\"ticks\":\"\"}}}],\"carpet\":[{\"aaxis\":{\"endlinecolor\":\"#2a3f5f\",\"gridcolor\":\"white\",\"linecolor\":\"white\",\"minorgridcolor\":\"white\",\"startlinecolor\":\"#2a3f5f\"},\"baxis\":{\"endlinecolor\":\"#2a3f5f\",\"gridcolor\":\"white\",\"linecolor\":\"white\",\"minorgridcolor\":\"white\",\"startlinecolor\":\"#2a3f5f\"},\"type\":\"carpet\"}],\"table\":[{\"cells\":{\"fill\":{\"color\":\"#EBF0F8\"},\"line\":{\"color\":\"white\"}},\"header\":{\"fill\":{\"color\":\"#C8D4E3\"},\"line\":{\"color\":\"white\"}},\"type\":\"table\"}],\"barpolar\":[{\"marker\":{\"line\":{\"color\":\"#E5ECF6\",\"width\":0.5},\"pattern\":{\"fillmode\":\"overlay\",\"size\":10,\"solidity\":0.2}},\"type\":\"barpolar\"}],\"pie\":[{\"automargin\":true,\"type\":\"pie\"}]},\"layout\":{\"autotypenumbers\":\"strict\",\"colorway\":[\"#636efa\",\"#EF553B\",\"#00cc96\",\"#ab63fa\",\"#FFA15A\",\"#19d3f3\",\"#FF6692\",\"#B6E880\",\"#FF97FF\",\"#FECB52\"],\"font\":{\"color\":\"#2a3f5f\"},\"hovermode\":\"closest\",\"hoverlabel\":{\"align\":\"left\"},\"paper_bgcolor\":\"white\",\"plot_bgcolor\":\"#E5ECF6\",\"polar\":{\"bgcolor\":\"#E5ECF6\",\"angularaxis\":{\"gridcolor\":\"white\",\"linecolor\":\"white\",\"ticks\":\"\"},\"radialaxis\":{\"gridcolor\":\"white\",\"linecolor\":\"white\",\"ticks\":\"\"}},\"ternary\":{\"bgcolor\":\"#E5ECF6\",\"aaxis\":{\"gridcolor\":\"white\",\"linecolor\":\"white\",\"ticks\":\"\"},\"baxis\":{\"gridcolor\":\"white\",\"linecolor\":\"white\",\"ticks\":\"\"},\"caxis\":{\"gridcolor\":\"white\",\"linecolor\":\"white\",\"ticks\":\"\"}},\"coloraxis\":{\"colorbar\":{\"outlinewidth\":0,\"ticks\":\"\"}},\"colorscale\":{\"sequential\":[[0.0,\"#0d0887\"],[0.1111111111111111,\"#46039f\"],[0.2222222222222222,\"#7201a8\"],[0.3333333333333333,\"#9c179e\"],[0.4444444444444444,\"#bd3786\"],[0.5555555555555556,\"#d8576b\"],[0.6666666666666666,\"#ed7953\"],[0.7777777777777778,\"#fb9f3a\"],[0.8888888888888888,\"#fdca26\"],[1.0,\"#f0f921\"]],\"sequentialminus\":[[0.0,\"#0d0887\"],[0.1111111111111111,\"#46039f\"],[0.2222222222222222,\"#7201a8\"],[0.3333333333333333,\"#9c179e\"],[0.4444444444444444,\"#bd3786\"],[0.5555555555555556,\"#d8576b\"],[0.6666666666666666,\"#ed7953\"],[0.7777777777777778,\"#fb9f3a\"],[0.8888888888888888,\"#fdca26\"],[1.0,\"#f0f921\"]],\"diverging\":[[0,\"#8e0152\"],[0.1,\"#c51b7d\"],[0.2,\"#de77ae\"],[0.3,\"#f1b6da\"],[0.4,\"#fde0ef\"],[0.5,\"#f7f7f7\"],[0.6,\"#e6f5d0\"],[0.7,\"#b8e186\"],[0.8,\"#7fbc41\"],[0.9,\"#4d9221\"],[1,\"#276419\"]]},\"xaxis\":{\"gridcolor\":\"white\",\"linecolor\":\"white\",\"ticks\":\"\",\"title\":{\"standoff\":15},\"zerolinecolor\":\"white\",\"automargin\":true,\"zerolinewidth\":2},\"yaxis\":{\"gridcolor\":\"white\",\"linecolor\":\"white\",\"ticks\":\"\",\"title\":{\"standoff\":15},\"zerolinecolor\":\"white\",\"automargin\":true,\"zerolinewidth\":2},\"scene\":{\"xaxis\":{\"backgroundcolor\":\"#E5ECF6\",\"gridcolor\":\"white\",\"linecolor\":\"white\",\"showbackground\":true,\"ticks\":\"\",\"zerolinecolor\":\"white\",\"gridwidth\":2},\"yaxis\":{\"backgroundcolor\":\"#E5ECF6\",\"gridcolor\":\"white\",\"linecolor\":\"white\",\"showbackground\":true,\"ticks\":\"\",\"zerolinecolor\":\"white\",\"gridwidth\":2},\"zaxis\":{\"backgroundcolor\":\"#E5ECF6\",\"gridcolor\":\"white\",\"linecolor\":\"white\",\"showbackground\":true,\"ticks\":\"\",\"zerolinecolor\":\"white\",\"gridwidth\":2}},\"shapedefaults\":{\"line\":{\"color\":\"#2a3f5f\"}},\"annotationdefaults\":{\"arrowcolor\":\"#2a3f5f\",\"arrowhead\":0,\"arrowwidth\":1},\"geo\":{\"bgcolor\":\"white\",\"landcolor\":\"#E5ECF6\",\"subunitcolor\":\"white\",\"showland\":true,\"showlakes\":true,\"lakecolor\":\"white\"},\"title\":{\"x\":0.05},\"mapbox\":{\"style\":\"light\"}}},\"title\":{\"text\":\"Z Coordinate with Linear Fit\"},\"xaxis\":{\"title\":{\"text\":\"t_rel (seconds)\"}},\"yaxis\":{\"title\":{\"text\":\"Z Coordinate\"}}},                        {\"responsive\": true}                    ).then(function(){\n",
              "                            \n",
              "var gd = document.getElementById('420408e6-ca56-45a2-ab9c-250b3b4402c2');\n",
              "var x = new MutationObserver(function (mutations, observer) {{\n",
              "        var display = window.getComputedStyle(gd).display;\n",
              "        if (!display || display === 'none') {{\n",
              "            console.log([gd, 'removed!']);\n",
              "            Plotly.purge(gd);\n",
              "            observer.disconnect();\n",
              "        }}\n",
              "}});\n",
              "\n",
              "// Listen for the removal of the full notebook cells\n",
              "var notebookContainer = gd.closest('#notebook-container');\n",
              "if (notebookContainer) {{\n",
              "    x.observe(notebookContainer, {childList: true});\n",
              "}}\n",
              "\n",
              "// Listen for the clearing of the current output cell\n",
              "var outputEl = gd.closest('.output');\n",
              "if (outputEl) {{\n",
              "    x.observe(outputEl, {childList: true});\n",
              "}}\n",
              "\n",
              "                        })                };                            </script>        </div>\n",
              "</body>\n",
              "</html>"
            ]
          },
          "metadata": {}
        }
      ]
    },
    {
      "cell_type": "code",
      "source": [
        "# ตำแหน่ง drone ปัจจุบัน\n",
        "Pd"
      ],
      "metadata": {
        "id": "CuS0z3Yweawo",
        "colab": {
          "base_uri": "https://localhost:8080/"
        },
        "outputId": "fc444e25-c6b6-45d6-d9ce-e949d2b4b478"
      },
      "execution_count": 32,
      "outputs": [
        {
          "output_type": "execute_result",
          "data": {
            "text/plain": [
              "array([-8.04968960e-05,  1.77420676e-02,  2.61728829e+01])"
            ]
          },
          "metadata": {},
          "execution_count": 32
        }
      ]
    },
    {
      "cell_type": "code",
      "source": [
        "# ความเร็วของโดรน\n",
        "Vd"
      ],
      "metadata": {
        "id": "VLyJSzHLk38u",
        "colab": {
          "base_uri": "https://localhost:8080/"
        },
        "outputId": "e694cb3d-ca8d-4bc7-cf89-ea9d4b8e1526"
      },
      "execution_count": 33,
      "outputs": [
        {
          "data": {
            "text/plain": [
              "array([-8.20135114e-06,  1.82506191e-03,  2.83309977e+00])"
            ]
          },
          "execution_count": 33,
          "metadata": {},
          "output_type": "execute_result"
        }
      ]
    },
    {
      "cell_type": "code",
      "source": [
        "# ตำแหน่งป้อมปืน\n",
        "Pg"
      ],
      "metadata": {
        "id": "_eUBQMbnji8U",
        "colab": {
          "base_uri": "https://localhost:8080/"
        },
        "outputId": "64ee4943-823b-435e-db66-a331f899d414"
      },
      "execution_count": 34,
      "outputs": [
        {
          "data": {
            "text/plain": [
              "array([0., 0., 0.])"
            ]
          },
          "execution_count": 34,
          "metadata": {},
          "output_type": "execute_result"
        }
      ]
    },
    {
      "cell_type": "code",
      "source": [
        "# ความเร็วของกระสุน\n",
        "Vs"
      ],
      "metadata": {
        "id": "tTAwhe6gk-dT",
        "colab": {
          "base_uri": "https://localhost:8080/"
        },
        "outputId": "9fd8a079-287f-4314-f58e-978f99822f4b"
      },
      "execution_count": 35,
      "outputs": [
        {
          "data": {
            "text/plain": [
              "200.0"
            ]
          },
          "execution_count": 35,
          "metadata": {},
          "output_type": "execute_result"
        }
      ]
    },
    {
      "cell_type": "code",
      "source": [
        "# ตำแหน่งของโดรน (Pd) เทียบกับตำแหน่งของป้อมปืน (Pg)\n",
        "P_rel = Pd - Pg\n",
        "P_rel"
      ],
      "metadata": {
        "id": "vRq9IFkpjS0K",
        "colab": {
          "base_uri": "https://localhost:8080/"
        },
        "outputId": "084321d0-8491-4dbf-fd4d-07f3fa0dc356"
      },
      "execution_count": 36,
      "outputs": [
        {
          "output_type": "execute_result",
          "data": {
            "text/plain": [
              "array([-8.04968960e-05,  1.77420676e-02,  2.61728829e+01])"
            ]
          },
          "metadata": {},
          "execution_count": 36
        }
      ]
    },
    {
      "cell_type": "markdown",
      "source": [
        "เราต้องหาค่าเวลา t ที่กระสุนกับโดรนจะอยู่ที่จุดเดียวกัน\n",
        "at^2+bt+c=0\n",
        "\n",
        "a บอกว่า กระสุนเร็วกว่าหรือช้ากว่าโดรนมากแค่ไหน\n",
        "\n",
        "b บอกว่า โดรนกำลังเคลื่อนที่เข้าหรือออกจากป้อมเร็วแค่ไหน\n",
        "\n",
        "c คือ โดรนอยู่ห่างจากป้อมแค่ไหนในตอนเริ่มต้น"
      ],
      "metadata": {
        "id": "6iRPeevUlWg9"
      }
    },
    {
      "cell_type": "code",
      "source": [
        "# vx² + vy² + vz²\n",
        "a = np.dot(Vd, Vd) - Vs**2\n",
        "\n",
        "a"
      ],
      "metadata": {
        "id": "LjTEJ6NljS2M",
        "colab": {
          "base_uri": "https://localhost:8080/"
        },
        "outputId": "520c51fb-48f8-494d-8276-700b3ef283cb"
      },
      "execution_count": 37,
      "outputs": [
        {
          "data": {
            "text/plain": [
              "np.float64(-39991.973542377484)"
            ]
          },
          "execution_count": 37,
          "metadata": {},
          "output_type": "execute_result"
        }
      ]
    },
    {
      "cell_type": "code",
      "source": [
        "b = 2.0 * np.dot(P_rel, Vd)\n",
        "b"
      ],
      "metadata": {
        "id": "vDw8dn0MjS4q",
        "colab": {
          "base_uri": "https://localhost:8080/"
        },
        "outputId": "fbc3aee3-ae83-49d2-afe6-0f30ae961139"
      },
      "execution_count": 38,
      "outputs": [
        {
          "data": {
            "text/plain": [
              "np.float64(148.30084162483956)"
            ]
          },
          "execution_count": 38,
          "metadata": {},
          "output_type": "execute_result"
        }
      ]
    },
    {
      "cell_type": "code",
      "source": [
        "c = np.dot(P_rel, P_rel)\n",
        "c"
      ],
      "metadata": {
        "id": "XLpX5QXyrlaW",
        "colab": {
          "base_uri": "https://localhost:8080/"
        },
        "outputId": "8b5e8271-661b-41d8-9007-873071a62bd3"
      },
      "execution_count": 39,
      "outputs": [
        {
          "data": {
            "text/plain": [
              "np.float64(685.0201136643467)"
            ]
          },
          "execution_count": 39,
          "metadata": {},
          "output_type": "execute_result"
        }
      ]
    },
    {
      "cell_type": "markdown",
      "source": [
        "AI Projectile Intercept Formula for Gaming, without Trigonometry\n",
        "\n",
        "https://medium.com/andys-coding-blog/ai-projectile-intercept-formula-for-gaming-without-trigonometry-37b70ef5718b\n"
      ],
      "metadata": {
        "id": "08k63aN6vfe-"
      }
    },
    {
      "cell_type": "code",
      "source": [
        "# quadratic\n",
        "disc = b*b - 4*a*c\n",
        "sqrt_disc = np.sqrt(disc)\n",
        "t1 = (-b + sqrt_disc) / (2*a)\n",
        "t2 = (-b - sqrt_disc) / (2*a)\n",
        "\n",
        "t1, t2"
      ],
      "metadata": {
        "id": "nzBoxspQuvi5",
        "colab": {
          "base_uri": "https://localhost:8080/"
        },
        "outputId": "e2b97909-e37a-4291-f936-72b7d46ed0a1"
      },
      "execution_count": 40,
      "outputs": [
        {
          "output_type": "execute_result",
          "data": {
            "text/plain": [
              "(np.float64(-0.12903657667298424), np.float64(0.1327448418194315))"
            ]
          },
          "metadata": {},
          "execution_count": 40
        }
      ]
    },
    {
      "cell_type": "code",
      "source": [
        "ts = [t for t in (t1, t2) if t > 1e-9]\n",
        "ts"
      ],
      "metadata": {
        "id": "L1K6xe8Vwfxm",
        "colab": {
          "base_uri": "https://localhost:8080/"
        },
        "outputId": "07d033d2-4e59-4748-df54-19d91bbd78ad"
      },
      "execution_count": 41,
      "outputs": [
        {
          "data": {
            "text/plain": [
              "[np.float64(0.1327448418194315)]"
            ]
          },
          "execution_count": 41,
          "metadata": {},
          "output_type": "execute_result"
        }
      ]
    },
    {
      "cell_type": "code",
      "source": [
        "t = min(ts)\n",
        "t"
      ],
      "metadata": {
        "id": "Iked8CU1wWGC",
        "colab": {
          "base_uri": "https://localhost:8080/"
        },
        "outputId": "be06f309-8b2c-4845-be4a-e09f63fd16d7"
      },
      "execution_count": 42,
      "outputs": [
        {
          "data": {
            "text/plain": [
              "np.float64(0.1327448418194315)"
            ]
          },
          "execution_count": 42,
          "metadata": {},
          "output_type": "execute_result"
        }
      ]
    },
    {
      "cell_type": "code",
      "source": [
        "P_hit = Pd + Vd * t\n",
        "P_hit"
      ],
      "metadata": {
        "id": "ZKViNCDXw3Vk",
        "colab": {
          "base_uri": "https://localhost:8080/"
        },
        "outputId": "acf121f0-a246-46b0-c10c-a668585450b1"
      },
      "execution_count": 43,
      "outputs": [
        {
          "output_type": "execute_result",
          "data": {
            "text/plain": [
              "array([-8.15855831e-05,  1.79843352e-02,  2.65489623e+01])"
            ]
          },
          "metadata": {},
          "execution_count": 43
        }
      ]
    },
    {
      "cell_type": "code",
      "source": [
        "def estimate_velocity_linear_regression(history):\n",
        "    if len(history) < 2:\n",
        "        return np.array([0.0, 0.0, 0.0])\n",
        "    times = np.array([h[0] for h in history])\n",
        "    coords = np.array([[h[1], h[2], h[3]] for h in history])\n",
        "    t0 = times.mean()\n",
        "    t_rel = times - t0\n",
        "    v = np.zeros(3, dtype=float)\n",
        "    for i in range(3):\n",
        "        a, b = np.polyfit(t_rel, coords[:, i], 1)\n",
        "        v[i] = a\n",
        "    return v\n",
        "\n",
        "def compute_intercept_point(Pd, Vd, Pg, Vs, eps=1e-6):\n",
        "    P_rel = Pd - Pg\n",
        "    a = np.dot(Vd, Vd) - Vs**2\n",
        "    b = 2.0 * np.dot(P_rel, Vd)\n",
        "    c = np.dot(P_rel, P_rel)\n",
        "\n",
        "    # if a is approx zero -> linear equation b t + c = 0\n",
        "    if abs(a) < eps:\n",
        "        if abs(b) < eps:\n",
        "            return (None, None)  # no motion relative or degenerate\n",
        "        t = -c / b\n",
        "        if t > 0:\n",
        "            P_hit = Pd + Vd * t\n",
        "            return P_hit, t\n",
        "        else:\n",
        "            return (None, None)\n",
        "\n",
        "    disc = b*b - 4*a*c\n",
        "    if disc < 0:\n",
        "        return (None, None)\n",
        "    sqrt_disc = np.sqrt(disc)\n",
        "    t1 = (-b + sqrt_disc) / (2*a)\n",
        "    t2 = (-b - sqrt_disc) / (2*a)\n",
        "\n",
        "    ts = [t for t in (t1, t2) if t > 1e-9]\n",
        "    if not ts:\n",
        "        return (None, None)\n",
        "    t = min(ts)\n",
        "    P_hit = Pd + Vd * t\n",
        "    return P_hit, t"
      ],
      "metadata": {
        "id": "QJtflwD9C1_Z"
      },
      "execution_count": 44,
      "outputs": []
    },
    {
      "cell_type": "markdown",
      "source": [
        "การคำนวนการหมุนปากลำกล้องปืน"
      ],
      "metadata": {
        "id": "D6hcWTbC7VpJ"
      }
    },
    {
      "cell_type": "code",
      "source": [
        "# ตำแหน่งป้อมปืน\n",
        "Pg"
      ],
      "metadata": {
        "id": "RAlOiqoczJVg",
        "colab": {
          "base_uri": "https://localhost:8080/"
        },
        "outputId": "e95f1d30-26f1-443d-feb6-260d1af23495"
      },
      "execution_count": 45,
      "outputs": [
        {
          "output_type": "execute_result",
          "data": {
            "text/plain": [
              "array([0., 0., 0.])"
            ]
          },
          "metadata": {},
          "execution_count": 45
        }
      ]
    },
    {
      "cell_type": "code",
      "source": [
        "# ปากลำกล้องยื่นออก 0.5 m สูง 0.2 m\n",
        "barrel_offset = np.array([0.5, 0, 0.2])\n",
        "barrel_offset"
      ],
      "metadata": {
        "id": "8yFQ05Xb7gzC",
        "colab": {
          "base_uri": "https://localhost:8080/"
        },
        "outputId": "dcb8545e-eb6d-4b36-e8cb-87a5ca680509"
      },
      "execution_count": 46,
      "outputs": [
        {
          "output_type": "execute_result",
          "data": {
            "text/plain": [
              "array([0.5, 0. , 0.2])"
            ]
          },
          "metadata": {},
          "execution_count": 46
        }
      ]
    },
    {
      "cell_type": "code",
      "source": [
        "Pg_barrel = Pg + barrel_offset\n",
        "Pg_barrel"
      ],
      "metadata": {
        "id": "bEAeyltP8yGJ",
        "colab": {
          "base_uri": "https://localhost:8080/"
        },
        "outputId": "f5158704-2323-4b66-b672-7155d164a7b2"
      },
      "execution_count": 47,
      "outputs": [
        {
          "data": {
            "text/plain": [
              "array([0.5, 0. , 0.2])"
            ]
          },
          "execution_count": 47,
          "metadata": {},
          "output_type": "execute_result"
        }
      ]
    },
    {
      "cell_type": "code",
      "source": [
        "# จุดที่จะยิงโดย\n",
        "P_hit"
      ],
      "metadata": {
        "id": "1Y5uZ-sB7g1V",
        "colab": {
          "base_uri": "https://localhost:8080/"
        },
        "outputId": "ebca9db5-8279-42dd-a88f-cbc7fc991e48"
      },
      "execution_count": 48,
      "outputs": [
        {
          "output_type": "execute_result",
          "data": {
            "text/plain": [
              "array([-8.15855831e-05,  1.79843352e-02,  2.65489623e+01])"
            ]
          },
          "metadata": {},
          "execution_count": 48
        }
      ]
    },
    {
      "cell_type": "code",
      "source": [
        "# คำนวณเวกเตอร์จาก ปากลำกล้องไปจุดเป้า\n",
        "\n",
        "D = P_hit - Pg_barrel\n",
        "D"
      ],
      "metadata": {
        "id": "fxRAE6PY7g3-",
        "colab": {
          "base_uri": "https://localhost:8080/"
        },
        "outputId": "7996d0b3-f358-487f-eec0-6317d3e21a1e"
      },
      "execution_count": 49,
      "outputs": [
        {
          "output_type": "execute_result",
          "data": {
            "text/plain": [
              "array([-5.00081586e-01,  1.79843352e-02,  2.63489623e+01])"
            ]
          },
          "metadata": {},
          "execution_count": 49
        }
      ]
    },
    {
      "cell_type": "code",
      "source": [
        "dx, dy, dz = D\n",
        "\n",
        "# มุมหมุนซ้าย/ขวา\n",
        "yaw = np.arctan2(dy, dx)\n",
        "\n",
        "# มุมเงย/ก้ม\n",
        "# pitch = np.arctan2(dz, np.sqrt(dx**2 + dy**2))\n",
        "pitch = np.arctan2(dz, np.hypot(dx, dy))\n",
        "\n",
        "yaw_deg = np.degrees(yaw)\n",
        "pitch_deg = np.degrees(pitch)\n",
        "\n",
        "print(f\"Yaw (radians) {yaw}, (degrees) {yaw_deg}\")\n",
        "print(f\"Pitch (radians) {pitch}, (degrees) {pitch_deg}\")"
      ],
      "metadata": {
        "id": "AXANB1K1zJYr",
        "colab": {
          "base_uri": "https://localhost:8080/"
        },
        "outputId": "60ccae7e-99ef-4e4d-ca07-73b1ef5b6438"
      },
      "execution_count": 50,
      "outputs": [
        {
          "metadata": {
            "tags": null
          },
          "name": "stdout",
          "output_type": "stream",
          "text": [
            "Yaw (radians) 3.1056453431700737, (degrees) 177.94037082810343\n",
            "Pitch (radians) 1.551807164667509, (degrees) 88.91200115361103\n"
          ]
        }
      ]
    },
    {
      "cell_type": "code",
      "source": [
        "P_hit, t = compute_intercept_point(Pd, Vd, Pg_barrel, Vs)\n",
        "P_hit, t"
      ],
      "metadata": {
        "id": "nsI_RGnQCfAA",
        "colab": {
          "base_uri": "https://localhost:8080/"
        },
        "outputId": "ee67b15f-799e-46ae-acf7-df19c623a64c"
      },
      "execution_count": 51,
      "outputs": [
        {
          "data": {
            "text/plain": [
              "(array([-8.15774613e-05,  1.79825278e-02,  2.65461567e+01]),\n",
              " np.float64(0.13175454218293015))"
            ]
          },
          "execution_count": 51,
          "metadata": {},
          "output_type": "execute_result"
        }
      ]
    },
    {
      "cell_type": "code",
      "source": [
        "def compute_yaw_pitch(P_hit, Pg_barrel):\n",
        "  dx, dy, dz = np.array(P_hit) - np.array(Pg_barrel)\n",
        "  yaw = np.degrees(np.arctan2(dy, dx))\n",
        "  pitch = np.degrees(np.arctan2(dz, np.hypot(dx, dy)))\n",
        "  return yaw, pitch"
      ],
      "metadata": {
        "id": "jX1jiiKCw3Y5"
      },
      "execution_count": 52,
      "outputs": []
    },
    {
      "cell_type": "code",
      "source": [
        "yaw, pitch = compute_yaw_pitch(P_hit, Pg_barrel)\n",
        "yaw, pitch"
      ],
      "metadata": {
        "id": "39NpdBFAw3bs",
        "colab": {
          "base_uri": "https://localhost:8080/"
        },
        "outputId": "26deb32a-e5e9-4972-b02f-c2b190b2dd81"
      },
      "execution_count": 53,
      "outputs": [
        {
          "output_type": "execute_result",
          "data": {
            "text/plain": [
              "(np.float64(177.94057760144386), np.float64(88.91188547867858))"
            ]
          },
          "metadata": {},
          "execution_count": 53
        }
      ]
    },
    {
      "cell_type": "markdown",
      "source": [
        "Code เต็ม"
      ],
      "metadata": {
        "id": "L9GVJwjtPRnL"
      }
    },
    {
      "cell_type": "code",
      "source": [
        "import gradio as gr\n",
        "import requests\n",
        "import plotly.graph_objects as go\n",
        "from collections import deque\n",
        "import numpy as np\n",
        "import datetime\n",
        "import time\n",
        "\n",
        "API_URL = \"http://0.0.0.0:8000/drone\"\n",
        "\n",
        "# เก็บประวัติพิกัด/เวลา (สำหรับ estimate velocity)\n",
        "window_size = 20\n",
        "history = deque(maxlen=window_size)\n",
        "\n",
        "# เก็บประวัติแค่เพื่อวาด path\n",
        "x_history, y_history, z_history = deque(maxlen=200), deque(maxlen=200), deque(maxlen=200)\n",
        "\n",
        "# ป้อมปืน / barrel offset (ปรับตามของจริง)\n",
        "Pg = np.array([0.0, 0.0, 0.0])\n",
        "barrel_offset = np.array([0.5, 0.0, 0.2])   # ตัวอย่าง ปากลำกล้องยื่นไป 0.5m และสูง 0.2m\n",
        "Pg_barrel = Pg + barrel_offset\n",
        "\n",
        "# ความเร็วกระสุน (m/s)\n",
        "Vs = 200.0\n",
        "\n",
        "firing = False               # True เมื่อ user กด Fire และยังไม่ถึงเวลา impact\n",
        "fire_target_epoch = None     # epoch (seconds) เมื่อควรยิงจริง (now + t)\n",
        "last_P_hit = None            # เก็บ P_hit ปัจจุบัน (สำหรับแสดง marker impact)\n",
        "impact_record = None         # เก็บข้อมูลตอน fired (P_hit, epoch)\n",
        "\n",
        "def estimate_velocity_linear_regression(history):\n",
        "    if len(history) < 2:\n",
        "        return np.array([0.0, 0.0, 0.0])\n",
        "    times = np.array([h[0] for h in history])\n",
        "    coords = np.array([[h[1], h[2], h[3]] for h in history])\n",
        "    t0 = times.mean()\n",
        "    t_rel = times - t0\n",
        "    v = np.zeros(3, dtype=float)\n",
        "    for i in range(3):\n",
        "        a, b = np.polyfit(t_rel, coords[:, i], 1)  # a = slope = velocity\n",
        "        v[i] = a\n",
        "    return v\n",
        "\n",
        "def compute_intercept_point(Pd, Vd, Pg, Vs, eps=1e-6):\n",
        "    P_rel = Pd - Pg\n",
        "    a = np.dot(Vd, Vd) - Vs**2\n",
        "    b = 2.0 * np.dot(P_rel, Vd)\n",
        "    c = np.dot(P_rel, P_rel)\n",
        "\n",
        "    if abs(a) < eps:\n",
        "        # linear: b t + c = 0\n",
        "        if abs(b) < eps:\n",
        "            return (None, None)\n",
        "        t = -c / b\n",
        "        if t > 0:\n",
        "            P_hit = Pd + Vd * t\n",
        "            return P_hit, t\n",
        "        else:\n",
        "            return (None, None)\n",
        "\n",
        "    disc = b*b - 4*a*c\n",
        "    if disc < 0:\n",
        "        return (None, None)\n",
        "    sqrt_disc = np.sqrt(disc)\n",
        "    t1 = (-b + sqrt_disc) / (2*a)\n",
        "    t2 = (-b - sqrt_disc) / (2*a)\n",
        "    ts = [t for t in (t1, t2) if t > 1e-9]\n",
        "    if not ts:\n",
        "        return (None, None)\n",
        "    t = min(ts)\n",
        "    P_hit = Pd + Vd * t\n",
        "    return P_hit, t\n",
        "\n",
        "def compute_yaw_pitch(P_hit, Pg_barrel):\n",
        "    dx, dy, dz = np.array(P_hit) - np.array(Pg_barrel)\n",
        "    yaw = np.degrees(np.arctan2(dy, dx))\n",
        "    pitch = np.degrees(np.arctan2(dz, np.hypot(dx, dy)))\n",
        "    return float(yaw), float(pitch)\n",
        "\n",
        "def prepare_fire():\n",
        "    \"\"\"\n",
        "    เมื่อกด Fire: อ่านสถานะปัจจุบันของโดรน (ล่าสุดจาก history if available),\n",
        "    คำนวณ P_hit,t แล้วตั้ง fire_target_epoch = now + t\n",
        "    \"\"\"\n",
        "    global firing, fire_target_epoch, last_P_hit, impact_record\n",
        "\n",
        "    # ต้องมีข้อมูลล่าสุดใน history\n",
        "    if len(history) == 0:\n",
        "        return \"No drone data to compute intercept (history empty).\"\n",
        "\n",
        "    # ใช้สถานะปัจจุบัน (ล่าสุด)\n",
        "    t_now, x, y, z = history[-1]\n",
        "    Pd = np.array([x, y, z])\n",
        "    Vd = estimate_velocity_linear_regression(history)\n",
        "    P_hit, t_to_hit = compute_intercept_point(Pd, Vd, Pg_barrel, Vs)\n",
        "\n",
        "    if P_hit is None or t_to_hit is None:\n",
        "        return \"No intercept solution (cannot fire).\"\n",
        "\n",
        "    last_P_hit = P_hit\n",
        "    firing = True\n",
        "    fire_target_epoch = time.time() + float(t_to_hit)\n",
        "    impact_record = None\n",
        "    fire_time_iso = datetime.datetime.utcfromtimestamp(fire_target_epoch).isoformat(timespec='seconds') + \"Z\"\n",
        "    return f\"Firing prepared — impact in {t_to_hit:.2f} s (target at {fire_time_iso} UTC).\"\n",
        "\n",
        "def get_drone_data_and_plot():\n",
        "    global last_P_hit, firing, fire_target_epoch, impact_record\n",
        "\n",
        "    try:\n",
        "        r = requests.get(API_URL, timeout=1)\n",
        "        data = r.json()\n",
        "\n",
        "        # position & velocity from API\n",
        "        x, y, z = data[\"x\"], data[\"y\"], data[\"z\"]\n",
        "        vx, vy, vz = data[\"vx\"], data[\"vy\"], data[\"vz\"]\n",
        "\n",
        "        # timestamp from API (ISO) -> seconds\n",
        "        ts_str = data.get(\"timestamp\")\n",
        "        if ts_str:\n",
        "            t_seconds = datetime.datetime.fromisoformat(ts_str.replace(\"Z\", \"+00:00\")).timestamp()\n",
        "        else:\n",
        "            t_seconds = time.time()\n",
        "\n",
        "        # update histories\n",
        "        history.append((t_seconds, x, y, z))\n",
        "        x_history.append(x); y_history.append(y); z_history.append(z)\n",
        "\n",
        "        # estimate velocity from recent history\n",
        "        Vd = estimate_velocity_linear_regression(history)\n",
        "\n",
        "        # current drone pos\n",
        "        Pd = np.array([x, y, z])\n",
        "\n",
        "        # compute intercept (update aiming)\n",
        "        P_hit, t_to_hit = compute_intercept_point(Pd, Vd, Pg_barrel, Vs)\n",
        "        if P_hit is not None:\n",
        "            last_P_hit = P_hit\n",
        "\n",
        "        # prepare status string (pos, vel, speed)\n",
        "        speed_kmh = ((vx**2 + vy**2 + vz**2) ** 0.5) * 3.6\n",
        "        pos_str = (\n",
        "            f\"Position (World Frame)\\n\"\n",
        "            f\"({x:.2f}, {y:.2f}, {z:.2f}) m\\n\\n\"\n",
        "            f\"Velocity (API)\\n\"\n",
        "            f\"({vx:.3f}, {vy:.3f}, {vz:.3f}) m/s\\n\\n\"\n",
        "            f\"Speed\\n{speed_kmh:.2f} km/h\\n\\n\"\n",
        "        )\n",
        "\n",
        "        if P_hit is not None and t_to_hit is not None:\n",
        "            yaw_deg, pitch_deg = compute_yaw_pitch(P_hit, Pg_barrel)\n",
        "            pos_str += f\"<<Current predicted HIT>>\\nt\\n{t_to_hit:.2f}s\\n\\nP_hit\\n({P_hit[0]:.3f}, {P_hit[1]:.3f}, {P_hit[2]:.3f}) m\\n\\n\"\n",
        "            pos_str += f\"Yaw\\n({yaw_deg:.2f}°, Pitch={pitch_deg:.2f}°)\\n\"\n",
        "        else:\n",
        "            pos_str += \"No intercept solution (P_hit not found)\\n\"\n",
        "\n",
        "        # If firing was prepared, compute countdown to target epoch\n",
        "        if firing and fire_target_epoch is not None:\n",
        "            remaining = fire_target_epoch - time.time()\n",
        "            if remaining > 0:\n",
        "                pos_str += f\"\\nFIRING -> countdown: {remaining:.2f} s\\n\"\n",
        "            else:\n",
        "                # impact moment\n",
        "                pos_str += f\"\\n*** IMPACT / FIRED at {datetime.datetime.utcnow().isoformat(timespec='seconds')}Z ***\\n\"\n",
        "                firing = False\n",
        "                impact_record = {\n",
        "                    \"epoch\": fire_target_epoch,\n",
        "                    \"P_hit\": last_P_hit.copy() if last_P_hit is not None else None\n",
        "                }\n",
        "                fire_target_epoch = None\n",
        "\n",
        "        if impact_record is not None:\n",
        "            ph = impact_record[\"P_hit\"]\n",
        "            if ph is not None:\n",
        "                pos_str += f\"\\nLast Impact at P_hit = ({ph[0]:.3f}, {ph[1]:.3f}, {ph[2]:.3f}) m\\n\"\n",
        "\n",
        "        fig3d = go.Figure()\n",
        "\n",
        "        # path\n",
        "        fig3d.add_trace(go.Scatter3d(\n",
        "            x=list(x_history),\n",
        "            y=list(y_history),\n",
        "            z=list(z_history),\n",
        "            mode=\"lines+markers\",\n",
        "            line=dict(color=list(range(len(x_history))), colorscale=\"Turbo\", width=4),\n",
        "            marker=dict(size=3, color=list(range(len(x_history))), colorscale=\"Turbo\", showscale=False),\n",
        "            name=\"Path\"\n",
        "        ))\n",
        "\n",
        "        # current drone marker\n",
        "        fig3d.add_trace(go.Scatter3d(\n",
        "            x=[x], y=[y], z=[z],\n",
        "            mode=\"markers\",\n",
        "            marker=dict(size=8, color=\"lime\", symbol=\"circle\"),\n",
        "            name=\"Drone (current)\"\n",
        "        ))\n",
        "\n",
        "        # barrel position marker\n",
        "        fig3d.add_trace(go.Scatter3d(\n",
        "            x=[Pg_barrel[0]], y=[Pg_barrel[1]], z=[Pg_barrel[2]],\n",
        "            mode=\"markers+text\",\n",
        "            marker=dict(size=6, color=\"black\", symbol=\"square\"),\n",
        "            text=[\"Barrel\"],\n",
        "            textposition=\"top center\",\n",
        "            name=\"Barrel\"\n",
        "        ))\n",
        "\n",
        "        # P_hit marker & line (current predicted)\n",
        "        if last_P_hit is not None:\n",
        "            fig3d.add_trace(go.Scatter3d(\n",
        "                x=[last_P_hit[0]], y=[last_P_hit[1]], z=[last_P_hit[2]],\n",
        "                mode=\"markers+text\",\n",
        "                marker=dict(size=6, color=\"red\", symbol=\"x\"),\n",
        "                text=[f\"P_hit\\n{last_P_hit[2]:.1f}m\"],\n",
        "                textposition=\"bottom center\",\n",
        "                name=\"P_hit (pred)\"\n",
        "            ))\n",
        "            # line from barrel -> P_hit\n",
        "            fig3d.add_trace(go.Scatter3d(\n",
        "                x=[Pg_barrel[0], last_P_hit[0]],\n",
        "                y=[Pg_barrel[1], last_P_hit[1]],\n",
        "                z=[Pg_barrel[2], last_P_hit[2]],\n",
        "                mode=\"lines\",\n",
        "                line=dict(color=\"red\", width=3, dash=\"dash\"),\n",
        "                showlegend=False\n",
        "            ))\n",
        "\n",
        "        # impact marker (if fired)\n",
        "        if impact_record is not None and impact_record.get(\"P_hit\") is not None:\n",
        "            ph = impact_record[\"P_hit\"]\n",
        "            fig3d.add_trace(go.Scatter3d(\n",
        "                x=[ph[0]], y=[ph[1]], z=[ph[2]],\n",
        "                mode=\"markers+text\",\n",
        "                marker=dict(size=10, color=\"orange\", symbol=\"diamond\"),\n",
        "                text=[\"IMPACT\"],\n",
        "                textposition=\"top center\",\n",
        "                name=\"Impact\"\n",
        "            ))\n",
        "\n",
        "        margin = 5.0\n",
        "        if len(x_history) > 1:\n",
        "            x_range = [min(x_history)-margin, max(x_history)+margin]\n",
        "            y_range = [min(y_history)-margin, max(y_history)+margin]\n",
        "            z_range = [min(z_history)-margin, max(z_history)+margin]\n",
        "        else:\n",
        "            x_range, y_range, z_range = [-10,10], [-10,10], [0,20]\n",
        "\n",
        "        fig3d.update_layout(\n",
        "            scene=dict(\n",
        "                xaxis=dict(title=\"X (Forward, m)\", range=x_range),\n",
        "                yaxis=dict(title=\"Y (Right, m)\", range=y_range),\n",
        "                zaxis=dict(title=\"Z (Up, m)\", range=z_range),\n",
        "                aspectmode=\"cube\"\n",
        "            ),\n",
        "            template=\"plotly_white\",\n",
        "            margin=dict(l=0, r=0, t=40, b=0),\n",
        "            height=800\n",
        "        )\n",
        "\n",
        "        return fig3d, pos_str\n",
        "\n",
        "    except Exception as e:\n",
        "        return go.Figure(), f\"Error: {e}\"\n",
        "\n",
        "# สร้าง Gradio Dashboard\n",
        "with gr.Blocks(\n",
        "    css=\"\"\"\n",
        "        .gradio-container {max-width: 100% !important; padding: 0; margin: 0;}\n",
        "        #plot-area {width: 100%; height: 75vh !important;} /* ปรับสูงให้พอดี */\n",
        "        #header-text {text-align: center; margin-top: 8px;}\n",
        "        .controls {display:flex; gap:8px; align-items:center;}\n",
        "    \"\"\"\n",
        ") as dashboard:\n",
        "    gr.Markdown(\"## 🚀 Drone Position, Predicted Hit & Gun Angles (Fire)\", elem_id=\"header-text\")\n",
        "\n",
        "    with gr.Row():\n",
        "        with gr.Column(scale=1):\n",
        "            btn_fire = gr.Button(\"Fire (Prepare)\")\n",
        "            info = gr.Textbox(label=\"Drone Status & Intercept Info\", lines=10, interactive=False)\n",
        "        with gr.Column(scale=3):\n",
        "            plot3d = gr.Plot(label=\"🛰️ Real-time 3D Drone Monitor\", elem_id=\"plot-area\")\n",
        "\n",
        "    # ปุ่ม callback\n",
        "    btn_fire.click(prepare_fire, outputs=info)\n",
        "\n",
        "    # เรียกทุก 1 วินาที (update กราฟ และสถานะ)\n",
        "    gr.Timer(value=1).tick(fn=get_drone_data_and_plot, outputs=[plot3d, info])\n",
        "\n",
        "dashboard.launch()\n"
      ],
      "metadata": {
        "id": "az1RTyQxPSOf",
        "colab": {
          "base_uri": "https://localhost:8080/",
          "height": 625
        },
        "outputId": "1fe20ce1-e10f-4dbc-d515-5f30a1f51bd8"
      },
      "execution_count": 54,
      "outputs": [
        {
          "output_type": "stream",
          "name": "stdout",
          "text": [
            "It looks like you are running Gradio on a hosted Jupyter notebook, which requires `share=True`. Automatically setting `share=True` (you can turn this off by setting `share=False` in `launch()` explicitly).\n",
            "\n",
            "Colab notebook detected. To show errors in colab notebook, set debug=True in launch()\n",
            "* Running on public URL: https://47a3140a1c27ce85dd.gradio.live\n",
            "\n",
            "This share link expires in 1 week. For free permanent hosting and GPU upgrades, run `gradio deploy` from the terminal in the working directory to deploy to Hugging Face Spaces (https://huggingface.co/spaces)\n"
          ]
        },
        {
          "output_type": "display_data",
          "data": {
            "text/plain": [
              "<IPython.core.display.HTML object>"
            ],
            "text/html": [
              "<div><iframe src=\"https://47a3140a1c27ce85dd.gradio.live\" width=\"100%\" height=\"500\" allow=\"autoplay; camera; microphone; clipboard-read; clipboard-write;\" frameborder=\"0\" allowfullscreen></iframe></div>"
            ]
          },
          "metadata": {}
        },
        {
          "output_type": "execute_result",
          "data": {
            "text/plain": []
          },
          "metadata": {},
          "execution_count": 54
        }
      ]
    },
    {
      "cell_type": "code",
      "source": [],
      "metadata": {
        "id": "HWsKN1xvPiuH"
      },
      "execution_count": 54,
      "outputs": []
    }
  ]
}