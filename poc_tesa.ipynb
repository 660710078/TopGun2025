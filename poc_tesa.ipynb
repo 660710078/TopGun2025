{
  "cells": [
    {
      "cell_type": "markdown",
      "metadata": {
        "id": "view-in-github",
        "colab_type": "text"
      },
      "source": [
        "<a href=\"https://colab.research.google.com/github/660710078/TopGun2025/blob/main/poc_tesa.ipynb\" target=\"_parent\"><img src=\"https://colab.research.google.com/assets/colab-badge.svg\" alt=\"Open In Colab\"/></a>"
      ]
    },
    {
      "cell_type": "code",
      "execution_count": 4,
      "metadata": {
        "id": "8UoUL4MpztXR",
        "colab": {
          "base_uri": "https://localhost:8080/"
        },
        "outputId": "39814dad-e39c-4871-c457-4ed4e15ca1e6"
      },
      "outputs": [
        {
          "output_type": "stream",
          "name": "stdout",
          "text": [
            "Requirement already satisfied: fastapi in /usr/local/lib/python3.12/dist-packages (0.119.1)\n",
            "Requirement already satisfied: uvicorn in /usr/local/lib/python3.12/dist-packages (0.38.0)\n",
            "Requirement already satisfied: starlette<0.49.0,>=0.40.0 in /usr/local/lib/python3.12/dist-packages (from fastapi) (0.48.0)\n",
            "Requirement already satisfied: pydantic!=1.8,!=1.8.1,!=2.0.0,!=2.0.1,!=2.1.0,<3.0.0,>=1.7.4 in /usr/local/lib/python3.12/dist-packages (from fastapi) (2.11.10)\n",
            "Requirement already satisfied: typing-extensions>=4.8.0 in /usr/local/lib/python3.12/dist-packages (from fastapi) (4.15.0)\n",
            "Requirement already satisfied: click>=7.0 in /usr/local/lib/python3.12/dist-packages (from uvicorn) (8.3.0)\n",
            "Requirement already satisfied: h11>=0.8 in /usr/local/lib/python3.12/dist-packages (from uvicorn) (0.16.0)\n",
            "Requirement already satisfied: annotated-types>=0.6.0 in /usr/local/lib/python3.12/dist-packages (from pydantic!=1.8,!=1.8.1,!=2.0.0,!=2.0.1,!=2.1.0,<3.0.0,>=1.7.4->fastapi) (0.7.0)\n",
            "Requirement already satisfied: pydantic-core==2.33.2 in /usr/local/lib/python3.12/dist-packages (from pydantic!=1.8,!=1.8.1,!=2.0.0,!=2.0.1,!=2.1.0,<3.0.0,>=1.7.4->fastapi) (2.33.2)\n",
            "Requirement already satisfied: typing-inspection>=0.4.0 in /usr/local/lib/python3.12/dist-packages (from pydantic!=1.8,!=1.8.1,!=2.0.0,!=2.0.1,!=2.1.0,<3.0.0,>=1.7.4->fastapi) (0.4.2)\n",
            "Requirement already satisfied: anyio<5,>=3.6.2 in /usr/local/lib/python3.12/dist-packages (from starlette<0.49.0,>=0.40.0->fastapi) (4.11.0)\n",
            "Requirement already satisfied: idna>=2.8 in /usr/local/lib/python3.12/dist-packages (from anyio<5,>=3.6.2->starlette<0.49.0,>=0.40.0->fastapi) (3.11)\n",
            "Requirement already satisfied: sniffio>=1.1 in /usr/local/lib/python3.12/dist-packages (from anyio<5,>=3.6.2->starlette<0.49.0,>=0.40.0->fastapi) (1.3.1)\n"
          ]
        }
      ],
      "source": [
        "!pip install fastapi uvicorn"
      ]
    },
    {
      "cell_type": "code",
      "execution_count": 5,
      "metadata": {
        "id": "vsn8vVIq0kN-"
      },
      "outputs": [],
      "source": [
        "import uvicorn\n",
        "import gradio as gr #แดชวบอร์ด\n",
        "import requests\n",
        "import datetime"
      ]
    },
    {
      "cell_type": "code",
      "execution_count": 6,
      "metadata": {
        "id": "OwJL4ER_0kQa"
      },
      "outputs": [],
      "source": [
        "# ใช้ Fast API\n",
        "#สร้างเส้น get ที่ /predict\n",
        "# ได้ไฟล์ main มา\n",
        "with open('main.py', 'w') as f:\n",
        "    f.write('''import io\n",
        "from fastapi import FastAPI\n",
        "from fastapi.responses import JSONResponse\n",
        "import random\n",
        "\n",
        "app = FastAPI()\n",
        "\n",
        "@app.get(\"/predict\")\n",
        "async def predict():\n",
        "    random_integer = random.randint(1, 100)\n",
        "    return JSONResponse(content={\"result\": random_integer})\n",
        "''')"
      ]
    },
    {
      "cell_type": "code",
      "execution_count": 7,
      "metadata": {
        "id": "eYBzxcvE0kTL",
        "colab": {
          "base_uri": "https://localhost:8080/"
        },
        "outputId": "501b2fa0-db8d-42c2-f17c-6cbd991d54dc"
      },
      "outputs": [
        {
          "output_type": "stream",
          "name": "stdout",
          "text": [
            "gym-pybullet-drones  main.py  nohup.out  __pycache__  sample_data\n"
          ]
        }
      ],
      "source": [
        "!ls"
      ]
    },
    {
      "cell_type": "code",
      "execution_count": 8,
      "metadata": {
        "id": "t4eQ4xHp2OyO"
      },
      "outputs": [],
      "source": [
        "# !kill -9 $(lsof -t -i:8000)\n",
        "#รันบนlocal 8000"
      ]
    },
    {
      "cell_type": "code",
      "execution_count": 9,
      "metadata": {
        "id": "Lsuy-nmt0kWA",
        "colab": {
          "base_uri": "https://localhost:8080/"
        },
        "outputId": "0bd68958-9a42-45d6-be99-8cf2806034ee"
      },
      "outputs": [
        {
          "output_type": "stream",
          "name": "stdout",
          "text": [
            "nohup: appending output to 'nohup.out'\n"
          ]
        }
      ],
      "source": [
        "!nohup uvicorn main:app --host 0.0.0.0 --port 8000 --reload &\n",
        "# webserver ของ python unicorn linux"
      ]
    },
    {
      "cell_type": "code",
      "execution_count": 10,
      "metadata": {
        "id": "l27qN2U21wrc",
        "colab": {
          "base_uri": "https://localhost:8080/"
        },
        "outputId": "e0bc7e24-0a43-42f6-a9d1-acfa1c827e55"
      },
      "outputs": [
        {
          "output_type": "stream",
          "name": "stdout",
          "text": [
            "INFO:     Will watch for changes in these directories: ['/content']\n",
            "INFO:     Uvicorn running on http://0.0.0.0:8000 (Press CTRL+C to quit)\n",
            "INFO:     Started reloader process [1278] using StatReload\n",
            "INFO:     Started server process [1300]\n",
            "INFO:     Waiting for application startup.\n",
            "INFO:     Application startup complete.\n",
            "INFO:     127.0.0.1:43040 - \"GET /predict HTTP/1.1\" 200 OK\n",
            "INFO:     127.0.0.1:52720 - \"GET /predict HTTP/1.1\" 200 OK\n",
            "INFO:     127.0.0.1:52732 - \"GET /predict HTTP/1.1\" 200 OK\n",
            "INFO:     127.0.0.1:45292 - \"GET /predict HTTP/1.1\" 200 OK\n",
            "INFO:     127.0.0.1:45302 - \"GET /predict HTTP/1.1\" 200 OK\n",
            "INFO:     127.0.0.1:45316 - \"GET /predict HTTP/1.1\" 200 OK\n",
            "INFO:     127.0.0.1:45330 - \"GET /predict HTTP/1.1\" 200 OK\n",
            "INFO:     127.0.0.1:45342 - \"GET /predict HTTP/1.1\" 200 OK\n",
            "INFO:     127.0.0.1:45348 - \"GET /predict HTTP/1.1\" 200 OK\n",
            "INFO:     127.0.0.1:45362 - \"GET /predict HTTP/1.1\" 200 OK\n",
            "INFO:     127.0.0.1:45370 - \"GET /predict HTTP/1.1\" 200 OK\n",
            "INFO:     127.0.0.1:39126 - \"GET /predict HTTP/1.1\" 200 OK\n",
            "INFO:     127.0.0.1:39132 - \"GET /predict HTTP/1.1\" 200 OK\n",
            "INFO:     127.0.0.1:39140 - \"GET /predict HTTP/1.1\" 200 OK\n",
            "INFO:     127.0.0.1:39146 - \"GET /predict HTTP/1.1\" 200 OK\n",
            "INFO:     127.0.0.1:39152 - \"GET /predict HTTP/1.1\" 200 OK\n",
            "INFO:     127.0.0.1:39154 - \"GET /predict HTTP/1.1\" 200 OK\n",
            "INFO:     127.0.0.1:39164 - \"GET /predict HTTP/1.1\" 200 OK\n",
            "INFO:     127.0.0.1:39172 - \"GET /predict HTTP/1.1\" 200 OK\n",
            "INFO:     127.0.0.1:39188 - \"GET /predict HTTP/1.1\" 200 OK\n",
            "INFO:     127.0.0.1:39196 - \"GET /predict HTTP/1.1\" 200 OK\n",
            "INFO:     127.0.0.1:39204 - \"GET /predict HTTP/1.1\" 200 OK\n",
            "INFO:     127.0.0.1:57786 - \"GET /predict HTTP/1.1\" 200 OK\n",
            "INFO:     127.0.0.1:57800 - \"GET /predict HTTP/1.1\" 200 OK\n",
            "INFO:     127.0.0.1:57802 - \"GET /predict HTTP/1.1\" 200 OK\n",
            "INFO:     127.0.0.1:57818 - \"GET /predict HTTP/1.1\" 200 OK\n",
            "INFO:     127.0.0.1:57832 - \"GET /predict HTTP/1.1\" 200 OK\n",
            "INFO:     127.0.0.1:57842 - \"GET /predict HTTP/1.1\" 200 OK\n",
            "INFO:     127.0.0.1:57850 - \"GET /predict HTTP/1.1\" 200 OK\n",
            "INFO:     127.0.0.1:57852 - \"GET /predict HTTP/1.1\" 200 OK\n",
            "INFO:     127.0.0.1:57866 - \"GET /predict HTTP/1.1\" 200 OK\n",
            "INFO:     127.0.0.1:57874 - \"GET /predict HTTP/1.1\" 200 OK\n",
            "INFO:     127.0.0.1:35812 - \"GET /predict HTTP/1.1\" 200 OK\n",
            "INFO:     127.0.0.1:35816 - \"GET /predict HTTP/1.1\" 200 OK\n",
            "INFO:     127.0.0.1:35818 - \"GET /predict HTTP/1.1\" 200 OK\n",
            "INFO:     127.0.0.1:35828 - \"GET /predict HTTP/1.1\" 200 OK\n",
            "INFO:     127.0.0.1:35838 - \"GET /predict HTTP/1.1\" 200 OK\n",
            "INFO:     127.0.0.1:35844 - \"GET /predict HTTP/1.1\" 200 OK\n",
            "INFO:     127.0.0.1:55170 - \"GET /predict HTTP/1.1\" 200 OK\n",
            "INFO:     127.0.0.1:55180 - \"GET /predict HTTP/1.1\" 200 OK\n",
            "INFO:     127.0.0.1:55192 - \"GET /predict HTTP/1.1\" 200 OK\n",
            "INFO:     127.0.0.1:55194 - \"GET /predict HTTP/1.1\" 200 OK\n",
            "INFO:     127.0.0.1:55204 - \"GET /predict HTTP/1.1\" 200 OK\n",
            "INFO:     127.0.0.1:55210 - \"GET /predict HTTP/1.1\" 200 OK\n",
            "INFO:     127.0.0.1:55218 - \"GET /predict HTTP/1.1\" 200 OK\n",
            "INFO:     127.0.0.1:55226 - \"GET /predict HTTP/1.1\" 200 OK\n",
            "INFO:     127.0.0.1:55240 - \"GET /predict HTTP/1.1\" 200 OK\n",
            "INFO:     127.0.0.1:55250 - \"GET /predict HTTP/1.1\" 200 OK\n",
            "INFO:     127.0.0.1:56052 - \"GET /predict HTTP/1.1\" 200 OK\n",
            "INFO:     127.0.0.1:56064 - \"GET /predict HTTP/1.1\" 200 OK\n",
            "INFO:     127.0.0.1:56066 - \"GET /predict HTTP/1.1\" 200 OK\n",
            "INFO:     127.0.0.1:56074 - \"GET /predict HTTP/1.1\" 200 OK\n",
            "INFO:     127.0.0.1:56078 - \"GET /predict HTTP/1.1\" 200 OK\n",
            "INFO:     127.0.0.1:56084 - \"GET /predict HTTP/1.1\" 200 OK\n",
            "INFO:     127.0.0.1:56088 - \"GET /predict HTTP/1.1\" 200 OK\n",
            "INFO:     127.0.0.1:56094 - \"GET /predict HTTP/1.1\" 200 OK\n",
            "INFO:     127.0.0.1:56096 - \"GET /predict HTTP/1.1\" 200 OK\n",
            "INFO:     127.0.0.1:56098 - \"GET /predict HTTP/1.1\" 200 OK\n",
            "INFO:     127.0.0.1:40928 - \"GET /predict HTTP/1.1\" 200 OK\n",
            "INFO:     127.0.0.1:40930 - \"GET /predict HTTP/1.1\" 200 OK\n",
            "INFO:     127.0.0.1:40938 - \"GET /predict HTTP/1.1\" 200 OK\n",
            "INFO:     127.0.0.1:40950 - \"GET /predict HTTP/1.1\" 200 OK\n",
            "INFO:     127.0.0.1:40960 - \"GET /predict HTTP/1.1\" 200 OK\n",
            "INFO:     127.0.0.1:40968 - \"GET /predict HTTP/1.1\" 200 OK\n",
            "INFO:     127.0.0.1:40974 - \"GET /predict HTTP/1.1\" 200 OK\n",
            "INFO:     127.0.0.1:40988 - \"GET /predict HTTP/1.1\" 200 OK\n",
            "INFO:     127.0.0.1:41002 - \"GET /predict HTTP/1.1\" 200 OK\n",
            "INFO:     127.0.0.1:41012 - \"GET /predict HTTP/1.1\" 200 OK\n",
            "INFO:     127.0.0.1:41016 - \"GET /predict HTTP/1.1\" 200 OK\n",
            "INFO:     127.0.0.1:49730 - \"GET /predict HTTP/1.1\" 200 OK\n",
            "INFO:     127.0.0.1:49734 - \"GET /predict HTTP/1.1\" 200 OK\n",
            "INFO:     127.0.0.1:49748 - \"GET /predict HTTP/1.1\" 200 OK\n",
            "INFO:     127.0.0.1:49760 - \"GET /predict HTTP/1.1\" 200 OK\n",
            "INFO:     127.0.0.1:49764 - \"GET /predict HTTP/1.1\" 200 OK\n",
            "INFO:     127.0.0.1:49774 - \"GET /predict HTTP/1.1\" 200 OK\n",
            "INFO:     127.0.0.1:49776 - \"GET /predict HTTP/1.1\" 200 OK\n",
            "INFO:     127.0.0.1:49784 - \"GET /predict HTTP/1.1\" 200 OK\n",
            "INFO:     127.0.0.1:49798 - \"GET /predict HTTP/1.1\" 200 OK\n",
            "INFO:     127.0.0.1:49808 - \"GET /predict HTTP/1.1\" 200 OK\n",
            "INFO:     127.0.0.1:33366 - \"GET /predict HTTP/1.1\" 200 OK\n",
            "INFO:     127.0.0.1:33382 - \"GET /predict HTTP/1.1\" 200 OK\n",
            "INFO:     127.0.0.1:33390 - \"GET /predict HTTP/1.1\" 200 OK\n",
            "INFO:     127.0.0.1:33396 - \"GET /predict HTTP/1.1\" 200 OK\n",
            "INFO:     127.0.0.1:33398 - \"GET /predict HTTP/1.1\" 200 OK\n",
            "INFO:     127.0.0.1:33410 - \"GET /predict HTTP/1.1\" 200 OK\n",
            "INFO:     127.0.0.1:33420 - \"GET /predict HTTP/1.1\" 200 OK\n",
            "INFO:     127.0.0.1:33436 - \"GET /predict HTTP/1.1\" 200 OK\n",
            "INFO:     127.0.0.1:33448 - \"GET /predict HTTP/1.1\" 200 OK\n",
            "INFO:     127.0.0.1:40280 - \"GET /predict HTTP/1.1\" 200 OK\n",
            "INFO:     127.0.0.1:40292 - \"GET /predict HTTP/1.1\" 200 OK\n",
            "INFO:     127.0.0.1:40304 - \"GET /predict HTTP/1.1\" 200 OK\n",
            "INFO:     127.0.0.1:40308 - \"GET /predict HTTP/1.1\" 200 OK\n",
            "INFO:     127.0.0.1:40320 - \"GET /predict HTTP/1.1\" 200 OK\n",
            "INFO:     127.0.0.1:40330 - \"GET /predict HTTP/1.1\" 200 OK\n",
            "INFO:     127.0.0.1:40334 - \"GET /predict HTTP/1.1\" 200 OK\n",
            "INFO:     127.0.0.1:40350 - \"GET /predict HTTP/1.1\" 200 OK\n",
            "INFO:     127.0.0.1:40354 - \"GET /predict HTTP/1.1\" 200 OK\n",
            "INFO:     127.0.0.1:40362 - \"GET /predict HTTP/1.1\" 200 OK\n",
            "INFO:     127.0.0.1:40366 - \"GET /predict HTTP/1.1\" 200 OK\n",
            "INFO:     127.0.0.1:50056 - \"GET /predict HTTP/1.1\" 200 OK\n",
            "INFO:     127.0.0.1:50068 - \"GET /predict HTTP/1.1\" 200 OK\n",
            "INFO:     127.0.0.1:50072 - \"GET /predict HTTP/1.1\" 200 OK\n",
            "INFO:     127.0.0.1:50086 - \"GET /predict HTTP/1.1\" 200 OK\n",
            "INFO:     127.0.0.1:50094 - \"GET /predict HTTP/1.1\" 200 OK\n",
            "INFO:     127.0.0.1:50108 - \"GET /predict HTTP/1.1\" 200 OK\n",
            "INFO:     127.0.0.1:50110 - \"GET /predict HTTP/1.1\" 200 OK\n",
            "INFO:     127.0.0.1:50116 - \"GET /predict HTTP/1.1\" 200 OK\n",
            "INFO:     127.0.0.1:50124 - \"GET /predict HTTP/1.1\" 200 OK\n",
            "INFO:     127.0.0.1:33722 - \"GET /predict HTTP/1.1\" 200 OK\n",
            "INFO:     127.0.0.1:33728 - \"GET /predict HTTP/1.1\" 200 OK\n",
            "INFO:     127.0.0.1:33732 - \"GET /predict HTTP/1.1\" 200 OK\n",
            "INFO:     127.0.0.1:33740 - \"GET /predict HTTP/1.1\" 200 OK\n",
            "INFO:     127.0.0.1:33742 - \"GET /predict HTTP/1.1\" 200 OK\n",
            "INFO:     127.0.0.1:33750 - \"GET /predict HTTP/1.1\" 200 OK\n",
            "INFO:     127.0.0.1:33760 - \"GET /predict HTTP/1.1\" 200 OK\n",
            "INFO:     127.0.0.1:33770 - \"GET /predict HTTP/1.1\" 200 OK\n",
            "INFO:     127.0.0.1:33784 - \"GET /predict HTTP/1.1\" 200 OK\n",
            "INFO:     127.0.0.1:33800 - \"GET /predict HTTP/1.1\" 200 OK\n",
            "INFO:     127.0.0.1:33810 - \"GET /predict HTTP/1.1\" 200 OK\n",
            "INFO:     127.0.0.1:55242 - \"GET /predict HTTP/1.1\" 200 OK\n",
            "INFO:     127.0.0.1:55248 - \"GET /predict HTTP/1.1\" 200 OK\n",
            "INFO:     127.0.0.1:55254 - \"GET /predict HTTP/1.1\" 200 OK\n",
            "INFO:     127.0.0.1:55268 - \"GET /predict HTTP/1.1\" 200 OK\n",
            "INFO:     127.0.0.1:55282 - \"GET /predict HTTP/1.1\" 200 OK\n",
            "INFO:     127.0.0.1:55298 - \"GET /predict HTTP/1.1\" 200 OK\n",
            "INFO:     127.0.0.1:55302 - \"GET /predict HTTP/1.1\" 200 OK\n",
            "INFO:     127.0.0.1:55316 - \"GET /predict HTTP/1.1\" 200 OK\n",
            "INFO:     127.0.0.1:47310 - \"GET /predict HTTP/1.1\" 200 OK\n",
            "INFO:     127.0.0.1:47318 - \"GET /predict HTTP/1.1\" 200 OK\n",
            "INFO:     127.0.0.1:47328 - \"GET /predict HTTP/1.1\" 200 OK\n",
            "INFO:     127.0.0.1:47332 - \"GET /predict HTTP/1.1\" 200 OK\n",
            "INFO:     127.0.0.1:47348 - \"GET /predict HTTP/1.1\" 200 OK\n",
            "INFO:     127.0.0.1:47364 - \"GET /predict HTTP/1.1\" 200 OK\n",
            "INFO:     127.0.0.1:47380 - \"GET /predict HTTP/1.1\" 200 OK\n",
            "INFO:     127.0.0.1:47386 - \"GET /predict HTTP/1.1\" 200 OK\n",
            "INFO:     127.0.0.1:47388 - \"GET /predict HTTP/1.1\" 200 OK\n",
            "INFO:     127.0.0.1:59996 - \"GET /predict HTTP/1.1\" 200 OK\n",
            "INFO:     127.0.0.1:60012 - \"GET /predict HTTP/1.1\" 200 OK\n",
            "INFO:     127.0.0.1:60028 - \"GET /predict HTTP/1.1\" 200 OK\n",
            "INFO:     127.0.0.1:60042 - \"GET /predict HTTP/1.1\" 200 OK\n",
            "INFO:     127.0.0.1:60048 - \"GET /predict HTTP/1.1\" 200 OK\n",
            "INFO:     127.0.0.1:60062 - \"GET /predict HTTP/1.1\" 200 OK\n",
            "INFO:     127.0.0.1:60078 - \"GET /predict HTTP/1.1\" 200 OK\n",
            "INFO:     127.0.0.1:60094 - \"GET /predict HTTP/1.1\" 200 OK\n",
            "INFO:     127.0.0.1:60110 - \"GET /predict HTTP/1.1\" 200 OK\n",
            "INFO:     127.0.0.1:60112 - \"GET /predict HTTP/1.1\" 200 OK\n",
            "INFO:     127.0.0.1:60126 - \"GET /predict HTTP/1.1\" 200 OK\n",
            "INFO:     127.0.0.1:60140 - \"GET /predict HTTP/1.1\" 200 OK\n",
            "INFO:     127.0.0.1:60144 - \"GET /predict HTTP/1.1\" 200 OK\n",
            "INFO:     127.0.0.1:60158 - \"GET /predict HTTP/1.1\" 200 OK\n",
            "INFO:     127.0.0.1:60174 - \"GET /predict HTTP/1.1\" 200 OK\n",
            "INFO:     127.0.0.1:60190 - \"GET /predict HTTP/1.1\" 200 OK\n",
            "INFO:     127.0.0.1:60196 - \"GET /predict HTTP/1.1\" 200 OK\n",
            "INFO:     127.0.0.1:60208 - \"GET /predict HTTP/1.1\" 200 OK\n",
            "INFO:     127.0.0.1:60220 - \"GET /predict HTTP/1.1\" 200 OK\n",
            "INFO:     127.0.0.1:60236 - \"GET /predict HTTP/1.1\" 200 OK\n",
            "INFO:     127.0.0.1:60252 - \"GET /predict HTTP/1.1\" 200 OK\n",
            "INFO:     127.0.0.1:60260 - \"GET /predict HTTP/1.1\" 200 OK\n",
            "INFO:     127.0.0.1:60266 - \"GET /predict HTTP/1.1\" 200 OK\n",
            "INFO:     127.0.0.1:60276 - \"GET /predict HTTP/1.1\" 200 OK\n",
            "INFO:     127.0.0.1:60288 - \"GET /predict HTTP/1.1\" 200 OK\n",
            "INFO:     127.0.0.1:60300 - \"GET /predict HTTP/1.1\" 200 OK\n",
            "INFO:     127.0.0.1:60304 - \"GET /predict HTTP/1.1\" 200 OK\n",
            "INFO:     127.0.0.1:60310 - \"GET /predict HTTP/1.1\" 200 OK\n",
            "INFO:     127.0.0.1:60316 - \"GET /predict HTTP/1.1\" 200 OK\n",
            "INFO:     127.0.0.1:44500 - \"GET /predict HTTP/1.1\" 200 OK\n",
            "INFO:     127.0.0.1:44514 - \"GET /predict HTTP/1.1\" 200 OK\n",
            "INFO:     127.0.0.1:44518 - \"GET /predict HTTP/1.1\" 200 OK\n",
            "INFO:     127.0.0.1:44532 - \"GET /predict HTTP/1.1\" 200 OK\n",
            "INFO:     127.0.0.1:44258 - \"GET /predict HTTP/1.1\" 200 OK\n",
            "INFO:     127.0.0.1:44270 - \"GET /predict HTTP/1.1\" 200 OK\n",
            "INFO:     127.0.0.1:44276 - \"GET /predict HTTP/1.1\" 200 OK\n",
            "INFO:     127.0.0.1:44284 - \"GET /predict HTTP/1.1\" 200 OK\n",
            "INFO:     127.0.0.1:44296 - \"GET /predict HTTP/1.1\" 200 OK\n",
            "INFO:     127.0.0.1:44306 - \"GET /predict HTTP/1.1\" 200 OK\n",
            "INFO:     127.0.0.1:35984 - \"GET /predict HTTP/1.1\" 200 OK\n",
            "INFO:     127.0.0.1:36000 - \"GET /predict HTTP/1.1\" 200 OK\n",
            "INFO:     127.0.0.1:36010 - \"GET /predict HTTP/1.1\" 200 OK\n",
            "INFO:     127.0.0.1:36020 - \"GET /predict HTTP/1.1\" 200 OK\n",
            "INFO:     127.0.0.1:36024 - \"GET /predict HTTP/1.1\" 200 OK\n",
            "INFO:     127.0.0.1:36034 - \"GET /predict HTTP/1.1\" 200 OK\n",
            "INFO:     127.0.0.1:36048 - \"GET /predict HTTP/1.1\" 200 OK\n",
            "INFO:     127.0.0.1:36052 - \"GET /predict HTTP/1.1\" 200 OK\n",
            "INFO:     127.0.0.1:36064 - \"GET /predict HTTP/1.1\" 200 OK\n",
            "INFO:     127.0.0.1:36040 - \"GET /predict HTTP/1.1\" 200 OK\n",
            "INFO:     127.0.0.1:36046 - \"GET /predict HTTP/1.1\" 200 OK\n",
            "INFO:     127.0.0.1:36056 - \"GET /predict HTTP/1.1\" 200 OK\n",
            "INFO:     127.0.0.1:36058 - \"GET /predict HTTP/1.1\" 200 OK\n",
            "INFO:     127.0.0.1:36064 - \"GET /predict HTTP/1.1\" 200 OK\n",
            "INFO:     127.0.0.1:36080 - \"GET /predict HTTP/1.1\" 200 OK\n",
            "INFO:     127.0.0.1:36092 - \"GET /predict HTTP/1.1\" 200 OK\n",
            "INFO:     127.0.0.1:36094 - \"GET /predict HTTP/1.1\" 200 OK\n",
            "INFO:     127.0.0.1:36104 - \"GET /predict HTTP/1.1\" 200 OK\n",
            "INFO:     127.0.0.1:36114 - \"GET /predict HTTP/1.1\" 200 OK\n",
            "INFO:     127.0.0.1:51310 - \"GET /predict HTTP/1.1\" 200 OK\n",
            "INFO:     127.0.0.1:51324 - \"GET /predict HTTP/1.1\" 200 OK\n",
            "INFO:     127.0.0.1:51338 - \"GET /predict HTTP/1.1\" 200 OK\n",
            "INFO:     127.0.0.1:51352 - \"GET /predict HTTP/1.1\" 200 OK\n",
            "INFO:     127.0.0.1:51366 - \"GET /predict HTTP/1.1\" 200 OK\n",
            "INFO:     127.0.0.1:51368 - \"GET /predict HTTP/1.1\" 200 OK\n",
            "INFO:     127.0.0.1:51376 - \"GET /predict HTTP/1.1\" 200 OK\n",
            "INFO:     127.0.0.1:51390 - \"GET /predict HTTP/1.1\" 200 OK\n",
            "INFO:     127.0.0.1:51404 - \"GET /predict HTTP/1.1\" 200 OK\n",
            "WARNING:  StatReload detected changes in 'main.py'. Reloading...\n",
            "INFO:     Will watch for changes in these directories: ['/content']\n",
            "INFO:     Uvicorn running on http://0.0.0.0:8000 (Press CTRL+C to quit)\n",
            "INFO:     Started reloader process [5309] using StatReload\n",
            "pybullet build time: Oct 27 2025 03:29:19\n",
            "INFO:     Started server process [5314]\n",
            "INFO:     Waiting for application startup.\n",
            "INFO:     Application startup complete.\n",
            "INFO:     127.0.0.1:34634 - \"GET /drone HTTP/1.1\" 200 OK\n",
            "INFO:     127.0.0.1:34650 - \"GET /drone HTTP/1.1\" 200 OK\n",
            "INFO:     127.0.0.1:34662 - \"GET /drone HTTP/1.1\" 200 OK\n",
            "INFO:     127.0.0.1:34666 - \"GET /drone HTTP/1.1\" 200 OK\n",
            "INFO:     127.0.0.1:34676 - \"GET /drone HTTP/1.1\" 200 OK\n",
            "INFO:     127.0.0.1:34692 - \"GET /drone HTTP/1.1\" 200 OK\n",
            "INFO:     127.0.0.1:34704 - \"GET /drone HTTP/1.1\" 200 OK\n",
            "INFO:     127.0.0.1:34708 - \"GET /drone HTTP/1.1\" 200 OK\n",
            "INFO:     127.0.0.1:41934 - \"GET /drone HTTP/1.1\" 200 OK\n",
            "INFO:     127.0.0.1:41950 - \"GET /drone HTTP/1.1\" 200 OK\n",
            "INFO:     127.0.0.1:41954 - \"GET /drone HTTP/1.1\" 200 OK\n",
            "INFO:     127.0.0.1:41960 - \"GET /drone HTTP/1.1\" 200 OK\n",
            "INFO:     127.0.0.1:41964 - \"GET /drone HTTP/1.1\" 200 OK\n",
            "INFO:     127.0.0.1:41974 - \"GET /drone HTTP/1.1\" 200 OK\n",
            "INFO:     127.0.0.1:41982 - \"GET /drone HTTP/1.1\" 200 OK\n",
            "INFO:     127.0.0.1:41990 - \"GET /drone HTTP/1.1\" 200 OK\n",
            "INFO:     127.0.0.1:42002 - \"GET /drone HTTP/1.1\" 200 OK\n",
            "INFO:     127.0.0.1:42008 - \"GET /drone HTTP/1.1\" 200 OK\n",
            "INFO:     127.0.0.1:42020 - \"GET /drone HTTP/1.1\" 200 OK\n",
            "INFO:     127.0.0.1:42036 - \"GET /drone HTTP/1.1\" 200 OK\n",
            "INFO:     127.0.0.1:42052 - \"GET /drone HTTP/1.1\" 200 OK\n",
            "WARNING:  StatReload detected changes in 'main.py'. Reloading...\n",
            "INFO:     Shutting down\n",
            "INFO:     Waiting for application shutdown.\n",
            "INFO:     Application shutdown complete.\n",
            "INFO:     Finished server process [5314]\n",
            "INFO:     Will watch for changes in these directories: ['/content']\n",
            "ERROR:    [Errno 98] Address already in use\n",
            "INFO:     Started server process [5432]\n",
            "INFO:     Waiting for application startup.\n",
            "INFO:     Application startup complete.\n",
            "INFO:     127.0.0.1:39426 - \"GET /predict HTTP/1.1\" 200 OK\n",
            "INFO:     127.0.0.1:36782 - \"GET /predict HTTP/1.1\" 200 OK\n",
            "INFO:     127.0.0.1:36700 - \"GET /predict HTTP/1.1\" 200 OK\n",
            "INFO:     127.0.0.1:36704 - \"GET /predict HTTP/1.1\" 200 OK\n",
            "INFO:     127.0.0.1:36712 - \"GET /predict HTTP/1.1\" 200 OK\n",
            "INFO:     127.0.0.1:36720 - \"GET /predict HTTP/1.1\" 200 OK\n",
            "INFO:     127.0.0.1:36724 - \"GET /predict HTTP/1.1\" 200 OK\n",
            "INFO:     127.0.0.1:36738 - \"GET /predict HTTP/1.1\" 200 OK\n",
            "INFO:     127.0.0.1:49956 - \"GET /predict HTTP/1.1\" 200 OK\n",
            "INFO:     127.0.0.1:49958 - \"GET /predict HTTP/1.1\" 200 OK\n",
            "INFO:     127.0.0.1:49970 - \"GET /predict HTTP/1.1\" 200 OK\n",
            "INFO:     127.0.0.1:49976 - \"GET /predict HTTP/1.1\" 200 OK\n",
            "INFO:     127.0.0.1:49984 - \"GET /predict HTTP/1.1\" 200 OK\n",
            "INFO:     127.0.0.1:49992 - \"GET /predict HTTP/1.1\" 200 OK\n",
            "INFO:     127.0.0.1:50002 - \"GET /predict HTTP/1.1\" 200 OK\n",
            "INFO:     127.0.0.1:50004 - \"GET /predict HTTP/1.1\" 200 OK\n",
            "INFO:     127.0.0.1:50016 - \"GET /predict HTTP/1.1\" 200 OK\n",
            "INFO:     127.0.0.1:50024 - \"GET /predict HTTP/1.1\" 200 OK\n",
            "INFO:     127.0.0.1:50032 - \"GET /predict HTTP/1.1\" 200 OK\n",
            "INFO:     127.0.0.1:50042 - \"GET /predict HTTP/1.1\" 200 OK\n",
            "INFO:     127.0.0.1:50050 - \"GET /predict HTTP/1.1\" 200 OK\n",
            "INFO:     127.0.0.1:44290 - \"GET /predict HTTP/1.1\" 200 OK\n",
            "INFO:     127.0.0.1:44300 - \"GET /predict HTTP/1.1\" 200 OK\n",
            "INFO:     127.0.0.1:44312 - \"GET /predict HTTP/1.1\" 200 OK\n",
            "INFO:     127.0.0.1:44320 - \"GET /predict HTTP/1.1\" 200 OK\n",
            "INFO:     127.0.0.1:44328 - \"GET /predict HTTP/1.1\" 200 OK\n",
            "INFO:     127.0.0.1:44344 - \"GET /predict HTTP/1.1\" 200 OK\n",
            "INFO:     127.0.0.1:44346 - \"GET /predict HTTP/1.1\" 200 OK\n",
            "INFO:     127.0.0.1:44362 - \"GET /predict HTTP/1.1\" 200 OK\n",
            "INFO:     127.0.0.1:44364 - \"GET /predict HTTP/1.1\" 200 OK\n",
            "INFO:     127.0.0.1:55392 - \"GET /predict HTTP/1.1\" 200 OK\n",
            "INFO:     127.0.0.1:55396 - \"GET /predict HTTP/1.1\" 200 OK\n",
            "INFO:     127.0.0.1:55408 - \"GET /predict HTTP/1.1\" 200 OK\n",
            "INFO:     127.0.0.1:55410 - \"GET /predict HTTP/1.1\" 200 OK\n",
            "INFO:     127.0.0.1:55426 - \"GET /predict HTTP/1.1\" 200 OK\n",
            "INFO:     127.0.0.1:55442 - \"GET /predict HTTP/1.1\" 200 OK\n",
            "INFO:     127.0.0.1:55446 - \"GET /predict HTTP/1.1\" 200 OK\n",
            "INFO:     127.0.0.1:55458 - \"GET /predict HTTP/1.1\" 200 OK\n",
            "INFO:     127.0.0.1:52336 - \"GET /drone HTTP/1.1\" 404 Not Found\n",
            "WARNING:  StatReload detected changes in 'main.py'. Reloading...\n",
            "INFO:     Shutting down\n",
            "INFO:     Waiting for application shutdown.\n",
            "INFO:     Application shutdown complete.\n",
            "INFO:     Finished server process [5432]\n",
            "INFO:     Will watch for changes in these directories: ['/content']\n",
            "ERROR:    [Errno 98] Address already in use\n",
            "INFO:     Started server process [8220]\n",
            "INFO:     Waiting for application startup.\n",
            "INFO:     Application startup complete.\n",
            "INFO:     127.0.0.1:50984 - \"GET /predict HTTP/1.1\" 200 OK\n",
            "WARNING:  StatReload detected changes in 'main.py'. Reloading...\n",
            "INFO:     Shutting down\n",
            "INFO:     Waiting for application shutdown.\n",
            "INFO:     Application shutdown complete.\n",
            "INFO:     Finished server process [8220]\n",
            "INFO:     Will watch for changes in these directories: ['/content']\n",
            "INFO:     Uvicorn running on http://0.0.0.0:8000 (Press CTRL+C to quit)\n",
            "INFO:     Started reloader process [8865] using StatReload\n",
            "INFO:     Started server process [8873]\n",
            "INFO:     Waiting for application startup.\n",
            "INFO:     Application startup complete.\n",
            "INFO:     127.0.0.1:49290 - \"GET /predict HTTP/1.1\" 200 OK\n",
            "INFO:     127.0.0.1:55568 - \"GET /predict HTTP/1.1\" 200 OK\n",
            "INFO:     127.0.0.1:55578 - \"GET /predict HTTP/1.1\" 200 OK\n",
            "INFO:     127.0.0.1:55588 - \"GET /predict HTTP/1.1\" 200 OK\n",
            "INFO:     127.0.0.1:55604 - \"GET /predict HTTP/1.1\" 200 OK\n",
            "INFO:     127.0.0.1:55610 - \"GET /predict HTTP/1.1\" 200 OK\n",
            "INFO:     127.0.0.1:55616 - \"GET /predict HTTP/1.1\" 200 OK\n",
            "WARNING:  StatReload detected changes in 'main.py'. Reloading...\n",
            "INFO:     Shutting down\n",
            "INFO:     Waiting for application shutdown.\n",
            "INFO:     Application shutdown complete.\n",
            "INFO:     Finished server process [8873]\n",
            "INFO:     Will watch for changes in these directories: ['/content']\n",
            "INFO:     Uvicorn running on http://0.0.0.0:8000 (Press CTRL+C to quit)\n",
            "INFO:     Started reloader process [9037] using StatReload\n",
            "pybullet build time: Oct 27 2025 03:29:19\n",
            "INFO:     Started server process [9044]\n",
            "INFO:     Waiting for application startup.\n",
            "INFO:     Application startup complete.\n",
            "INFO:     127.0.0.1:47630 - \"GET /drone HTTP/1.1\" 200 OK\n",
            "INFO:     127.0.0.1:47640 - \"GET /drone HTTP/1.1\" 200 OK\n",
            "INFO:     127.0.0.1:47646 - \"GET /drone HTTP/1.1\" 200 OK\n",
            "INFO:     127.0.0.1:47652 - \"GET /drone HTTP/1.1\" 200 OK\n",
            "INFO:     127.0.0.1:47666 - \"GET /drone HTTP/1.1\" 200 OK\n",
            "INFO:     127.0.0.1:47678 - \"GET /drone HTTP/1.1\" 200 OK\n",
            "INFO:     127.0.0.1:47694 - \"GET /drone HTTP/1.1\" 200 OK\n",
            "INFO:     127.0.0.1:47708 - \"GET /drone HTTP/1.1\" 200 OK\n",
            "INFO:     127.0.0.1:60038 - \"GET /drone HTTP/1.1\" 200 OK\n",
            "INFO:     127.0.0.1:60052 - \"GET /drone HTTP/1.1\" 200 OK\n",
            "INFO:     127.0.0.1:60064 - \"GET /drone HTTP/1.1\" 200 OK\n",
            "INFO:     127.0.0.1:60072 - \"GET /drone HTTP/1.1\" 200 OK\n",
            "INFO:     127.0.0.1:60082 - \"GET /drone HTTP/1.1\" 200 OK\n",
            "INFO:     127.0.0.1:60090 - \"GET /drone HTTP/1.1\" 200 OK\n",
            "INFO:     127.0.0.1:60098 - \"GET /drone HTTP/1.1\" 200 OK\n",
            "INFO:     127.0.0.1:60102 - \"GET /drone HTTP/1.1\" 200 OK\n",
            "INFO:     127.0.0.1:60112 - \"GET /drone HTTP/1.1\" 200 OK\n",
            "INFO:     127.0.0.1:60120 - \"GET /drone HTTP/1.1\" 200 OK\n",
            "INFO:     127.0.0.1:60136 - \"GET /drone HTTP/1.1\" 200 OK\n",
            "INFO:     127.0.0.1:60140 - \"GET /drone HTTP/1.1\" 200 OK\n",
            "INFO:     127.0.0.1:60142 - \"GET /drone HTTP/1.1\" 200 OK\n",
            "INFO:     127.0.0.1:60652 - \"GET /drone HTTP/1.1\" 200 OK\n",
            "INFO:     127.0.0.1:41218 - \"GET /drone HTTP/1.1\" 200 OK\n",
            "INFO:     Will watch for changes in these directories: ['/content']\n",
            "INFO:     Uvicorn running on http://0.0.0.0:8000 (Press CTRL+C to quit)\n",
            "INFO:     Started reloader process [9690] using StatReload\n",
            "INFO:     Started server process [9710]\n",
            "INFO:     Waiting for application startup.\n",
            "INFO:     Application startup complete.\n",
            "INFO:     127.0.0.1:34178 - \"GET /predict HTTP/1.1\" 200 OK\n",
            "INFO:     127.0.0.1:34182 - \"GET /predict HTTP/1.1\" 200 OK\n",
            "INFO:     127.0.0.1:34186 - \"GET /predict HTTP/1.1\" 200 OK\n",
            "INFO:     127.0.0.1:34196 - \"GET /predict HTTP/1.1\" 200 OK\n",
            "INFO:     127.0.0.1:34204 - \"GET /predict HTTP/1.1\" 200 OK\n",
            "INFO:     127.0.0.1:34212 - \"GET /predict HTTP/1.1\" 200 OK\n",
            "INFO:     127.0.0.1:34214 - \"GET /predict HTTP/1.1\" 200 OK\n",
            "INFO:     127.0.0.1:34230 - \"GET /predict HTTP/1.1\" 200 OK\n",
            "INFO:     127.0.0.1:38644 - \"GET /predict HTTP/1.1\" 200 OK\n",
            "INFO:     127.0.0.1:38646 - \"GET /predict HTTP/1.1\" 200 OK\n",
            "INFO:     127.0.0.1:38658 - \"GET /predict HTTP/1.1\" 200 OK\n",
            "INFO:     127.0.0.1:38672 - \"GET /predict HTTP/1.1\" 200 OK\n",
            "WARNING:  StatReload detected changes in 'main.py'. Reloading...\n",
            "INFO:     Shutting down\n",
            "INFO:     Waiting for application shutdown.\n",
            "INFO:     Application shutdown complete.\n",
            "INFO:     Finished server process [9710]\n",
            "INFO:     Will watch for changes in these directories: ['/content']\n",
            "INFO:     Uvicorn running on http://0.0.0.0:8000 (Press CTRL+C to quit)\n",
            "INFO:     Started reloader process [9872] using StatReload\n",
            "pybullet build time: Oct 27 2025 03:29:19\n",
            "INFO:     Started server process [9896]\n",
            "INFO:     Waiting for application startup.\n",
            "INFO:     Application startup complete.\n",
            "INFO:     127.0.0.1:41954 - \"GET /drone HTTP/1.1\" 200 OK\n",
            "INFO:     127.0.0.1:41964 - \"GET /drone HTTP/1.1\" 200 OK\n",
            "INFO:     127.0.0.1:41978 - \"GET /drone HTTP/1.1\" 200 OK\n",
            "INFO:     127.0.0.1:41986 - \"GET /drone HTTP/1.1\" 200 OK\n",
            "INFO:     127.0.0.1:41998 - \"GET /drone HTTP/1.1\" 200 OK\n",
            "INFO:     127.0.0.1:42012 - \"GET /drone HTTP/1.1\" 200 OK\n",
            "INFO:     127.0.0.1:42018 - \"GET /drone HTTP/1.1\" 200 OK\n",
            "INFO:     127.0.0.1:42028 - \"GET /drone HTTP/1.1\" 200 OK\n",
            "INFO:     127.0.0.1:42044 - \"GET /drone HTTP/1.1\" 200 OK\n",
            "INFO:     127.0.0.1:42052 - \"GET /drone HTTP/1.1\" 200 OK\n",
            "INFO:     127.0.0.1:42054 - \"GET /drone HTTP/1.1\" 200 OK\n",
            "INFO:     127.0.0.1:42060 - \"GET /drone HTTP/1.1\" 200 OK\n",
            "INFO:     127.0.0.1:42068 - \"GET /drone HTTP/1.1\" 200 OK\n",
            "INFO:     127.0.0.1:42084 - \"GET /drone HTTP/1.1\" 200 OK\n",
            "INFO:     127.0.0.1:42094 - \"GET /drone HTTP/1.1\" 200 OK\n",
            "INFO:     127.0.0.1:42104 - \"GET /drone HTTP/1.1\" 200 OK\n",
            "INFO:     127.0.0.1:42116 - \"GET /drone HTTP/1.1\" 200 OK\n",
            "INFO:     127.0.0.1:42128 - \"GET /drone HTTP/1.1\" 200 OK\n",
            "INFO:     127.0.0.1:57176 - \"GET /drone HTTP/1.1\" 200 OK\n",
            "INFO:     127.0.0.1:57186 - \"GET /drone HTTP/1.1\" 200 OK\n",
            "INFO:     127.0.0.1:57190 - \"GET /drone HTTP/1.1\" 200 OK\n",
            "INFO:     Will watch for changes in these directories: ['/content']\n",
            "INFO:     Uvicorn running on http://0.0.0.0:8000 (Press CTRL+C to quit)\n",
            "INFO:     Started reloader process [10308] using StatReload\n",
            "pybullet build time: Oct 27 2025 03:29:19\n",
            "INFO:     Started server process [10314]\n",
            "INFO:     Waiting for application startup.\n",
            "INFO:     Application startup complete.\n",
            "INFO:     127.0.0.1:56964 - \"GET /drone HTTP/1.1\" 200 OK\n",
            "INFO:     127.0.0.1:44652 - \"GET /drone HTTP/1.1\" 200 OK\n",
            "INFO:     127.0.0.1:44668 - \"GET /drone HTTP/1.1\" 200 OK\n",
            "INFO:     127.0.0.1:44680 - \"GET /drone HTTP/1.1\" 200 OK\n",
            "INFO:     127.0.0.1:44690 - \"GET /drone HTTP/1.1\" 200 OK\n",
            "INFO:     127.0.0.1:44692 - \"GET /drone HTTP/1.1\" 200 OK\n",
            "INFO:     127.0.0.1:44704 - \"GET /drone HTTP/1.1\" 200 OK\n",
            "INFO:     127.0.0.1:44712 - \"GET /drone HTTP/1.1\" 200 OK\n",
            "INFO:     127.0.0.1:44726 - \"GET /drone HTTP/1.1\" 200 OK\n",
            "INFO:     127.0.0.1:44732 - \"GET /drone HTTP/1.1\" 200 OK\n",
            "INFO:     127.0.0.1:49626 - \"GET /drone HTTP/1.1\" 200 OK\n",
            "INFO:     127.0.0.1:49628 - \"GET /drone HTTP/1.1\" 200 OK\n",
            "INFO:     127.0.0.1:49634 - \"GET /drone HTTP/1.1\" 200 OK\n",
            "INFO:     127.0.0.1:49646 - \"GET /drone HTTP/1.1\" 200 OK\n",
            "INFO:     127.0.0.1:34784 - \"GET /drone HTTP/1.1\" 200 OK\n",
            "INFO:     127.0.0.1:34786 - \"GET /drone HTTP/1.1\" 200 OK\n",
            "INFO:     127.0.0.1:34794 - \"GET /drone HTTP/1.1\" 200 OK\n",
            "INFO:     127.0.0.1:34810 - \"GET /drone HTTP/1.1\" 200 OK\n",
            "INFO:     127.0.0.1:34812 - \"GET /drone HTTP/1.1\" 200 OK\n",
            "INFO:     127.0.0.1:34822 - \"GET /drone HTTP/1.1\" 200 OK\n",
            "INFO:     127.0.0.1:34830 - \"GET /drone HTTP/1.1\" 200 OK\n",
            "INFO:     127.0.0.1:34832 - \"GET /drone HTTP/1.1\" 200 OK\n",
            "INFO:     127.0.0.1:34848 - \"GET /drone HTTP/1.1\" 200 OK\n",
            "INFO:     127.0.0.1:46576 - \"GET /drone HTTP/1.1\" 200 OK\n",
            "INFO:     127.0.0.1:46578 - \"GET /drone HTTP/1.1\" 200 OK\n",
            "INFO:     127.0.0.1:46584 - \"GET /drone HTTP/1.1\" 200 OK\n",
            "INFO:     127.0.0.1:46596 - \"GET /drone HTTP/1.1\" 200 OK\n",
            "INFO:     127.0.0.1:46608 - \"GET /drone HTTP/1.1\" 200 OK\n",
            "INFO:     127.0.0.1:46616 - \"GET /drone HTTP/1.1\" 200 OK\n",
            "INFO:     127.0.0.1:46622 - \"GET /drone HTTP/1.1\" 200 OK\n",
            "INFO:     127.0.0.1:46634 - \"GET /drone HTTP/1.1\" 200 OK\n",
            "INFO:     127.0.0.1:46642 - \"GET /drone HTTP/1.1\" 200 OK\n",
            "INFO:     127.0.0.1:34016 - \"GET /drone HTTP/1.1\" 200 OK\n",
            "INFO:     127.0.0.1:34022 - \"GET /drone HTTP/1.1\" 200 OK\n",
            "INFO:     127.0.0.1:34036 - \"GET /drone HTTP/1.1\" 200 OK\n",
            "INFO:     127.0.0.1:34042 - \"GET /drone HTTP/1.1\" 200 OK\n",
            "INFO:     127.0.0.1:34050 - \"GET /drone HTTP/1.1\" 200 OK\n",
            "INFO:     127.0.0.1:34066 - \"GET /drone HTTP/1.1\" 200 OK\n",
            "INFO:     127.0.0.1:34082 - \"GET /drone HTTP/1.1\" 200 OK\n",
            "INFO:     127.0.0.1:34086 - \"GET /drone HTTP/1.1\" 200 OK\n",
            "INFO:     127.0.0.1:34098 - \"GET /drone HTTP/1.1\" 200 OK\n",
            "INFO:     127.0.0.1:34114 - \"GET /drone HTTP/1.1\" 200 OK\n",
            "INFO:     127.0.0.1:42146 - \"GET /drone HTTP/1.1\" 200 OK\n",
            "INFO:     127.0.0.1:42154 - \"GET /drone HTTP/1.1\" 200 OK\n",
            "INFO:     127.0.0.1:42170 - \"GET /drone HTTP/1.1\" 200 OK\n",
            "INFO:     127.0.0.1:42172 - \"GET /drone HTTP/1.1\" 200 OK\n",
            "INFO:     127.0.0.1:42176 - \"GET /drone HTTP/1.1\" 200 OK\n",
            "INFO:     127.0.0.1:42190 - \"GET /drone HTTP/1.1\" 200 OK\n",
            "INFO:     127.0.0.1:42192 - \"GET /drone HTTP/1.1\" 200 OK\n",
            "INFO:     127.0.0.1:42208 - \"GET /drone HTTP/1.1\" 200 OK\n",
            "INFO:     127.0.0.1:42210 - \"GET /drone HTTP/1.1\" 200 OK\n",
            "INFO:     127.0.0.1:46384 - \"GET /drone HTTP/1.1\" 200 OK\n",
            "INFO:     127.0.0.1:46394 - \"GET /drone HTTP/1.1\" 200 OK\n",
            "INFO:     127.0.0.1:46396 - \"GET /drone HTTP/1.1\" 200 OK\n",
            "INFO:     127.0.0.1:46404 - \"GET /drone HTTP/1.1\" 200 OK\n",
            "INFO:     127.0.0.1:46414 - \"GET /drone HTTP/1.1\" 200 OK\n",
            "INFO:     127.0.0.1:46416 - \"GET /drone HTTP/1.1\" 200 OK\n",
            "INFO:     127.0.0.1:46424 - \"GET /drone HTTP/1.1\" 200 OK\n",
            "INFO:     127.0.0.1:46440 - \"GET /drone HTTP/1.1\" 200 OK\n",
            "INFO:     127.0.0.1:46448 - \"GET /drone HTTP/1.1\" 200 OK\n",
            "INFO:     127.0.0.1:46458 - \"GET /drone HTTP/1.1\" 200 OK\n",
            "INFO:     127.0.0.1:46470 - \"GET /drone HTTP/1.1\" 200 OK\n",
            "INFO:     127.0.0.1:49032 - \"GET /drone HTTP/1.1\" 200 OK\n",
            "INFO:     127.0.0.1:49034 - \"GET /drone HTTP/1.1\" 200 OK\n",
            "INFO:     127.0.0.1:49050 - \"GET /drone HTTP/1.1\" 200 OK\n",
            "INFO:     127.0.0.1:49058 - \"GET /drone HTTP/1.1\" 200 OK\n",
            "INFO:     127.0.0.1:49070 - \"GET /drone HTTP/1.1\" 200 OK\n",
            "INFO:     127.0.0.1:49080 - \"GET /drone HTTP/1.1\" 200 OK\n",
            "INFO:     127.0.0.1:49094 - \"GET /drone HTTP/1.1\" 200 OK\n",
            "INFO:     127.0.0.1:49096 - \"GET /drone HTTP/1.1\" 200 OK\n",
            "INFO:     127.0.0.1:49100 - \"GET /drone HTTP/1.1\" 200 OK\n",
            "INFO:     127.0.0.1:49108 - \"GET /drone HTTP/1.1\" 200 OK\n",
            "INFO:     127.0.0.1:57494 - \"GET /drone HTTP/1.1\" 200 OK\n",
            "INFO:     127.0.0.1:57502 - \"GET /drone HTTP/1.1\" 200 OK\n",
            "INFO:     127.0.0.1:57514 - \"GET /drone HTTP/1.1\" 200 OK\n",
            "INFO:     127.0.0.1:57528 - \"GET /drone HTTP/1.1\" 200 OK\n",
            "INFO:     127.0.0.1:57542 - \"GET /drone HTTP/1.1\" 200 OK\n",
            "INFO:     127.0.0.1:57546 - \"GET /drone HTTP/1.1\" 200 OK\n",
            "INFO:     127.0.0.1:57548 - \"GET /drone HTTP/1.1\" 200 OK\n",
            "INFO:     127.0.0.1:57552 - \"GET /drone HTTP/1.1\" 200 OK\n",
            "INFO:     127.0.0.1:57558 - \"GET /drone HTTP/1.1\" 200 OK\n",
            "INFO:     127.0.0.1:57566 - \"GET /drone HTTP/1.1\" 200 OK\n",
            "INFO:     127.0.0.1:54146 - \"GET /drone HTTP/1.1\" 200 OK\n",
            "INFO:     127.0.0.1:54150 - \"GET /drone HTTP/1.1\" 200 OK\n",
            "INFO:     127.0.0.1:54152 - \"GET /drone HTTP/1.1\" 200 OK\n",
            "INFO:     127.0.0.1:54164 - \"GET /drone HTTP/1.1\" 200 OK\n",
            "INFO:     127.0.0.1:54172 - \"GET /drone HTTP/1.1\" 200 OK\n",
            "INFO:     127.0.0.1:54174 - \"GET /drone HTTP/1.1\" 200 OK\n",
            "INFO:     127.0.0.1:54176 - \"GET /drone HTTP/1.1\" 200 OK\n",
            "INFO:     127.0.0.1:54192 - \"GET /drone HTTP/1.1\" 200 OK\n",
            "INFO:     127.0.0.1:54196 - \"GET /drone HTTP/1.1\" 200 OK\n",
            "INFO:     127.0.0.1:54198 - \"GET /drone HTTP/1.1\" 200 OK\n",
            "INFO:     127.0.0.1:50930 - \"GET /drone HTTP/1.1\" 200 OK\n",
            "INFO:     127.0.0.1:50938 - \"GET /drone HTTP/1.1\" 200 OK\n",
            "INFO:     127.0.0.1:50952 - \"GET /drone HTTP/1.1\" 200 OK\n",
            "INFO:     127.0.0.1:50966 - \"GET /drone HTTP/1.1\" 200 OK\n",
            "INFO:     127.0.0.1:50976 - \"GET /drone HTTP/1.1\" 200 OK\n",
            "INFO:     127.0.0.1:50982 - \"GET /drone HTTP/1.1\" 200 OK\n",
            "INFO:     127.0.0.1:50994 - \"GET /drone HTTP/1.1\" 200 OK\n",
            "INFO:     127.0.0.1:51010 - \"GET /drone HTTP/1.1\" 200 OK\n",
            "INFO:     127.0.0.1:51024 - \"GET /drone HTTP/1.1\" 200 OK\n",
            "INFO:     127.0.0.1:51032 - \"GET /drone HTTP/1.1\" 200 OK\n",
            "INFO:     127.0.0.1:42916 - \"GET /drone HTTP/1.1\" 200 OK\n",
            "INFO:     127.0.0.1:42920 - \"GET /drone HTTP/1.1\" 200 OK\n",
            "INFO:     127.0.0.1:42932 - \"GET /drone HTTP/1.1\" 200 OK\n",
            "INFO:     127.0.0.1:42946 - \"GET /drone HTTP/1.1\" 200 OK\n",
            "INFO:     127.0.0.1:42956 - \"GET /drone HTTP/1.1\" 200 OK\n",
            "INFO:     127.0.0.1:42964 - \"GET /drone HTTP/1.1\" 200 OK\n",
            "INFO:     127.0.0.1:42968 - \"GET /drone HTTP/1.1\" 200 OK\n",
            "INFO:     127.0.0.1:42976 - \"GET /drone HTTP/1.1\" 200 OK\n",
            "INFO:     127.0.0.1:42988 - \"GET /drone HTTP/1.1\" 200 OK\n",
            "INFO:     127.0.0.1:42998 - \"GET /drone HTTP/1.1\" 200 OK\n",
            "INFO:     127.0.0.1:34676 - \"GET /drone HTTP/1.1\" 200 OK\n",
            "INFO:     127.0.0.1:34690 - \"GET /drone HTTP/1.1\" 200 OK\n",
            "INFO:     127.0.0.1:34694 - \"GET /drone HTTP/1.1\" 200 OK\n",
            "INFO:     127.0.0.1:34698 - \"GET /drone HTTP/1.1\" 200 OK\n",
            "INFO:     127.0.0.1:34712 - \"GET /drone HTTP/1.1\" 200 OK\n",
            "INFO:     127.0.0.1:34718 - \"GET /drone HTTP/1.1\" 200 OK\n",
            "INFO:     127.0.0.1:34734 - \"GET /drone HTTP/1.1\" 200 OK\n",
            "INFO:     127.0.0.1:34750 - \"GET /drone HTTP/1.1\" 200 OK\n",
            "INFO:     127.0.0.1:34752 - \"GET /drone HTTP/1.1\" 200 OK\n",
            "INFO:     127.0.0.1:34754 - \"GET /drone HTTP/1.1\" 200 OK\n",
            "INFO:     127.0.0.1:39486 - \"GET /drone HTTP/1.1\" 200 OK\n",
            "INFO:     127.0.0.1:39496 - \"GET /drone HTTP/1.1\" 200 OK\n",
            "INFO:     127.0.0.1:39498 - \"GET /drone HTTP/1.1\" 200 OK\n",
            "INFO:     127.0.0.1:39508 - \"GET /drone HTTP/1.1\" 200 OK\n",
            "INFO:     127.0.0.1:39516 - \"GET /drone HTTP/1.1\" 200 OK\n",
            "INFO:     127.0.0.1:39528 - \"GET /drone HTTP/1.1\" 200 OK\n",
            "INFO:     127.0.0.1:39532 - \"GET /drone HTTP/1.1\" 200 OK\n",
            "INFO:     127.0.0.1:39548 - \"GET /drone HTTP/1.1\" 200 OK\n",
            "INFO:     127.0.0.1:39556 - \"GET /drone HTTP/1.1\" 200 OK\n",
            "INFO:     127.0.0.1:39570 - \"GET /drone HTTP/1.1\" 200 OK\n",
            "INFO:     127.0.0.1:42722 - \"GET /drone HTTP/1.1\" 200 OK\n",
            "INFO:     127.0.0.1:42734 - \"GET /drone HTTP/1.1\" 200 OK\n",
            "INFO:     127.0.0.1:42738 - \"GET /drone HTTP/1.1\" 200 OK\n",
            "INFO:     127.0.0.1:42744 - \"GET /drone HTTP/1.1\" 200 OK\n",
            "INFO:     127.0.0.1:42752 - \"GET /drone HTTP/1.1\" 200 OK\n",
            "INFO:     127.0.0.1:42756 - \"GET /drone HTTP/1.1\" 200 OK\n",
            "INFO:     127.0.0.1:42768 - \"GET /drone HTTP/1.1\" 200 OK\n",
            "INFO:     127.0.0.1:42778 - \"GET /drone HTTP/1.1\" 200 OK\n",
            "INFO:     127.0.0.1:42784 - \"GET /drone HTTP/1.1\" 200 OK\n",
            "INFO:     127.0.0.1:42794 - \"GET /drone HTTP/1.1\" 200 OK\n",
            "INFO:     127.0.0.1:43778 - \"GET /drone HTTP/1.1\" 200 OK\n",
            "INFO:     127.0.0.1:43786 - \"GET /drone HTTP/1.1\" 200 OK\n",
            "INFO:     127.0.0.1:43802 - \"GET /drone HTTP/1.1\" 200 OK\n",
            "INFO:     127.0.0.1:43808 - \"GET /drone HTTP/1.1\" 200 OK\n",
            "INFO:     127.0.0.1:43822 - \"GET /drone HTTP/1.1\" 200 OK\n",
            "INFO:     127.0.0.1:43826 - \"GET /drone HTTP/1.1\" 200 OK\n",
            "INFO:     127.0.0.1:43828 - \"GET /drone HTTP/1.1\" 200 OK\n",
            "INFO:     127.0.0.1:43832 - \"GET /drone HTTP/1.1\" 200 OK\n",
            "INFO:     127.0.0.1:43840 - \"GET /drone HTTP/1.1\" 200 OK\n",
            "INFO:     127.0.0.1:43850 - \"GET /drone HTTP/1.1\" 200 OK\n",
            "INFO:     127.0.0.1:35276 - \"GET /drone HTTP/1.1\" 200 OK\n",
            "INFO:     127.0.0.1:35284 - \"GET /drone HTTP/1.1\" 200 OK\n",
            "INFO:     127.0.0.1:35298 - \"GET /drone HTTP/1.1\" 200 OK\n",
            "INFO:     127.0.0.1:35306 - \"GET /drone HTTP/1.1\" 200 OK\n",
            "INFO:     127.0.0.1:35320 - \"GET /drone HTTP/1.1\" 200 OK\n",
            "INFO:     127.0.0.1:35330 - \"GET /drone HTTP/1.1\" 200 OK\n",
            "INFO:     127.0.0.1:35340 - \"GET /drone HTTP/1.1\" 200 OK\n",
            "INFO:     127.0.0.1:35342 - \"GET /drone HTTP/1.1\" 200 OK\n",
            "INFO:     127.0.0.1:35354 - \"GET /drone HTTP/1.1\" 200 OK\n",
            "INFO:     127.0.0.1:46792 - \"GET /drone HTTP/1.1\" 200 OK\n",
            "INFO:     127.0.0.1:46806 - \"GET /drone HTTP/1.1\" 200 OK\n",
            "INFO:     127.0.0.1:46810 - \"GET /drone HTTP/1.1\" 200 OK\n",
            "INFO:     127.0.0.1:46812 - \"GET /drone HTTP/1.1\" 200 OK\n",
            "INFO:     127.0.0.1:46818 - \"GET /drone HTTP/1.1\" 200 OK\n",
            "INFO:     127.0.0.1:46822 - \"GET /drone HTTP/1.1\" 200 OK\n",
            "INFO:     127.0.0.1:46834 - \"GET /drone HTTP/1.1\" 200 OK\n",
            "INFO:     127.0.0.1:46844 - \"GET /drone HTTP/1.1\" 200 OK\n",
            "INFO:     127.0.0.1:46848 - \"GET /drone HTTP/1.1\" 200 OK\n",
            "INFO:     127.0.0.1:46850 - \"GET /drone HTTP/1.1\" 200 OK\n",
            "INFO:     127.0.0.1:46854 - \"GET /drone HTTP/1.1\" 200 OK\n",
            "INFO:     127.0.0.1:34204 - \"GET /drone HTTP/1.1\" 200 OK\n",
            "INFO:     127.0.0.1:34206 - \"GET /drone HTTP/1.1\" 200 OK\n",
            "INFO:     127.0.0.1:34218 - \"GET /drone HTTP/1.1\" 200 OK\n",
            "INFO:     127.0.0.1:34228 - \"GET /drone HTTP/1.1\" 200 OK\n",
            "INFO:     127.0.0.1:34240 - \"GET /drone HTTP/1.1\" 200 OK\n",
            "INFO:     127.0.0.1:34248 - \"GET /drone HTTP/1.1\" 200 OK\n",
            "INFO:     127.0.0.1:34250 - \"GET /drone HTTP/1.1\" 200 OK\n",
            "INFO:     127.0.0.1:34256 - \"GET /drone HTTP/1.1\" 200 OK\n",
            "INFO:     127.0.0.1:34272 - \"GET /drone HTTP/1.1\" 200 OK\n",
            "INFO:     127.0.0.1:34284 - \"GET /drone HTTP/1.1\" 200 OK\n",
            "INFO:     127.0.0.1:37856 - \"GET /drone HTTP/1.1\" 200 OK\n",
            "INFO:     127.0.0.1:37864 - \"GET /drone HTTP/1.1\" 200 OK\n",
            "INFO:     127.0.0.1:37870 - \"GET /drone HTTP/1.1\" 200 OK\n",
            "INFO:     127.0.0.1:37878 - \"GET /drone HTTP/1.1\" 200 OK\n",
            "INFO:     127.0.0.1:37888 - \"GET /drone HTTP/1.1\" 200 OK\n",
            "INFO:     127.0.0.1:37904 - \"GET /drone HTTP/1.1\" 200 OK\n",
            "INFO:     127.0.0.1:37908 - \"GET /drone HTTP/1.1\" 200 OK\n",
            "INFO:     127.0.0.1:37922 - \"GET /drone HTTP/1.1\" 200 OK\n",
            "INFO:     127.0.0.1:37932 - \"GET /drone HTTP/1.1\" 200 OK\n",
            "INFO:     127.0.0.1:37946 - \"GET /drone HTTP/1.1\" 200 OK\n",
            "INFO:     127.0.0.1:59838 - \"GET /drone HTTP/1.1\" 200 OK\n",
            "WARNING:  StatReload detected changes in 'main.py'. Reloading...\n",
            "INFO:     Shutting down\n",
            "INFO:     Waiting for application shutdown.\n",
            "INFO:     Application shutdown complete.\n",
            "INFO:     Finished server process [10314]\n"
          ]
        }
      ],
      "source": [
        "!cat nohup.out"
      ]
    },
    {
      "cell_type": "code",
      "execution_count": 11,
      "metadata": {
        "id": "cvNN7fHc16OL",
        "colab": {
          "base_uri": "https://localhost:8080/"
        },
        "outputId": "459ea761-d166-4507-9615-d5e65b6ce16b"
      },
      "outputs": [
        {
          "output_type": "stream",
          "name": "stdout",
          "text": [
            "{\"result\":56}"
          ]
        }
      ],
      "source": [
        "!curl -X GET http://0.0.0.0:8000/predict"
      ]
    },
    {
      "cell_type": "code",
      "execution_count": 12,
      "metadata": {
        "id": "_E7RDE0Hz3UF",
        "colab": {
          "base_uri": "https://localhost:8080/",
          "height": 645
        },
        "outputId": "d2faf6bd-3858-4591-97cd-5ee975878ffb"
      },
      "outputs": [
        {
          "output_type": "stream",
          "name": "stdout",
          "text": [
            "It looks like you are running Gradio on a hosted Jupyter notebook, which requires `share=True`. Automatically setting `share=True` (you can turn this off by setting `share=False` in `launch()` explicitly).\n",
            "\n",
            "Colab notebook detected. To show errors in colab notebook, set debug=True in launch()\n",
            "* Running on public URL: https://68075bd589acbdd993.gradio.live\n",
            "\n",
            "This share link expires in 1 week. For free permanent hosting and GPU upgrades, run `gradio deploy` from the terminal in the working directory to deploy to Hugging Face Spaces (https://huggingface.co/spaces)\n"
          ]
        },
        {
          "output_type": "display_data",
          "data": {
            "text/plain": [
              "<IPython.core.display.HTML object>"
            ],
            "text/html": [
              "<div><iframe src=\"https://68075bd589acbdd993.gradio.live\" width=\"100%\" height=\"500\" allow=\"autoplay; camera; microphone; clipboard-read; clipboard-write;\" frameborder=\"0\" allowfullscreen></iframe></div>"
            ]
          },
          "metadata": {}
        },
        {
          "output_type": "execute_result",
          "data": {
            "text/plain": []
          },
          "metadata": {},
          "execution_count": 12
        }
      ],
      "source": [
        "# สร้าง dashboard\n",
        "API_URL = \"http://0.0.0.0:8000/predict\"\n",
        "\n",
        "def get_data():\n",
        "    res = requests.get(API_URL)\n",
        "    data = res.json()\n",
        "    thb_rate = data[\"result\"]\n",
        "    return f\"1 USD = {thb_rate:.2f} THB\"\n",
        "\n",
        "# UI\n",
        "with gr.Blocks() as demo:\n",
        "    gr.Markdown(\"### อัปเดตราคาค่าเงินจาก API (ไม่ reload หน้า)\")\n",
        "    output = gr.Textbox(label=\"ผลลัพธ์\", interactive=False)\n",
        "    btn = gr.Button(\"รีเฟรชข้อมูล\")\n",
        "\n",
        "    btn.click(fn=get_data, outputs=output)\n",
        "\n",
        "demo.launch()"
      ]
    },
    {
      "cell_type": "code",
      "execution_count": 13,
      "metadata": {
        "id": "AkGVMvkI5z98",
        "colab": {
          "base_uri": "https://localhost:8080/",
          "height": 645
        },
        "outputId": "0a5d1ee1-17cb-4e39-f685-98b9901aaf8d"
      },
      "outputs": [
        {
          "output_type": "stream",
          "name": "stdout",
          "text": [
            "It looks like you are running Gradio on a hosted Jupyter notebook, which requires `share=True`. Automatically setting `share=True` (you can turn this off by setting `share=False` in `launch()` explicitly).\n",
            "\n",
            "Colab notebook detected. To show errors in colab notebook, set debug=True in launch()\n",
            "* Running on public URL: https://960cf61de842dd2261.gradio.live\n",
            "\n",
            "This share link expires in 1 week. For free permanent hosting and GPU upgrades, run `gradio deploy` from the terminal in the working directory to deploy to Hugging Face Spaces (https://huggingface.co/spaces)\n"
          ]
        },
        {
          "output_type": "display_data",
          "data": {
            "text/plain": [
              "<IPython.core.display.HTML object>"
            ],
            "text/html": [
              "<div><iframe src=\"https://960cf61de842dd2261.gradio.live\" width=\"100%\" height=\"500\" allow=\"autoplay; camera; microphone; clipboard-read; clipboard-write;\" frameborder=\"0\" allowfullscreen></iframe></div>"
            ]
          },
          "metadata": {}
        },
        {
          "output_type": "execute_result",
          "data": {
            "text/plain": []
          },
          "metadata": {},
          "execution_count": 13
        }
      ],
      "source": [
        "import gradio as gr\n",
        "import requests, datetime\n",
        "\n",
        "def get_data():\n",
        "    r = requests.get(\"http://0.0.0.0:8000/predict\")\n",
        "    data = r.json()\n",
        "    return f'{datetime.datetime.now():%H:%M:%S} → BTC/USD: {data[\"result\"]}'\n",
        "\n",
        "with gr.Blocks() as app:\n",
        "    out = gr.Textbox(label=\"Realtime Feed\", lines=2)\n",
        "\n",
        "    # Gradio 4.x+ syntax\n",
        "    gr.Timer(value=1).tick(fn=get_data, outputs=out)\n",
        "\n",
        "app.launch()"
      ]
    },
    {
      "cell_type": "code",
      "execution_count": 14,
      "metadata": {
        "id": "chmlES1gu9Ev",
        "colab": {
          "base_uri": "https://localhost:8080/",
          "height": 645
        },
        "outputId": "22f7d833-2bc7-4831-d216-95c3f30e6762"
      },
      "outputs": [
        {
          "output_type": "stream",
          "name": "stdout",
          "text": [
            "It looks like you are running Gradio on a hosted Jupyter notebook, which requires `share=True`. Automatically setting `share=True` (you can turn this off by setting `share=False` in `launch()` explicitly).\n",
            "\n",
            "Colab notebook detected. To show errors in colab notebook, set debug=True in launch()\n",
            "* Running on public URL: https://f6d540067c6d5025d3.gradio.live\n",
            "\n",
            "This share link expires in 1 week. For free permanent hosting and GPU upgrades, run `gradio deploy` from the terminal in the working directory to deploy to Hugging Face Spaces (https://huggingface.co/spaces)\n"
          ]
        },
        {
          "output_type": "display_data",
          "data": {
            "text/plain": [
              "<IPython.core.display.HTML object>"
            ],
            "text/html": [
              "<div><iframe src=\"https://f6d540067c6d5025d3.gradio.live\" width=\"100%\" height=\"500\" allow=\"autoplay; camera; microphone; clipboard-read; clipboard-write;\" frameborder=\"0\" allowfullscreen></iframe></div>"
            ]
          },
          "metadata": {}
        },
        {
          "output_type": "execute_result",
          "data": {
            "text/plain": []
          },
          "metadata": {},
          "execution_count": 14
        }
      ],
      "source": [
        "import gradio as gr\n",
        "import requests\n",
        "import datetime\n",
        "import plotly.graph_objects as go\n",
        "from collections import deque\n",
        "\n",
        "# Keep track of data for the last few updates\n",
        "data_history = deque(maxlen=20) # Store the last 20 data points\n",
        "time_history = deque(maxlen=20) # Store timestamps\n",
        "\n",
        "API_URL = \"http://0.0.0.0:8000/predict\"\n",
        "\n",
        "def get_data_and_update_plot():\n",
        "    try:\n",
        "        r = requests.get(API_URL)\n",
        "        data = r.json()\n",
        "        price = data.get(\"result\")\n",
        "\n",
        "        if price is not None:\n",
        "            now = datetime.datetime.now()\n",
        "            data_history.append(price)\n",
        "            time_history.append(now)\n",
        "\n",
        "            # Create a Plotly figure\n",
        "            fig = go.Figure()\n",
        "            fig.add_trace(go.Scatter(x=list(time_history), y=list(data_history), mode='lines+markers'))\n",
        "\n",
        "            fig.update_layout(\n",
        "                title=\"Real-time BTC/USD Price\",\n",
        "                xaxis_title=\"Time\",\n",
        "                yaxis_title=\"Price\",\n",
        "                xaxis=dict(tickformat=\"%H:%M:%S\")\n",
        "            )\n",
        "\n",
        "            return fig, gr.update(value=f'{now:%H:%M:%S} → BTC/USD: {price}')\n",
        "        else:\n",
        "            return go.Figure(), gr.update(value=f'{datetime.datetime.now():%H:%M:%S} → Error: Could not get price')\n",
        "\n",
        "    except requests.exceptions.RequestException as e:\n",
        "        return go.Figure(), gr.update(value=f'{datetime.datetime.now():%H:%M:%S} → Error: {e}')\n",
        "    except Exception as e:\n",
        "        return go.Figure(), gr.update(value=f'{datetime.datetime.now():%H:%M:%S} → An unexpected error occurred: {e}')\n",
        "\n",
        "\n",
        "with gr.Blocks() as app:\n",
        "    gr.Markdown(\"### อัปเดตราคาค่าเงินจาก API และแสดงผลเป็นกราฟ\")\n",
        "\n",
        "    with gr.Row():\n",
        "        plot_output = gr.Plot(label=\"Realtime Price Graph\")\n",
        "        text_output = gr.Textbox(label=\"Latest Update\", lines=2, interactive=False)\n",
        "\n",
        "    # Gradio 4.x+ syntax\n",
        "    gr.Timer(value=1).tick(\n",
        "        fn=get_data_and_update_plot,\n",
        "        outputs=[plot_output, text_output]\n",
        "    )\n",
        "\n",
        "app.launch()"
      ]
    },
    {
      "cell_type": "code",
      "execution_count": 15,
      "metadata": {
        "colab": {
          "base_uri": "https://localhost:8080/"
        },
        "id": "miACFrSVYIgW",
        "outputId": "2d1ef9dc-1559-4605-b5e9-7340c6b4b842"
      },
      "outputs": [
        {
          "output_type": "stream",
          "name": "stdout",
          "text": [
            "Requirement already satisfied: pybullet in /usr/local/lib/python3.12/dist-packages (3.2.7)\n"
          ]
        }
      ],
      "source": [
        "!pip install pybullet\n",
        "# จำลองโดรน"
      ]
    },
    {
      "cell_type": "code",
      "execution_count": 16,
      "metadata": {
        "colab": {
          "base_uri": "https://localhost:8080/"
        },
        "id": "ZC8hzQK8euqD",
        "outputId": "51b7057b-4311-4286-9c58-ebc27af161e6"
      },
      "outputs": [
        {
          "output_type": "stream",
          "name": "stdout",
          "text": [
            "fatal: destination path 'gym-pybullet-drones' already exists and is not an empty directory.\n"
          ]
        }
      ],
      "source": [
        "!git clone https://github.com/utiasDSL/gym-pybullet-drones.git\n",
        "#  โมเดลโดรน\n"
      ]
    },
    {
      "cell_type": "markdown",
      "metadata": {
        "id": "Ng0ByudTPwn3"
      },
      "source": [
        "                ↑  Z  (ขึ้น)\n",
        "                |\n",
        "                |\n",
        "                |         🟦 Drone (โดรน)\n",
        "                |        /\n",
        "                |       /\n",
        "                |      /\n",
        "                |     /\n",
        "                |    /\n",
        "                |   /\n",
        "                |  /\n",
        "                | /\n",
        "                +--------------------→  X (ไปข้างหน้า)\n",
        "               /\n",
        "              /\n",
        "             /\n",
        "            /\n",
        "           ↓\n",
        "          Y (ไปทางขวา)\n"
      ]
    },
    {
      "cell_type": "code",
      "execution_count": 17,
      "metadata": {
        "id": "yO5sONjHHBVA"
      },
      "outputs": [],
      "source": [
        "# with open('main.py', 'w') as f:\n",
        "#     f.write('''\n",
        "# import pybullet as p\n",
        "# import pybullet_data\n",
        "# import time\n",
        "# import datetime\n",
        "# import json\n",
        "# from fastapi import FastAPI\n",
        "# from fastapi.responses import JSONResponse\n",
        "# # import uvicorn\n",
        "# import threading\n",
        "\n",
        "# drone_state = {\"x\": 0, \"y\": 0, \"z\": 0, \"vx\": 0, \"vy\": 0, \"vz\": 0}\n",
        "\n",
        "# def simulate_drone():\n",
        "#     physicsClient = p.connect(p.DIRECT)\n",
        "#     p.setAdditionalSearchPath(pybullet_data.getDataPath())\n",
        "#     p.setGravity(0, 0, -9.81)\n",
        "#     p.loadURDF(\"plane.urdf\")\n",
        "\n",
        "#     drone_path = \"/content/gym-pybullet-drones/gym_pybullet_drones/assets/cf2x.urdf\"\n",
        "#     drone = p.loadURDF(drone_path, [0, 0, 0])\n",
        "\n",
        "#     mass = p.getDynamicsInfo(drone, -1)[0]\n",
        "#     thrust = mass * 9.81 * 1.1  # ให้แรงมากกว่า hover เล็กน้อย\n",
        "\n",
        "#     while True:\n",
        "#         p.applyExternalForce(drone, -1, [0, 0, thrust], [0, 0, 0], p.WORLD_FRAME)\n",
        "#         p.stepSimulation()\n",
        "\n",
        "#         pos, _ = p.getBasePositionAndOrientation(drone)\n",
        "#         vel, _ = p.getBaseVelocity(drone)\n",
        "\n",
        "#         # คืนค่าเวลาปัจจุบันเป็นวินาทีตั้งแต่ 1 ม.ค. 1970\n",
        "#         now_epoch = time.time()\n",
        "#         now_iso = datetime.datetime.utcfromtimestamp(now_epoch).isoformat(timespec='microseconds') + \"Z\"\n",
        "\n",
        "#         drone_state.update({\n",
        "#             \"x\": pos[0],\n",
        "#             \"y\": pos[1],\n",
        "#             \"z\": pos[2],\n",
        "#             \"vx\": vel[0],\n",
        "#             \"vy\": vel[1],\n",
        "#             \"vz\": vel[2],\n",
        "#             \"timestamp\": now_iso,\n",
        "#         })\n",
        "\n",
        "#         time.sleep(1/240)\n",
        "\n",
        "# # --- รัน PyBullet ใน background ---\n",
        "# threading.Thread(target=simulate_drone, daemon=True).start()\n",
        "\n",
        "# # --- สร้าง API ---\n",
        "# app = FastAPI()\n",
        "\n",
        "# @app.get(\"/drone\")\n",
        "# def get_drone_state():\n",
        "#     return JSONResponse(content=drone_state)\n",
        "\n",
        "# ''')"
      ]
    },
    {
      "cell_type": "code",
      "source": [
        "with open('main.py', 'w') as f:\n",
        "    f.write('''\n",
        "import pybullet as p\n",
        "import pybullet_data\n",
        "import time\n",
        "import datetime\n",
        "import json\n",
        "import math\n",
        "from fastapi import FastAPI\n",
        "from fastapi.responses import JSONResponse\n",
        "import threading\n",
        "\n",
        "drone_state = {\"x\": 0, \"y\": 0, \"z\": 0, \"vx\": 0, \"vy\": 0, \"vz\": 0, \"yaw\": 0}\n",
        "\n",
        "def simulate_drone():\n",
        "    physicsClient = p.connect(p.DIRECT)\n",
        "    p.setAdditionalSearchPath(pybullet_data.getDataPath())\n",
        "    p.setGravity(0, 0, -9.81)\n",
        "    p.loadURDF(\"plane.urdf\")\n",
        "\n",
        "    drone_path = \"/content/gym-pybullet-drones/gym_pybullet_drones/assets/cf2x.urdf\"\n",
        "    drone = p.loadURDF(drone_path, [0, 0, 0])\n",
        "\n",
        "    mass = p.getDynamicsInfo(drone, -1)[0]\n",
        "    thrust = mass * 9.81 * 1.1  # ให้แรงมากกว่า hover เล็กน้อย\n",
        "\n",
        "    step_count = 0  # นับจำนวน step\n",
        "\n",
        "    while True:\n",
        "        # หมุนซ้าย-ขวาอัตโนมัติแบบ sine wave\n",
        "        # math.sin() ให้ค่า -1 ถึง 1\n",
        "        yaw_torque = math.sin(step_count * 0.01) * 0.5\n",
        "\n",
        "        # ใส่แรงขับขึ้น\n",
        "        p.applyExternalForce(drone, -1, [0, 0, thrust], [0, 0, 0], p.WORLD_FRAME)\n",
        "\n",
        "        # ใส่แรงบิดหมุนตัว\n",
        "        p.applyExternalTorque(drone, -1, [0, 0, yaw_torque], p.WORLD_FRAME)\n",
        "\n",
        "        p.stepSimulation()\n",
        "\n",
        "        pos, orn = p.getBasePositionAndOrientation(drone)\n",
        "        vel, ang_vel = p.getBaseVelocity(drone)\n",
        "\n",
        "        # แปลง quaternion เป็น euler angles เพื่อดู yaw\n",
        "        euler = p.getEulerFromQuaternion(orn)\n",
        "        yaw_angle = euler[2]  # yaw อยู่ที่ index 2\n",
        "\n",
        "        # คืนค่าเวลาปัจจุบันเป็นวินาทีตั้งแต่ 1 ม.ค. 1970\n",
        "        now_epoch = time.time()\n",
        "        now_iso = datetime.datetime.utcfromtimestamp(now_epoch).isoformat(timespec='microseconds') + \"Z\"\n",
        "\n",
        "        drone_state.update({\n",
        "            \"x\": round(pos[0], 4),\n",
        "            \"y\": round(pos[1], 4),\n",
        "            \"z\": round(pos[2], 4),\n",
        "            \"vx\": round(vel[0], 4),\n",
        "            \"vy\": round(vel[1], 4),\n",
        "            \"vz\": round(vel[2], 4),\n",
        "            \"yaw\": round(math.degrees(yaw_angle), 2),  # แปลงเป็นองศา\n",
        "            \"yaw_torque\": round(yaw_torque, 4),  # แสดงแรงบิดปัจจุบัน\n",
        "            \"timestamp\": now_iso,\n",
        "            \"step\": step_count\n",
        "        })\n",
        "\n",
        "        step_count += 1\n",
        "        time.sleep(1/240)\n",
        "\n",
        "# --- รัน PyBullet ใน background ---\n",
        "threading.Thread(target=simulate_drone, daemon=True).start()\n",
        "\n",
        "# --- สร้าง API ---\n",
        "app = FastAPI()\n",
        "\n",
        "@app.get(\"/\")\n",
        "def root():\n",
        "    return {\n",
        "        \"message\": \"Drone Simulation API\",\n",
        "        \"endpoints\": {\n",
        "            \"/drone\": \"GET - ดูสถานะโดรนปัจจุบัน\",\n",
        "            \"/docs\": \"GET - API Documentation\"\n",
        "        }\n",
        "    }\n",
        "\n",
        "@app.get(\"/drone\")\n",
        "def get_drone_state():\n",
        "    return JSONResponse(content=drone_state)\n",
        "\n",
        "''')"
      ],
      "metadata": {
        "id": "uyJuo5zw2MeW"
      },
      "execution_count": 18,
      "outputs": []
    },
    {
      "cell_type": "code",
      "execution_count": 19,
      "metadata": {
        "id": "Yk0F_ZkkWeQF"
      },
      "outputs": [],
      "source": [
        "!kill -9 $(lsof -t -i:8000)"
      ]
    },
    {
      "cell_type": "code",
      "execution_count": 20,
      "metadata": {
        "colab": {
          "base_uri": "https://localhost:8080/"
        },
        "id": "mqoxZYkIWnej",
        "outputId": "608c5f92-cdeb-4eeb-b74b-aad34c3aec3d"
      },
      "outputs": [
        {
          "output_type": "stream",
          "name": "stdout",
          "text": [
            "nohup: appending output to 'nohup.out'\n"
          ]
        }
      ],
      "source": [
        "!nohup uvicorn main:app --host 0.0.0.0 --port 8000 --reload &"
      ]
    },
    {
      "cell_type": "code",
      "execution_count": 21,
      "metadata": {
        "id": "2aAXrQHWWpfr"
      },
      "outputs": [],
      "source": [
        "# !cat nohup.out"
      ]
    },
    {
      "cell_type": "code",
      "execution_count": 22,
      "metadata": {
        "colab": {
          "base_uri": "https://localhost:8080/"
        },
        "id": "UlClXDP8W0jT",
        "outputId": "3e7cfbd7-e8ab-4e07-efb1-5f474bcf7860"
      },
      "outputs": [
        {
          "output_type": "stream",
          "name": "stdout",
          "text": [
            "curl: (7) Failed to connect to 0.0.0.0 port 8000 after 0 ms: Connection refused\n"
          ]
        }
      ],
      "source": [
        "!curl -X GET http://0.0.0.0:8000/drone"
      ]
    },
    {
      "cell_type": "code",
      "execution_count": 23,
      "metadata": {
        "colab": {
          "base_uri": "https://localhost:8080/",
          "height": 645
        },
        "id": "JLMscb_rXGMI",
        "outputId": "0e5457cc-721a-47fa-9c6c-177e8a6139de"
      },
      "outputs": [
        {
          "output_type": "stream",
          "name": "stdout",
          "text": [
            "It looks like you are running Gradio on a hosted Jupyter notebook, which requires `share=True`. Automatically setting `share=True` (you can turn this off by setting `share=False` in `launch()` explicitly).\n",
            "\n",
            "Colab notebook detected. To show errors in colab notebook, set debug=True in launch()\n",
            "* Running on public URL: https://a14f5eebb74b5df1e2.gradio.live\n",
            "\n",
            "This share link expires in 1 week. For free permanent hosting and GPU upgrades, run `gradio deploy` from the terminal in the working directory to deploy to Hugging Face Spaces (https://huggingface.co/spaces)\n"
          ]
        },
        {
          "output_type": "display_data",
          "data": {
            "text/plain": [
              "<IPython.core.display.HTML object>"
            ],
            "text/html": [
              "<div><iframe src=\"https://a14f5eebb74b5df1e2.gradio.live\" width=\"100%\" height=\"500\" allow=\"autoplay; camera; microphone; clipboard-read; clipboard-write;\" frameborder=\"0\" allowfullscreen></iframe></div>"
            ]
          },
          "metadata": {}
        },
        {
          "output_type": "execute_result",
          "data": {
            "text/plain": []
          },
          "metadata": {},
          "execution_count": 23
        }
      ],
      "source": [
        "import gradio as gr\n",
        "import requests\n",
        "import plotly.graph_objects as go\n",
        "from collections import deque\n",
        "\n",
        "API_URL = \"http://0.0.0.0:8000/drone\"\n",
        "\n",
        "# เก็บประวัติพิกัด (200 จุดล่าสุด)\n",
        "x_history, y_history, z_history = deque(maxlen=200), deque(maxlen=200), deque(maxlen=200)\n",
        "\n",
        "def get_drone_data():\n",
        "    try:\n",
        "        r = requests.get(API_URL, timeout=1)\n",
        "        data = r.json()\n",
        "\n",
        "        x, y, z = data[\"x\"], data[\"y\"], data[\"z\"]\n",
        "        vx, vy, vz = data[\"vx\"], data[\"vy\"], data[\"vz\"]\n",
        "\n",
        "        speed_kmh = ((vx**2 + vy**2 + vz**2) ** 0.5) * 3.6\n",
        "\n",
        "        x_history.append(x)\n",
        "        y_history.append(y)\n",
        "        z_history.append(z)\n",
        "\n",
        "        pos_str = (\n",
        "            f\"Position (World Frame) \"\n",
        "            f\"X={x:.2f} m, Y={y:.2f} m, Z={z:.2f} m\\n\\n\"\n",
        "            f\"Velocity \"\n",
        "            f\"vx={vx:.3f}, vy={vy:.3f}, vz={vz:.3f} m/s\\n\\n\"\n",
        "            f\"Speed = {speed_kmh:.2f} km/h\"\n",
        "        )\n",
        "\n",
        "        # --- สร้าง Figure ---\n",
        "        fig3d = go.Figure()\n",
        "\n",
        "        # path\n",
        "        fig3d.add_trace(go.Scatter3d(\n",
        "            x=list(x_history),\n",
        "            y=list(y_history),\n",
        "            z=list(z_history),\n",
        "            mode=\"lines+markers\",\n",
        "            line=dict(color=list(range(len(x_history))), colorscale=\"Turbo\", width=5),\n",
        "            marker=dict(size=3, color=list(range(len(x_history))), colorscale=\"Turbo\", showscale=False),\n",
        "            name=\"Path\"\n",
        "        ))\n",
        "\n",
        "        # current drone\n",
        "        fig3d.add_trace(go.Scatter3d(\n",
        "            x=[x], y=[y], z=[z],\n",
        "            mode=\"markers\",\n",
        "            marker=dict(size=8, color=\"lime\", symbol=\"circle\"),\n",
        "            name=\"Current Position\"\n",
        "        ))\n",
        "\n",
        "        # --- จดจำมุมกล้องเดิมไว้ ---\n",
        "        camera = fig3d.layout.scene.camera if \"scene\" in fig3d.layout else None\n",
        "\n",
        "        margin = 5\n",
        "        if len(x_history) > 1:\n",
        "            x_range = [min(x_history)-margin, max(x_history)+margin]\n",
        "            y_range = [min(y_history)-margin, max(y_history)+margin]\n",
        "            z_range = [min(z_history)-margin, max(z_history)+margin]\n",
        "        else:\n",
        "            # กรอบเริ่มต้นกรณีข้อมูลยังน้อย\n",
        "            x_range, y_range, z_range = [-10, 10], [-10, 10], [0, 20]\n",
        "\n",
        "        # --- อัปเดต layout ---\n",
        "        fig3d.update_layout(\n",
        "            scene=dict(\n",
        "                xaxis=dict(title=\"X (Forward, m)\", range=x_range),\n",
        "                yaxis=dict(title=\"Y (Right, m)\", range=y_range),\n",
        "                zaxis=dict(title=\"Z (Up, m)\", range=z_range),\n",
        "                aspectmode=\"cube\"\n",
        "            ),\n",
        "            template=\"plotly_white\",\n",
        "            margin=dict(l=0, r=0, t=40, b=0),\n",
        "            height=800\n",
        "        )\n",
        "\n",
        "        if camera:\n",
        "            fig3d.update_layout(scene_camera=camera)\n",
        "\n",
        "        return fig3d, pos_str\n",
        "\n",
        "    except Exception as e:\n",
        "        return go.Figure(), f\"Error: {e}\"\n",
        "\n",
        "\n",
        "# --- สร้าง Gradio Dashboard ---\n",
        "with gr.Blocks(\n",
        "    css=\"\"\"\n",
        "        .gradio-container {max-width: 100% !important; padding: 0; margin: 0;}\n",
        "        #plot-area {width: 100%; height: 85vh !important;} /* เต็มหน้าจอ */\n",
        "        #header-text {text-align: center; margin-top: 8px;}\n",
        "    \"\"\"\n",
        ") as dashboard:\n",
        "    gr.Markdown(\"## 🚀 Drone Position & Velocity\", elem_id=\"header-text\")\n",
        "\n",
        "    info = gr.Textbox(label=\"Drone Status\", lines=6, interactive=False)\n",
        "    plot3d = gr.Plot(label=\"🛰️ Real-time 3D Drone Monitor\", elem_id=\"plot-area\")\n",
        "\n",
        "    gr.Timer(value=1).tick(fn=get_drone_data, outputs=[plot3d, info])\n",
        "\n",
        "dashboard.launch()\n"
      ]
    },
    {
      "cell_type": "code",
      "execution_count": 24,
      "metadata": {
        "colab": {
          "base_uri": "https://localhost:8080/"
        },
        "id": "NixaPviBWfQx",
        "outputId": "1db0f07e-25cb-42d1-aab1-adb73fef9632"
      },
      "outputs": [
        {
          "output_type": "stream",
          "name": "stdout",
          "text": [
            "-0.0 0.0001 0.0246 2025-10-27T04:08:07.702396Z\n"
          ]
        },
        {
          "output_type": "execute_result",
          "data": {
            "text/plain": [
              "(deque([-0.0]),\n",
              " deque([0.0001]),\n",
              " deque([0.0246]),\n",
              " deque(['2025-10-27T04:08:07.702396Z']))"
            ]
          },
          "metadata": {},
          "execution_count": 24
        }
      ],
      "source": [
        "import requests\n",
        "from collections import deque\n",
        "\n",
        "API_URL = \"http://0.0.0.0:8000/drone\"\n",
        "\n",
        "# เก็บประวัติพิกัด (x จุดล่าสุด)\n",
        "window_size = 20\n",
        "x_history, y_history, z_history, iso_history = deque(maxlen=window_size), deque(maxlen=window_size), deque(maxlen=window_size), deque(maxlen=window_size)\n",
        "\n",
        "r = requests.get(API_URL, timeout=1)\n",
        "data = r.json()\n",
        "x, y, z, ios = data[\"x\"], data[\"y\"], data[\"z\"], data[\"timestamp\"]\n",
        "\n",
        "print(x, y, z, ios)\n",
        "\n",
        "x_history.append(x)\n",
        "y_history.append(y)\n",
        "z_history.append(z)\n",
        "iso_history.append(ios)\n",
        "\n",
        "x_history, y_history, z_history, iso_history"
      ]
    },
    {
      "cell_type": "code",
      "execution_count": 25,
      "metadata": {
        "id": "clDBW8NOWuQV"
      },
      "outputs": [],
      "source": [
        "import time\n",
        "import datetime\n",
        "from collections import deque\n",
        "import requests\n",
        "import numpy as np\n",
        "\n",
        "history = deque(maxlen=window_size)\n",
        "\n",
        "for _ in range(window_size):\n",
        "    r = requests.get(API_URL, timeout=1)\n",
        "    data = r.json()\n",
        "    # หน่วยของ timestamp() คือ วินาที\n",
        "    t = datetime.datetime.fromisoformat(data[\"timestamp\"].replace(\"Z\", \"+00:00\")).timestamp()\n",
        "    x, y, z = data[\"x\"], data[\"y\"], data[\"z\"]\n",
        "    history.append((t, x, y, z))\n",
        "    time.sleep(0.5)"
      ]
    },
    {
      "cell_type": "markdown",
      "metadata": {
        "id": "uAII0ACUYxAI"
      },
      "source": [
        "                ↑  Z  (ขึ้น)\n",
        "                |\n",
        "                |\n",
        "                |         🟦 Drone (โดรน)\n",
        "                |        /\n",
        "                |       /\n",
        "                |      /\n",
        "                |     /\n",
        "                |    /\n",
        "                |   /\n",
        "                |  /\n",
        "                | /\n",
        "                +--------------------→  X (ไปข้างหน้า)\n",
        "               /\n",
        "              /\n",
        "             /\n",
        "            /\n",
        "           ↓\n",
        "          Y (ไปทางขวา)\n"
      ]
    },
    {
      "cell_type": "code",
      "execution_count": 26,
      "metadata": {
        "colab": {
          "base_uri": "https://localhost:8080/"
        },
        "id": "PQ_Aa7p_Yg-h",
        "outputId": "427c4656-d648-490f-9983-359d0802d489"
      },
      "outputs": [
        {
          "output_type": "execute_result",
          "data": {
            "text/plain": [
              "1761538087.746741"
            ]
          },
          "metadata": {},
          "execution_count": 26
        }
      ],
      "source": [
        "# ตำแหน่งป้อมปืน\n",
        "Pg = np.array([0.0, 0.0, 0.0])\n",
        "\n",
        "# ความเร็วของกระสุนปืน 200 m/s\n",
        "Vs = 200.0\n",
        "\n",
        "history[0][0]"
      ]
    },
    {
      "cell_type": "code",
      "execution_count": 27,
      "metadata": {
        "colab": {
          "base_uri": "https://localhost:8080/"
        },
        "id": "RdDMwzUZYz9i",
        "outputId": "6443c0dd-bcb2-4b2c-dda4-74beb6684808"
      },
      "outputs": [
        {
          "output_type": "execute_result",
          "data": {
            "text/plain": [
              "array([-2.00000e-04,  1.63000e-02,  1.97408e+01])"
            ]
          },
          "metadata": {},
          "execution_count": 27
        }
      ],
      "source": [
        "# ตำแหน่ง drone ปัจจุบัน\n",
        "\n",
        "Pd = np.array(history[-1][1:4])\n",
        "Pd"
      ]
    },
    {
      "cell_type": "code",
      "execution_count": 28,
      "metadata": {
        "id": "TWNKWlVUZSTJ"
      },
      "outputs": [],
      "source": [
        "times = np.array([h[0] for h in history])\n",
        "coords = np.array([[h[1], h[2], h[3]] for h in history])"
      ]
    },
    {
      "cell_type": "code",
      "execution_count": 29,
      "metadata": {
        "id": "cXsm-mMpddHl",
        "colab": {
          "base_uri": "https://localhost:8080/"
        },
        "outputId": "0fa1afad-c9ed-4bd0-f81c-3c4dc802df82"
      },
      "outputs": [
        {
          "output_type": "execute_result",
          "data": {
            "text/plain": [
              "((20,), (20, 3))"
            ]
          },
          "metadata": {},
          "execution_count": 29
        }
      ],
      "source": [
        "times.shape, coords.shape"
      ]
    },
    {
      "cell_type": "code",
      "execution_count": 30,
      "metadata": {
        "id": "eRpVWrUyddJw",
        "colab": {
          "base_uri": "https://localhost:8080/"
        },
        "outputId": "3c944dfc-6ff8-4753-d108-d92671d694a6"
      },
      "outputs": [
        {
          "output_type": "execute_result",
          "data": {
            "text/plain": [
              "np.float64(1761538092.724984)"
            ]
          },
          "metadata": {},
          "execution_count": 30
        }
      ],
      "source": [
        "t0 = times.mean()\n",
        "t0"
      ]
    },
    {
      "cell_type": "code",
      "execution_count": 31,
      "metadata": {
        "id": "Y2EzX7hRddM9",
        "colab": {
          "base_uri": "https://localhost:8080/"
        },
        "outputId": "2535faa4-245f-41e2-d2d0-2f920293c68a"
      },
      "outputs": [
        {
          "output_type": "execute_result",
          "data": {
            "text/plain": [
              "array([-4.97824287, -4.47221398, -3.95278883, -3.41891003, -2.88320804,\n",
              "       -2.3665309 , -1.82527995, -1.30531001, -0.78324699, -0.26793194,\n",
              "        0.26217198,  0.79171515,  1.31776595,  1.85622907,  2.37338305,\n",
              "        2.89773512,  3.41916609,  3.93419099,  4.44255018,  4.95876217])"
            ]
          },
          "metadata": {},
          "execution_count": 31
        }
      ],
      "source": [
        "t_rel = times - t0\n",
        "t_rel"
      ]
    },
    {
      "cell_type": "code",
      "execution_count": 32,
      "metadata": {
        "id": "iA_O3lEceRKe",
        "colab": {
          "base_uri": "https://localhost:8080/"
        },
        "outputId": "b05ea97b-a1a9-44eb-a883-a064853f19b5"
      },
      "outputs": [
        {
          "output_type": "execute_result",
          "data": {
            "text/plain": [
              "array([0., 0., 0.])"
            ]
          },
          "metadata": {},
          "execution_count": 32
        }
      ],
      "source": [
        "Vd = np.zeros(3, dtype=float)\n",
        "Vd"
      ]
    },
    {
      "cell_type": "code",
      "execution_count": 33,
      "metadata": {
        "id": "Fp0WbAmkhMJd",
        "colab": {
          "base_uri": "https://localhost:8080/",
          "height": 542
        },
        "outputId": "bd1737b8-67bb-46e2-8807-f5d75999f5c8"
      },
      "outputs": [
        {
          "output_type": "display_data",
          "data": {
            "text/html": [
              "<html>\n",
              "<head><meta charset=\"utf-8\" /></head>\n",
              "<body>\n",
              "    <div>            <script src=\"https://cdnjs.cloudflare.com/ajax/libs/mathjax/2.7.5/MathJax.js?config=TeX-AMS-MML_SVG\"></script><script type=\"text/javascript\">if (window.MathJax && window.MathJax.Hub && window.MathJax.Hub.Config) {window.MathJax.Hub.Config({SVG: {font: \"STIX-Web\"}});}</script>                <script type=\"text/javascript\">window.PlotlyConfig = {MathJaxConfig: 'local'};</script>\n",
              "        <script charset=\"utf-8\" src=\"https://cdn.plot.ly/plotly-2.35.2.min.js\"></script>                <div id=\"de50356a-a49c-4cd3-942a-7a44c566851a\" class=\"plotly-graph-div\" style=\"height:525px; width:100%;\"></div>            <script type=\"text/javascript\">                                    window.PLOTLYENV=window.PLOTLYENV || {};                                    if (document.getElementById(\"de50356a-a49c-4cd3-942a-7a44c566851a\")) {                    Plotly.newPlot(                        \"de50356a-a49c-4cd3-942a-7a44c566851a\",                        [{\"mode\":\"markers\",\"x\":[-4.978242874145508,-4.472213983535767,-3.952788829803467,-3.418910026550293,-2.8832080364227295,-2.3665308952331543,-1.825279951095581,-1.3053100109100342,-0.7832469940185547,-0.2679319381713867,0.26217198371887207,0.791715145111084,1.3177659511566162,1.8562290668487549,2.373383045196533,2.897735118865967,3.419166088104248,3.9341909885406494,4.442550182342529,4.958762168884277],\"y\":[0.0377,0.2668,0.6274,1.0796,1.5767,2.1561,2.9224,3.7544,4.7137,5.66,6.7708,7.8559,9.148,10.5145,11.935,13.3244,14.8317,16.4082,18.0512,19.7408],\"type\":\"scatter\"}],                        {\"template\":{\"data\":{\"histogram2dcontour\":[{\"type\":\"histogram2dcontour\",\"colorbar\":{\"outlinewidth\":0,\"ticks\":\"\"},\"colorscale\":[[0.0,\"#0d0887\"],[0.1111111111111111,\"#46039f\"],[0.2222222222222222,\"#7201a8\"],[0.3333333333333333,\"#9c179e\"],[0.4444444444444444,\"#bd3786\"],[0.5555555555555556,\"#d8576b\"],[0.6666666666666666,\"#ed7953\"],[0.7777777777777778,\"#fb9f3a\"],[0.8888888888888888,\"#fdca26\"],[1.0,\"#f0f921\"]]}],\"choropleth\":[{\"type\":\"choropleth\",\"colorbar\":{\"outlinewidth\":0,\"ticks\":\"\"}}],\"histogram2d\":[{\"type\":\"histogram2d\",\"colorbar\":{\"outlinewidth\":0,\"ticks\":\"\"},\"colorscale\":[[0.0,\"#0d0887\"],[0.1111111111111111,\"#46039f\"],[0.2222222222222222,\"#7201a8\"],[0.3333333333333333,\"#9c179e\"],[0.4444444444444444,\"#bd3786\"],[0.5555555555555556,\"#d8576b\"],[0.6666666666666666,\"#ed7953\"],[0.7777777777777778,\"#fb9f3a\"],[0.8888888888888888,\"#fdca26\"],[1.0,\"#f0f921\"]]}],\"heatmap\":[{\"type\":\"heatmap\",\"colorbar\":{\"outlinewidth\":0,\"ticks\":\"\"},\"colorscale\":[[0.0,\"#0d0887\"],[0.1111111111111111,\"#46039f\"],[0.2222222222222222,\"#7201a8\"],[0.3333333333333333,\"#9c179e\"],[0.4444444444444444,\"#bd3786\"],[0.5555555555555556,\"#d8576b\"],[0.6666666666666666,\"#ed7953\"],[0.7777777777777778,\"#fb9f3a\"],[0.8888888888888888,\"#fdca26\"],[1.0,\"#f0f921\"]]}],\"heatmapgl\":[{\"type\":\"heatmapgl\",\"colorbar\":{\"outlinewidth\":0,\"ticks\":\"\"},\"colorscale\":[[0.0,\"#0d0887\"],[0.1111111111111111,\"#46039f\"],[0.2222222222222222,\"#7201a8\"],[0.3333333333333333,\"#9c179e\"],[0.4444444444444444,\"#bd3786\"],[0.5555555555555556,\"#d8576b\"],[0.6666666666666666,\"#ed7953\"],[0.7777777777777778,\"#fb9f3a\"],[0.8888888888888888,\"#fdca26\"],[1.0,\"#f0f921\"]]}],\"contourcarpet\":[{\"type\":\"contourcarpet\",\"colorbar\":{\"outlinewidth\":0,\"ticks\":\"\"}}],\"contour\":[{\"type\":\"contour\",\"colorbar\":{\"outlinewidth\":0,\"ticks\":\"\"},\"colorscale\":[[0.0,\"#0d0887\"],[0.1111111111111111,\"#46039f\"],[0.2222222222222222,\"#7201a8\"],[0.3333333333333333,\"#9c179e\"],[0.4444444444444444,\"#bd3786\"],[0.5555555555555556,\"#d8576b\"],[0.6666666666666666,\"#ed7953\"],[0.7777777777777778,\"#fb9f3a\"],[0.8888888888888888,\"#fdca26\"],[1.0,\"#f0f921\"]]}],\"surface\":[{\"type\":\"surface\",\"colorbar\":{\"outlinewidth\":0,\"ticks\":\"\"},\"colorscale\":[[0.0,\"#0d0887\"],[0.1111111111111111,\"#46039f\"],[0.2222222222222222,\"#7201a8\"],[0.3333333333333333,\"#9c179e\"],[0.4444444444444444,\"#bd3786\"],[0.5555555555555556,\"#d8576b\"],[0.6666666666666666,\"#ed7953\"],[0.7777777777777778,\"#fb9f3a\"],[0.8888888888888888,\"#fdca26\"],[1.0,\"#f0f921\"]]}],\"mesh3d\":[{\"type\":\"mesh3d\",\"colorbar\":{\"outlinewidth\":0,\"ticks\":\"\"}}],\"scatter\":[{\"fillpattern\":{\"fillmode\":\"overlay\",\"size\":10,\"solidity\":0.2},\"type\":\"scatter\"}],\"parcoords\":[{\"type\":\"parcoords\",\"line\":{\"colorbar\":{\"outlinewidth\":0,\"ticks\":\"\"}}}],\"scatterpolargl\":[{\"type\":\"scatterpolargl\",\"marker\":{\"colorbar\":{\"outlinewidth\":0,\"ticks\":\"\"}}}],\"bar\":[{\"error_x\":{\"color\":\"#2a3f5f\"},\"error_y\":{\"color\":\"#2a3f5f\"},\"marker\":{\"line\":{\"color\":\"#E5ECF6\",\"width\":0.5},\"pattern\":{\"fillmode\":\"overlay\",\"size\":10,\"solidity\":0.2}},\"type\":\"bar\"}],\"scattergeo\":[{\"type\":\"scattergeo\",\"marker\":{\"colorbar\":{\"outlinewidth\":0,\"ticks\":\"\"}}}],\"scatterpolar\":[{\"type\":\"scatterpolar\",\"marker\":{\"colorbar\":{\"outlinewidth\":0,\"ticks\":\"\"}}}],\"histogram\":[{\"marker\":{\"pattern\":{\"fillmode\":\"overlay\",\"size\":10,\"solidity\":0.2}},\"type\":\"histogram\"}],\"scattergl\":[{\"type\":\"scattergl\",\"marker\":{\"colorbar\":{\"outlinewidth\":0,\"ticks\":\"\"}}}],\"scatter3d\":[{\"type\":\"scatter3d\",\"line\":{\"colorbar\":{\"outlinewidth\":0,\"ticks\":\"\"}},\"marker\":{\"colorbar\":{\"outlinewidth\":0,\"ticks\":\"\"}}}],\"scattermapbox\":[{\"type\":\"scattermapbox\",\"marker\":{\"colorbar\":{\"outlinewidth\":0,\"ticks\":\"\"}}}],\"scatterternary\":[{\"type\":\"scatterternary\",\"marker\":{\"colorbar\":{\"outlinewidth\":0,\"ticks\":\"\"}}}],\"scattercarpet\":[{\"type\":\"scattercarpet\",\"marker\":{\"colorbar\":{\"outlinewidth\":0,\"ticks\":\"\"}}}],\"carpet\":[{\"aaxis\":{\"endlinecolor\":\"#2a3f5f\",\"gridcolor\":\"white\",\"linecolor\":\"white\",\"minorgridcolor\":\"white\",\"startlinecolor\":\"#2a3f5f\"},\"baxis\":{\"endlinecolor\":\"#2a3f5f\",\"gridcolor\":\"white\",\"linecolor\":\"white\",\"minorgridcolor\":\"white\",\"startlinecolor\":\"#2a3f5f\"},\"type\":\"carpet\"}],\"table\":[{\"cells\":{\"fill\":{\"color\":\"#EBF0F8\"},\"line\":{\"color\":\"white\"}},\"header\":{\"fill\":{\"color\":\"#C8D4E3\"},\"line\":{\"color\":\"white\"}},\"type\":\"table\"}],\"barpolar\":[{\"marker\":{\"line\":{\"color\":\"#E5ECF6\",\"width\":0.5},\"pattern\":{\"fillmode\":\"overlay\",\"size\":10,\"solidity\":0.2}},\"type\":\"barpolar\"}],\"pie\":[{\"automargin\":true,\"type\":\"pie\"}]},\"layout\":{\"autotypenumbers\":\"strict\",\"colorway\":[\"#636efa\",\"#EF553B\",\"#00cc96\",\"#ab63fa\",\"#FFA15A\",\"#19d3f3\",\"#FF6692\",\"#B6E880\",\"#FF97FF\",\"#FECB52\"],\"font\":{\"color\":\"#2a3f5f\"},\"hovermode\":\"closest\",\"hoverlabel\":{\"align\":\"left\"},\"paper_bgcolor\":\"white\",\"plot_bgcolor\":\"#E5ECF6\",\"polar\":{\"bgcolor\":\"#E5ECF6\",\"angularaxis\":{\"gridcolor\":\"white\",\"linecolor\":\"white\",\"ticks\":\"\"},\"radialaxis\":{\"gridcolor\":\"white\",\"linecolor\":\"white\",\"ticks\":\"\"}},\"ternary\":{\"bgcolor\":\"#E5ECF6\",\"aaxis\":{\"gridcolor\":\"white\",\"linecolor\":\"white\",\"ticks\":\"\"},\"baxis\":{\"gridcolor\":\"white\",\"linecolor\":\"white\",\"ticks\":\"\"},\"caxis\":{\"gridcolor\":\"white\",\"linecolor\":\"white\",\"ticks\":\"\"}},\"coloraxis\":{\"colorbar\":{\"outlinewidth\":0,\"ticks\":\"\"}},\"colorscale\":{\"sequential\":[[0.0,\"#0d0887\"],[0.1111111111111111,\"#46039f\"],[0.2222222222222222,\"#7201a8\"],[0.3333333333333333,\"#9c179e\"],[0.4444444444444444,\"#bd3786\"],[0.5555555555555556,\"#d8576b\"],[0.6666666666666666,\"#ed7953\"],[0.7777777777777778,\"#fb9f3a\"],[0.8888888888888888,\"#fdca26\"],[1.0,\"#f0f921\"]],\"sequentialminus\":[[0.0,\"#0d0887\"],[0.1111111111111111,\"#46039f\"],[0.2222222222222222,\"#7201a8\"],[0.3333333333333333,\"#9c179e\"],[0.4444444444444444,\"#bd3786\"],[0.5555555555555556,\"#d8576b\"],[0.6666666666666666,\"#ed7953\"],[0.7777777777777778,\"#fb9f3a\"],[0.8888888888888888,\"#fdca26\"],[1.0,\"#f0f921\"]],\"diverging\":[[0,\"#8e0152\"],[0.1,\"#c51b7d\"],[0.2,\"#de77ae\"],[0.3,\"#f1b6da\"],[0.4,\"#fde0ef\"],[0.5,\"#f7f7f7\"],[0.6,\"#e6f5d0\"],[0.7,\"#b8e186\"],[0.8,\"#7fbc41\"],[0.9,\"#4d9221\"],[1,\"#276419\"]]},\"xaxis\":{\"gridcolor\":\"white\",\"linecolor\":\"white\",\"ticks\":\"\",\"title\":{\"standoff\":15},\"zerolinecolor\":\"white\",\"automargin\":true,\"zerolinewidth\":2},\"yaxis\":{\"gridcolor\":\"white\",\"linecolor\":\"white\",\"ticks\":\"\",\"title\":{\"standoff\":15},\"zerolinecolor\":\"white\",\"automargin\":true,\"zerolinewidth\":2},\"scene\":{\"xaxis\":{\"backgroundcolor\":\"#E5ECF6\",\"gridcolor\":\"white\",\"linecolor\":\"white\",\"showbackground\":true,\"ticks\":\"\",\"zerolinecolor\":\"white\",\"gridwidth\":2},\"yaxis\":{\"backgroundcolor\":\"#E5ECF6\",\"gridcolor\":\"white\",\"linecolor\":\"white\",\"showbackground\":true,\"ticks\":\"\",\"zerolinecolor\":\"white\",\"gridwidth\":2},\"zaxis\":{\"backgroundcolor\":\"#E5ECF6\",\"gridcolor\":\"white\",\"linecolor\":\"white\",\"showbackground\":true,\"ticks\":\"\",\"zerolinecolor\":\"white\",\"gridwidth\":2}},\"shapedefaults\":{\"line\":{\"color\":\"#2a3f5f\"}},\"annotationdefaults\":{\"arrowcolor\":\"#2a3f5f\",\"arrowhead\":0,\"arrowwidth\":1},\"geo\":{\"bgcolor\":\"white\",\"landcolor\":\"#E5ECF6\",\"subunitcolor\":\"white\",\"showland\":true,\"showlakes\":true,\"lakecolor\":\"white\"},\"title\":{\"x\":0.05},\"mapbox\":{\"style\":\"light\"}}},\"title\":{\"text\":\"Z Coordinate over time\"},\"xaxis\":{\"title\":{\"text\":\"t_rel (seconds)\"}},\"yaxis\":{\"title\":{\"text\":\"Z Coordinate\"}}},                        {\"responsive\": true}                    ).then(function(){\n",
              "                            \n",
              "var gd = document.getElementById('de50356a-a49c-4cd3-942a-7a44c566851a');\n",
              "var x = new MutationObserver(function (mutations, observer) {{\n",
              "        var display = window.getComputedStyle(gd).display;\n",
              "        if (!display || display === 'none') {{\n",
              "            console.log([gd, 'removed!']);\n",
              "            Plotly.purge(gd);\n",
              "            observer.disconnect();\n",
              "        }}\n",
              "}});\n",
              "\n",
              "// Listen for the removal of the full notebook cells\n",
              "var notebookContainer = gd.closest('#notebook-container');\n",
              "if (notebookContainer) {{\n",
              "    x.observe(notebookContainer, {childList: true});\n",
              "}}\n",
              "\n",
              "// Listen for the clearing of the current output cell\n",
              "var outputEl = gd.closest('.output');\n",
              "if (outputEl) {{\n",
              "    x.observe(outputEl, {childList: true});\n",
              "}}\n",
              "\n",
              "                        })                };                            </script>        </div>\n",
              "</body>\n",
              "</html>"
            ]
          },
          "metadata": {}
        }
      ],
      "source": [
        "import plotly.graph_objects as go\n",
        "\n",
        "fig = go.Figure(data=go.Scatter(x=t_rel, y=coords[:, 2], mode='markers'))\n",
        "fig.update_layout(title='Z Coordinate over time', xaxis_title='t_rel (seconds)', yaxis_title='Z Coordinate')\n",
        "fig.show()"
      ]
    },
    {
      "cell_type": "code",
      "execution_count": 34,
      "metadata": {
        "id": "teFLbZTxeRM5",
        "colab": {
          "base_uri": "https://localhost:8080/"
        },
        "outputId": "42a0d012-c5d5-4ba0-fb22-c6ac5404e305"
      },
      "outputs": [
        {
          "output_type": "execute_result",
          "data": {
            "text/plain": [
              "array([-1.99170030e-05,  1.59187648e-03,  2.00514909e+00])"
            ]
          },
          "metadata": {},
          "execution_count": 34
        }
      ],
      "source": [
        "# y=mc+c\n",
        "for i in range(3): # loop 3 ครั้งเพื่อหา vx,vy,vz\n",
        "  # fit line coord = a * t_rel + b\n",
        "  # a คือ slope คือ ความเร็วในแกนนั้น\n",
        "  # b คือ ค่าพิกัดของ Z ที่เวลาอ้างอิง (t_rel = 0)\n",
        "  a, b = np.polyfit(t_rel, coords[:, i], 1)\n",
        "  Vd[i] = a\n",
        "\n",
        "Vd"
      ]
    },
    {
      "cell_type": "code",
      "execution_count": 35,
      "metadata": {
        "id": "kDTCeuKleat_",
        "colab": {
          "base_uri": "https://localhost:8080/",
          "height": 542
        },
        "outputId": "cf810a9d-06df-4705-8b23-063ce26a00af"
      },
      "outputs": [
        {
          "output_type": "display_data",
          "data": {
            "text/html": [
              "<html>\n",
              "<head><meta charset=\"utf-8\" /></head>\n",
              "<body>\n",
              "    <div>            <script src=\"https://cdnjs.cloudflare.com/ajax/libs/mathjax/2.7.5/MathJax.js?config=TeX-AMS-MML_SVG\"></script><script type=\"text/javascript\">if (window.MathJax && window.MathJax.Hub && window.MathJax.Hub.Config) {window.MathJax.Hub.Config({SVG: {font: \"STIX-Web\"}});}</script>                <script type=\"text/javascript\">window.PlotlyConfig = {MathJaxConfig: 'local'};</script>\n",
              "        <script charset=\"utf-8\" src=\"https://cdn.plot.ly/plotly-2.35.2.min.js\"></script>                <div id=\"9ad266ac-b038-4143-bc98-39641687a571\" class=\"plotly-graph-div\" style=\"height:525px; width:100%;\"></div>            <script type=\"text/javascript\">                                    window.PLOTLYENV=window.PLOTLYENV || {};                                    if (document.getElementById(\"9ad266ac-b038-4143-bc98-39641687a571\")) {                    Plotly.newPlot(                        \"9ad266ac-b038-4143-bc98-39641687a571\",                        [{\"mode\":\"markers\",\"name\":\"Original Z Data\",\"x\":[-4.978242874145508,-4.472213983535767,-3.952788829803467,-3.418910026550293,-2.8832080364227295,-2.3665308952331543,-1.825279951095581,-1.3053100109100342,-0.7832469940185547,-0.2679319381713867,0.26217198371887207,0.791715145111084,1.3177659511566162,1.8562290668487549,2.373383045196533,2.897735118865967,3.419166088104248,3.9341909885406494,4.442550182342529,4.958762168884277],\"y\":[0.0377,0.2668,0.6274,1.0796,1.5767,2.1561,2.9224,3.7544,4.7137,5.66,6.7708,7.8559,9.148,10.5145,11.935,13.3244,14.8317,16.4082,18.0512,19.7408],\"type\":\"scatter\"},{\"line\":{\"color\":\"red\"},\"mode\":\"lines\",\"name\":\"Linear Fit (Z)\",\"x\":[-4.978242874145508,-4.877869085832075,-4.7774952975186435,-4.677121509205211,-4.576747720891779,-4.476373932578347,-4.376000144264915,-4.275626355951482,-4.175252567638051,-4.074878779324618,-3.974504991011186,-3.874131202697754,-3.7737574143843218,-3.6733836260708896,-3.573009837757457,-3.4726360494440254,-3.372262261130593,-3.271888472817161,-3.1715146845037285,-3.0711408961902964,-2.9707671078768643,-2.870393319563432,-2.77001953125,-2.669645742936568,-2.5692719546231357,-2.4688981663097036,-2.3685243779962715,-2.268150589682839,-2.1677768013694068,-2.0674030130559746,-1.9670292247425425,-1.8666554364291104,-1.7662816481156782,-1.665907859802246,-1.565534071488814,-1.4651602831753818,-1.3647864948619497,-1.2644127065485176,-1.164038918235085,-1.0636651299216529,-0.9632913416082207,-0.862917553294789,-0.7625437649813565,-0.6621699766679239,-0.5617961883544922,-0.4614224000410596,-0.3610486117276279,-0.26067482341419534,-0.16030103510076366,-0.05992724678733108,0.04044654152610061,0.1408203298395332,0.24119411815296488,0.34156790646639745,0.44194169477983003,0.5423154830932617,0.6426892714066943,0.743063059720126,0.8434368480335586,0.9438106363469903,1.0441844246604228,1.1445582129738545,1.244932001287287,1.3453057896007188,1.4456795779141514,1.546053366227584,1.6464271545410156,1.7468009428544482,1.84717473116788,1.9475485194813125,2.047922307794744,2.1482960961081767,2.2486698844216084,2.349043672735041,2.4494174610484727,2.5497912493619053,2.650165037675338,2.7505388259887695,2.850912614302202,2.951286402615634,3.0516601909290664,3.152033979242498,3.2524077675559298,3.352781555869363,3.453155344182795,3.5535291324962266,3.65390292080966,3.7542767091230917,3.8546504974365234,3.955024285749955,4.055398074063389,4.15577186237682,4.256145650690252,4.356519439003684,4.456893227317117,4.557267015630549,4.6576408039439805,4.758014592257414,4.858388380570846,4.958762168884277],\"y\":[-2.413354792852486,-2.212090382506023,-2.0108259721595623,-1.8095615618131013,-1.6082971514666404,-1.4070327411201777,-1.2057683307737168,-1.004503920427256,-0.803239510080795,-0.6019750997343323,-0.40071068938787135,-0.19944627904140955,0.0018181313050513737,0.20308254165151318,0.404346951997975,0.6056113623444359,0.8068757726908986,1.0081401830373586,1.2094045933838213,1.4106690037302823,1.611933414076744,1.813197824423205,2.014462234769667,2.2157266451161277,2.4169910554625895,2.6182554658090504,2.8195198761555123,3.020784286501974,3.222048696848436,3.423313107194897,3.624577517541358,3.8258419278878195,4.027106338234281,4.228370748580742,4.429635158927203,4.630899569273666,4.832163979620127,5.033428389966588,5.23469280031305,5.435957210659511,5.637221621005973,5.838486031352433,6.039750441698896,6.241014852045358,6.442279262391819,6.64354367273828,6.844808083084741,7.046072493431203,7.247336903777664,7.448601314124126,7.649865724470587,7.8511301348170495,8.052394545163509,8.253658955509971,8.454923365856434,8.656187776202895,8.857452186549356,9.058716596895817,9.25998100724228,9.46124541758874,9.662509827935203,9.863774238281662,10.065038648628125,10.266303058974586,10.467567469321047,10.66883187966751,10.87009629001397,11.071360700360433,11.272625110706894,11.473889521053355,11.675153931399816,11.876418341746279,12.077682752092738,12.278947162439202,12.480211572785661,12.681475983132124,12.882740393478585,13.084004803825046,13.285269214171509,13.48653362451797,13.687798034864432,13.889062445210893,14.090326855557352,14.291591265903817,14.492855676250276,14.694120086596737,14.895384496943201,15.096648907289662,15.297913317636123,15.499177727982584,15.700442138329047,15.901706548675508,16.102970959021967,16.304235369368428,16.505499779714892,16.706764190061353,16.908028600407814,17.10929301075428,17.31055742110074,17.5118218314472],\"type\":\"scatter\"}],                        {\"template\":{\"data\":{\"histogram2dcontour\":[{\"type\":\"histogram2dcontour\",\"colorbar\":{\"outlinewidth\":0,\"ticks\":\"\"},\"colorscale\":[[0.0,\"#0d0887\"],[0.1111111111111111,\"#46039f\"],[0.2222222222222222,\"#7201a8\"],[0.3333333333333333,\"#9c179e\"],[0.4444444444444444,\"#bd3786\"],[0.5555555555555556,\"#d8576b\"],[0.6666666666666666,\"#ed7953\"],[0.7777777777777778,\"#fb9f3a\"],[0.8888888888888888,\"#fdca26\"],[1.0,\"#f0f921\"]]}],\"choropleth\":[{\"type\":\"choropleth\",\"colorbar\":{\"outlinewidth\":0,\"ticks\":\"\"}}],\"histogram2d\":[{\"type\":\"histogram2d\",\"colorbar\":{\"outlinewidth\":0,\"ticks\":\"\"},\"colorscale\":[[0.0,\"#0d0887\"],[0.1111111111111111,\"#46039f\"],[0.2222222222222222,\"#7201a8\"],[0.3333333333333333,\"#9c179e\"],[0.4444444444444444,\"#bd3786\"],[0.5555555555555556,\"#d8576b\"],[0.6666666666666666,\"#ed7953\"],[0.7777777777777778,\"#fb9f3a\"],[0.8888888888888888,\"#fdca26\"],[1.0,\"#f0f921\"]]}],\"heatmap\":[{\"type\":\"heatmap\",\"colorbar\":{\"outlinewidth\":0,\"ticks\":\"\"},\"colorscale\":[[0.0,\"#0d0887\"],[0.1111111111111111,\"#46039f\"],[0.2222222222222222,\"#7201a8\"],[0.3333333333333333,\"#9c179e\"],[0.4444444444444444,\"#bd3786\"],[0.5555555555555556,\"#d8576b\"],[0.6666666666666666,\"#ed7953\"],[0.7777777777777778,\"#fb9f3a\"],[0.8888888888888888,\"#fdca26\"],[1.0,\"#f0f921\"]]}],\"heatmapgl\":[{\"type\":\"heatmapgl\",\"colorbar\":{\"outlinewidth\":0,\"ticks\":\"\"},\"colorscale\":[[0.0,\"#0d0887\"],[0.1111111111111111,\"#46039f\"],[0.2222222222222222,\"#7201a8\"],[0.3333333333333333,\"#9c179e\"],[0.4444444444444444,\"#bd3786\"],[0.5555555555555556,\"#d8576b\"],[0.6666666666666666,\"#ed7953\"],[0.7777777777777778,\"#fb9f3a\"],[0.8888888888888888,\"#fdca26\"],[1.0,\"#f0f921\"]]}],\"contourcarpet\":[{\"type\":\"contourcarpet\",\"colorbar\":{\"outlinewidth\":0,\"ticks\":\"\"}}],\"contour\":[{\"type\":\"contour\",\"colorbar\":{\"outlinewidth\":0,\"ticks\":\"\"},\"colorscale\":[[0.0,\"#0d0887\"],[0.1111111111111111,\"#46039f\"],[0.2222222222222222,\"#7201a8\"],[0.3333333333333333,\"#9c179e\"],[0.4444444444444444,\"#bd3786\"],[0.5555555555555556,\"#d8576b\"],[0.6666666666666666,\"#ed7953\"],[0.7777777777777778,\"#fb9f3a\"],[0.8888888888888888,\"#fdca26\"],[1.0,\"#f0f921\"]]}],\"surface\":[{\"type\":\"surface\",\"colorbar\":{\"outlinewidth\":0,\"ticks\":\"\"},\"colorscale\":[[0.0,\"#0d0887\"],[0.1111111111111111,\"#46039f\"],[0.2222222222222222,\"#7201a8\"],[0.3333333333333333,\"#9c179e\"],[0.4444444444444444,\"#bd3786\"],[0.5555555555555556,\"#d8576b\"],[0.6666666666666666,\"#ed7953\"],[0.7777777777777778,\"#fb9f3a\"],[0.8888888888888888,\"#fdca26\"],[1.0,\"#f0f921\"]]}],\"mesh3d\":[{\"type\":\"mesh3d\",\"colorbar\":{\"outlinewidth\":0,\"ticks\":\"\"}}],\"scatter\":[{\"fillpattern\":{\"fillmode\":\"overlay\",\"size\":10,\"solidity\":0.2},\"type\":\"scatter\"}],\"parcoords\":[{\"type\":\"parcoords\",\"line\":{\"colorbar\":{\"outlinewidth\":0,\"ticks\":\"\"}}}],\"scatterpolargl\":[{\"type\":\"scatterpolargl\",\"marker\":{\"colorbar\":{\"outlinewidth\":0,\"ticks\":\"\"}}}],\"bar\":[{\"error_x\":{\"color\":\"#2a3f5f\"},\"error_y\":{\"color\":\"#2a3f5f\"},\"marker\":{\"line\":{\"color\":\"#E5ECF6\",\"width\":0.5},\"pattern\":{\"fillmode\":\"overlay\",\"size\":10,\"solidity\":0.2}},\"type\":\"bar\"}],\"scattergeo\":[{\"type\":\"scattergeo\",\"marker\":{\"colorbar\":{\"outlinewidth\":0,\"ticks\":\"\"}}}],\"scatterpolar\":[{\"type\":\"scatterpolar\",\"marker\":{\"colorbar\":{\"outlinewidth\":0,\"ticks\":\"\"}}}],\"histogram\":[{\"marker\":{\"pattern\":{\"fillmode\":\"overlay\",\"size\":10,\"solidity\":0.2}},\"type\":\"histogram\"}],\"scattergl\":[{\"type\":\"scattergl\",\"marker\":{\"colorbar\":{\"outlinewidth\":0,\"ticks\":\"\"}}}],\"scatter3d\":[{\"type\":\"scatter3d\",\"line\":{\"colorbar\":{\"outlinewidth\":0,\"ticks\":\"\"}},\"marker\":{\"colorbar\":{\"outlinewidth\":0,\"ticks\":\"\"}}}],\"scattermapbox\":[{\"type\":\"scattermapbox\",\"marker\":{\"colorbar\":{\"outlinewidth\":0,\"ticks\":\"\"}}}],\"scatterternary\":[{\"type\":\"scatterternary\",\"marker\":{\"colorbar\":{\"outlinewidth\":0,\"ticks\":\"\"}}}],\"scattercarpet\":[{\"type\":\"scattercarpet\",\"marker\":{\"colorbar\":{\"outlinewidth\":0,\"ticks\":\"\"}}}],\"carpet\":[{\"aaxis\":{\"endlinecolor\":\"#2a3f5f\",\"gridcolor\":\"white\",\"linecolor\":\"white\",\"minorgridcolor\":\"white\",\"startlinecolor\":\"#2a3f5f\"},\"baxis\":{\"endlinecolor\":\"#2a3f5f\",\"gridcolor\":\"white\",\"linecolor\":\"white\",\"minorgridcolor\":\"white\",\"startlinecolor\":\"#2a3f5f\"},\"type\":\"carpet\"}],\"table\":[{\"cells\":{\"fill\":{\"color\":\"#EBF0F8\"},\"line\":{\"color\":\"white\"}},\"header\":{\"fill\":{\"color\":\"#C8D4E3\"},\"line\":{\"color\":\"white\"}},\"type\":\"table\"}],\"barpolar\":[{\"marker\":{\"line\":{\"color\":\"#E5ECF6\",\"width\":0.5},\"pattern\":{\"fillmode\":\"overlay\",\"size\":10,\"solidity\":0.2}},\"type\":\"barpolar\"}],\"pie\":[{\"automargin\":true,\"type\":\"pie\"}]},\"layout\":{\"autotypenumbers\":\"strict\",\"colorway\":[\"#636efa\",\"#EF553B\",\"#00cc96\",\"#ab63fa\",\"#FFA15A\",\"#19d3f3\",\"#FF6692\",\"#B6E880\",\"#FF97FF\",\"#FECB52\"],\"font\":{\"color\":\"#2a3f5f\"},\"hovermode\":\"closest\",\"hoverlabel\":{\"align\":\"left\"},\"paper_bgcolor\":\"white\",\"plot_bgcolor\":\"#E5ECF6\",\"polar\":{\"bgcolor\":\"#E5ECF6\",\"angularaxis\":{\"gridcolor\":\"white\",\"linecolor\":\"white\",\"ticks\":\"\"},\"radialaxis\":{\"gridcolor\":\"white\",\"linecolor\":\"white\",\"ticks\":\"\"}},\"ternary\":{\"bgcolor\":\"#E5ECF6\",\"aaxis\":{\"gridcolor\":\"white\",\"linecolor\":\"white\",\"ticks\":\"\"},\"baxis\":{\"gridcolor\":\"white\",\"linecolor\":\"white\",\"ticks\":\"\"},\"caxis\":{\"gridcolor\":\"white\",\"linecolor\":\"white\",\"ticks\":\"\"}},\"coloraxis\":{\"colorbar\":{\"outlinewidth\":0,\"ticks\":\"\"}},\"colorscale\":{\"sequential\":[[0.0,\"#0d0887\"],[0.1111111111111111,\"#46039f\"],[0.2222222222222222,\"#7201a8\"],[0.3333333333333333,\"#9c179e\"],[0.4444444444444444,\"#bd3786\"],[0.5555555555555556,\"#d8576b\"],[0.6666666666666666,\"#ed7953\"],[0.7777777777777778,\"#fb9f3a\"],[0.8888888888888888,\"#fdca26\"],[1.0,\"#f0f921\"]],\"sequentialminus\":[[0.0,\"#0d0887\"],[0.1111111111111111,\"#46039f\"],[0.2222222222222222,\"#7201a8\"],[0.3333333333333333,\"#9c179e\"],[0.4444444444444444,\"#bd3786\"],[0.5555555555555556,\"#d8576b\"],[0.6666666666666666,\"#ed7953\"],[0.7777777777777778,\"#fb9f3a\"],[0.8888888888888888,\"#fdca26\"],[1.0,\"#f0f921\"]],\"diverging\":[[0,\"#8e0152\"],[0.1,\"#c51b7d\"],[0.2,\"#de77ae\"],[0.3,\"#f1b6da\"],[0.4,\"#fde0ef\"],[0.5,\"#f7f7f7\"],[0.6,\"#e6f5d0\"],[0.7,\"#b8e186\"],[0.8,\"#7fbc41\"],[0.9,\"#4d9221\"],[1,\"#276419\"]]},\"xaxis\":{\"gridcolor\":\"white\",\"linecolor\":\"white\",\"ticks\":\"\",\"title\":{\"standoff\":15},\"zerolinecolor\":\"white\",\"automargin\":true,\"zerolinewidth\":2},\"yaxis\":{\"gridcolor\":\"white\",\"linecolor\":\"white\",\"ticks\":\"\",\"title\":{\"standoff\":15},\"zerolinecolor\":\"white\",\"automargin\":true,\"zerolinewidth\":2},\"scene\":{\"xaxis\":{\"backgroundcolor\":\"#E5ECF6\",\"gridcolor\":\"white\",\"linecolor\":\"white\",\"showbackground\":true,\"ticks\":\"\",\"zerolinecolor\":\"white\",\"gridwidth\":2},\"yaxis\":{\"backgroundcolor\":\"#E5ECF6\",\"gridcolor\":\"white\",\"linecolor\":\"white\",\"showbackground\":true,\"ticks\":\"\",\"zerolinecolor\":\"white\",\"gridwidth\":2},\"zaxis\":{\"backgroundcolor\":\"#E5ECF6\",\"gridcolor\":\"white\",\"linecolor\":\"white\",\"showbackground\":true,\"ticks\":\"\",\"zerolinecolor\":\"white\",\"gridwidth\":2}},\"shapedefaults\":{\"line\":{\"color\":\"#2a3f5f\"}},\"annotationdefaults\":{\"arrowcolor\":\"#2a3f5f\",\"arrowhead\":0,\"arrowwidth\":1},\"geo\":{\"bgcolor\":\"white\",\"landcolor\":\"#E5ECF6\",\"subunitcolor\":\"white\",\"showland\":true,\"showlakes\":true,\"lakecolor\":\"white\"},\"title\":{\"x\":0.05},\"mapbox\":{\"style\":\"light\"}}},\"title\":{\"text\":\"Z Coordinate with Linear Fit\"},\"xaxis\":{\"title\":{\"text\":\"t_rel (seconds)\"}},\"yaxis\":{\"title\":{\"text\":\"Z Coordinate\"}}},                        {\"responsive\": true}                    ).then(function(){\n",
              "                            \n",
              "var gd = document.getElementById('9ad266ac-b038-4143-bc98-39641687a571');\n",
              "var x = new MutationObserver(function (mutations, observer) {{\n",
              "        var display = window.getComputedStyle(gd).display;\n",
              "        if (!display || display === 'none') {{\n",
              "            console.log([gd, 'removed!']);\n",
              "            Plotly.purge(gd);\n",
              "            observer.disconnect();\n",
              "        }}\n",
              "}});\n",
              "\n",
              "// Listen for the removal of the full notebook cells\n",
              "var notebookContainer = gd.closest('#notebook-container');\n",
              "if (notebookContainer) {{\n",
              "    x.observe(notebookContainer, {childList: true});\n",
              "}}\n",
              "\n",
              "// Listen for the clearing of the current output cell\n",
              "var outputEl = gd.closest('.output');\n",
              "if (outputEl) {{\n",
              "    x.observe(outputEl, {childList: true});\n",
              "}}\n",
              "\n",
              "                        })                };                            </script>        </div>\n",
              "</body>\n",
              "</html>"
            ]
          },
          "metadata": {}
        }
      ],
      "source": [
        "t_fit = np.linspace(t_rel.min(), t_rel.max(), 100)\n",
        "y_fit_z = a * t_fit + b\n",
        "\n",
        "fig = go.Figure()\n",
        "\n",
        "fig.add_trace(go.Scatter(x=t_rel, y=coords[:, 2], mode='markers', name='Original Z Data'))\n",
        "\n",
        "fig.add_trace(go.Scatter(x=t_fit, y=y_fit_z, mode='lines', name='Linear Fit (Z)', line=dict(color='red')))\n",
        "\n",
        "fig.update_layout(title='Z Coordinate with Linear Fit', xaxis_title='t_rel (seconds)', yaxis_title='Z Coordinate')\n",
        "fig.show()"
      ]
    },
    {
      "cell_type": "code",
      "execution_count": 36,
      "metadata": {
        "id": "CuS0z3Yweawo",
        "colab": {
          "base_uri": "https://localhost:8080/"
        },
        "outputId": "8c170ba9-3669-4b3d-b3f3-1db7eec8357a"
      },
      "outputs": [
        {
          "output_type": "execute_result",
          "data": {
            "text/plain": [
              "array([-2.00000e-04,  1.63000e-02,  1.97408e+01])"
            ]
          },
          "metadata": {},
          "execution_count": 36
        }
      ],
      "source": [
        "# ตำแหน่ง drone ปัจจุบัน\n",
        "Pd"
      ]
    },
    {
      "cell_type": "code",
      "execution_count": 37,
      "metadata": {
        "id": "VLyJSzHLk38u",
        "colab": {
          "base_uri": "https://localhost:8080/"
        },
        "outputId": "0e957546-a0ee-4cc3-c341-4919176b675c"
      },
      "outputs": [
        {
          "output_type": "execute_result",
          "data": {
            "text/plain": [
              "array([-1.99170030e-05,  1.59187648e-03,  2.00514909e+00])"
            ]
          },
          "metadata": {},
          "execution_count": 37
        }
      ],
      "source": [
        "# ความเร็วของโดรน\n",
        "Vd"
      ]
    },
    {
      "cell_type": "code",
      "execution_count": 38,
      "metadata": {
        "id": "_eUBQMbnji8U",
        "colab": {
          "base_uri": "https://localhost:8080/"
        },
        "outputId": "4740f9c4-f041-4d07-98ee-aaaf9651f3cf"
      },
      "outputs": [
        {
          "output_type": "execute_result",
          "data": {
            "text/plain": [
              "array([0., 0., 0.])"
            ]
          },
          "metadata": {},
          "execution_count": 38
        }
      ],
      "source": [
        "# ตำแหน่งป้อมปืน\n",
        "Pg"
      ]
    },
    {
      "cell_type": "code",
      "execution_count": 39,
      "metadata": {
        "id": "tTAwhe6gk-dT",
        "colab": {
          "base_uri": "https://localhost:8080/"
        },
        "outputId": "ec38af3e-99ff-444c-ac0e-d8553a271010"
      },
      "outputs": [
        {
          "output_type": "execute_result",
          "data": {
            "text/plain": [
              "200.0"
            ]
          },
          "metadata": {},
          "execution_count": 39
        }
      ],
      "source": [
        "# ความเร็วของกระสุน\n",
        "Vs"
      ]
    },
    {
      "cell_type": "code",
      "execution_count": 40,
      "metadata": {
        "id": "vRq9IFkpjS0K",
        "colab": {
          "base_uri": "https://localhost:8080/"
        },
        "outputId": "6c2fb74f-c665-4c6f-a2cc-1f904a65fee7"
      },
      "outputs": [
        {
          "output_type": "execute_result",
          "data": {
            "text/plain": [
              "array([-2.00000e-04,  1.63000e-02,  1.97408e+01])"
            ]
          },
          "metadata": {},
          "execution_count": 40
        }
      ],
      "source": [
        "# ตำแหน่งของโดรน (Pd) เทียบกับตำแหน่งของป้อมปืน (Pg)\n",
        "P_rel = Pd - Pg\n",
        "P_rel"
      ]
    },
    {
      "cell_type": "markdown",
      "metadata": {
        "id": "6iRPeevUlWg9"
      },
      "source": [
        "เราต้องหาค่าเวลา t ที่กระสุนกับโดรนจะอยู่ที่จุดเดียวกัน\n",
        "at^2+bt+c=0\n",
        "\n",
        "a บอกว่า กระสุนเร็วกว่าหรือช้ากว่าโดรนมากแค่ไหน\n",
        "\n",
        "b บอกว่า โดรนกำลังเคลื่อนที่เข้าหรือออกจากป้อมเร็วแค่ไหน\n",
        "\n",
        "c คือ โดรนอยู่ห่างจากป้อมแค่ไหนในตอนเริ่มต้น"
      ]
    },
    {
      "cell_type": "code",
      "execution_count": 41,
      "metadata": {
        "id": "LjTEJ6NljS2M",
        "colab": {
          "base_uri": "https://localhost:8080/"
        },
        "outputId": "610757ac-4c9c-47e3-b568-3f335bd201a9"
      },
      "outputs": [
        {
          "output_type": "execute_result",
          "data": {
            "text/plain": [
              "np.float64(-39995.97937459041)"
            ]
          },
          "metadata": {},
          "execution_count": 41
        }
      ],
      "source": [
        "# vx² + vy² + vz²\n",
        "a = np.dot(Vd, Vd) - Vs**2\n",
        "\n",
        "a"
      ]
    },
    {
      "cell_type": "code",
      "execution_count": 42,
      "metadata": {
        "id": "vDw8dn0MjS4q",
        "colab": {
          "base_uri": "https://localhost:8080/"
        },
        "outputId": "e66b5655-1b38-4129-dc9b-8a845cede577"
      },
      "outputs": [
        {
          "output_type": "execute_result",
          "data": {
            "text/plain": [
              "np.float64(79.16654623452406)"
            ]
          },
          "metadata": {},
          "execution_count": 42
        }
      ],
      "source": [
        "b = 2.0 * np.dot(P_rel, Vd)\n",
        "b"
      ]
    },
    {
      "cell_type": "code",
      "execution_count": 43,
      "metadata": {
        "id": "XLpX5QXyrlaW",
        "colab": {
          "base_uri": "https://localhost:8080/"
        },
        "outputId": "66f0693c-a2a6-412a-d6e1-210e686aff5a"
      },
      "outputs": [
        {
          "output_type": "execute_result",
          "data": {
            "text/plain": [
              "np.float64(389.69945037)"
            ]
          },
          "metadata": {},
          "execution_count": 43
        }
      ],
      "source": [
        "c = np.dot(P_rel, P_rel)\n",
        "c"
      ]
    },
    {
      "cell_type": "markdown",
      "metadata": {
        "id": "08k63aN6vfe-"
      },
      "source": [
        "AI Projectile Intercept Formula for Gaming, without Trigonometry\n",
        "\n",
        "https://medium.com/andys-coding-blog/ai-projectile-intercept-formula-for-gaming-without-trigonometry-37b70ef5718b\n"
      ]
    },
    {
      "cell_type": "code",
      "execution_count": 44,
      "metadata": {
        "id": "nzBoxspQuvi5",
        "colab": {
          "base_uri": "https://localhost:8080/"
        },
        "outputId": "a9ce049f-8d30-46f7-c448-e45ae2b1d127"
      },
      "outputs": [
        {
          "output_type": "execute_result",
          "data": {
            "text/plain": [
              "(np.float64(-0.09772427464198657), np.float64(0.09970363725474009))"
            ]
          },
          "metadata": {},
          "execution_count": 44
        }
      ],
      "source": [
        "# quadratic\n",
        "disc = b*b - 4*a*c\n",
        "sqrt_disc = np.sqrt(disc)\n",
        "t1 = (-b + sqrt_disc) / (2*a)\n",
        "t2 = (-b - sqrt_disc) / (2*a) #  เวลากระสุนจะถูกโดรน\n",
        "\n",
        "t1, t2"
      ]
    },
    {
      "cell_type": "code",
      "execution_count": 45,
      "metadata": {
        "id": "L1K6xe8Vwfxm",
        "colab": {
          "base_uri": "https://localhost:8080/"
        },
        "outputId": "51b91c4b-5c89-4397-f11c-c0826fcf4623"
      },
      "outputs": [
        {
          "output_type": "execute_result",
          "data": {
            "text/plain": [
              "[np.float64(0.09970363725474009)]"
            ]
          },
          "metadata": {},
          "execution_count": 45
        }
      ],
      "source": [
        "ts = [t for t in (t1, t2) if t > 1e-9]\n",
        "ts"
      ]
    },
    {
      "cell_type": "code",
      "execution_count": 46,
      "metadata": {
        "id": "Iked8CU1wWGC",
        "colab": {
          "base_uri": "https://localhost:8080/"
        },
        "outputId": "4304f1e4-1d0a-41c0-eb48-bbb86b05132c"
      },
      "outputs": [
        {
          "output_type": "execute_result",
          "data": {
            "text/plain": [
              "np.float64(0.09970363725474009)"
            ]
          },
          "metadata": {},
          "execution_count": 46
        }
      ],
      "source": [
        "t = min(ts)\n",
        "t"
      ]
    },
    {
      "cell_type": "code",
      "execution_count": 47,
      "metadata": {
        "id": "ZKViNCDXw3Vk",
        "colab": {
          "base_uri": "https://localhost:8080/"
        },
        "outputId": "891aedc8-2a6a-433f-cbb8-7b66a3668818"
      },
      "outputs": [
        {
          "output_type": "execute_result",
          "data": {
            "text/plain": [
              "array([-2.01985798e-04,  1.64587159e-02,  1.99407207e+01])"
            ]
          },
          "metadata": {},
          "execution_count": 47
        }
      ],
      "source": [
        "P_hit = Pd + Vd * t\n",
        "P_hit"
      ]
    },
    {
      "cell_type": "code",
      "execution_count": 48,
      "metadata": {
        "id": "QJtflwD9C1_Z"
      },
      "outputs": [],
      "source": [
        "def estimate_velocity_linear_regression(history):\n",
        "    if len(history) < 2:\n",
        "        return np.array([0.0, 0.0, 0.0])\n",
        "    times = np.array([h[0] for h in history])\n",
        "    coords = np.array([[h[1], h[2], h[3]] for h in history])\n",
        "    t0 = times.mean()\n",
        "    t_rel = times - t0\n",
        "    v = np.zeros(3, dtype=float)\n",
        "    for i in range(3):\n",
        "        a, b = np.polyfit(t_rel, coords[:, i], 1)\n",
        "        v[i] = a\n",
        "    return v\n",
        "\n",
        "def compute_intercept_point(Pd, Vd, Pg, Vs, eps=1e-6):\n",
        "    P_rel = Pd - Pg\n",
        "    a = np.dot(Vd, Vd) - Vs**2\n",
        "    b = 2.0 * np.dot(P_rel, Vd)\n",
        "    c = np.dot(P_rel, P_rel)\n",
        "\n",
        "    # if a is approx zero -> linear equation b t + c = 0\n",
        "    if abs(a) < eps:\n",
        "        if abs(b) < eps:\n",
        "            return (None, None)  # no motion relative or degenerate\n",
        "        t = -c / b\n",
        "        if t > 0:\n",
        "            P_hit = Pd + Vd * t\n",
        "            return P_hit, t\n",
        "        else:\n",
        "            return (None, None)\n",
        "\n",
        "    disc = b*b - 4*a*c\n",
        "    if disc < 0:\n",
        "        return (None, None)\n",
        "    sqrt_disc = np.sqrt(disc)\n",
        "    t1 = (-b + sqrt_disc) / (2*a)\n",
        "    t2 = (-b - sqrt_disc) / (2*a)\n",
        "\n",
        "    ts = [t for t in (t1, t2) if t > 1e-9]\n",
        "    if not ts:\n",
        "        return (None, None)\n",
        "    t = min(ts)\n",
        "    P_hit = Pd + Vd * t\n",
        "    return P_hit, t"
      ]
    },
    {
      "cell_type": "markdown",
      "metadata": {
        "id": "D6hcWTbC7VpJ"
      },
      "source": [
        "การคำนวนการหมุนปากลำกล้องปืน"
      ]
    },
    {
      "cell_type": "code",
      "execution_count": 49,
      "metadata": {
        "id": "RAlOiqoczJVg",
        "colab": {
          "base_uri": "https://localhost:8080/"
        },
        "outputId": "a08ed88a-5137-422f-dea5-7bc2e90b1602"
      },
      "outputs": [
        {
          "output_type": "execute_result",
          "data": {
            "text/plain": [
              "array([0., 0., 0.])"
            ]
          },
          "metadata": {},
          "execution_count": 49
        }
      ],
      "source": [
        "# ตำแหน่งป้อมปืน\n",
        "Pg"
      ]
    },
    {
      "cell_type": "code",
      "execution_count": 50,
      "metadata": {
        "id": "8yFQ05Xb7gzC",
        "colab": {
          "base_uri": "https://localhost:8080/"
        },
        "outputId": "373f3ae6-f85e-42a4-9a68-561da783f0a2"
      },
      "outputs": [
        {
          "output_type": "execute_result",
          "data": {
            "text/plain": [
              "array([0.5, 0. , 0.2])"
            ]
          },
          "metadata": {},
          "execution_count": 50
        }
      ],
      "source": [
        "# ปากลำกล้องยื่นออก 0.5 m สูง 0.2 m\n",
        "barrel_offset = np.array([0.5, 0, 0.2])\n",
        "barrel_offset"
      ]
    },
    {
      "cell_type": "code",
      "execution_count": 51,
      "metadata": {
        "id": "bEAeyltP8yGJ",
        "colab": {
          "base_uri": "https://localhost:8080/"
        },
        "outputId": "aa556dc2-a623-4c09-b633-42fccc64f320"
      },
      "outputs": [
        {
          "output_type": "execute_result",
          "data": {
            "text/plain": [
              "array([0.5, 0. , 0.2])"
            ]
          },
          "metadata": {},
          "execution_count": 51
        }
      ],
      "source": [
        "Pg_barrel = Pg + barrel_offset\n",
        "Pg_barrel"
      ]
    },
    {
      "cell_type": "code",
      "execution_count": 52,
      "metadata": {
        "id": "1Y5uZ-sB7g1V",
        "colab": {
          "base_uri": "https://localhost:8080/"
        },
        "outputId": "a89734e9-9450-4f66-92f0-294a9493a61c"
      },
      "outputs": [
        {
          "output_type": "execute_result",
          "data": {
            "text/plain": [
              "array([-2.01985798e-04,  1.64587159e-02,  1.99407207e+01])"
            ]
          },
          "metadata": {},
          "execution_count": 52
        }
      ],
      "source": [
        "# จุดที่จะยิงโดย\n",
        "P_hit"
      ]
    },
    {
      "cell_type": "code",
      "execution_count": 53,
      "metadata": {
        "id": "fxRAE6PY7g3-",
        "colab": {
          "base_uri": "https://localhost:8080/"
        },
        "outputId": "76d2d445-bd01-4932-8f12-0183a1346133"
      },
      "outputs": [
        {
          "output_type": "execute_result",
          "data": {
            "text/plain": [
              "array([-5.00201986e-01,  1.64587159e-02,  1.97407207e+01])"
            ]
          },
          "metadata": {},
          "execution_count": 53
        }
      ],
      "source": [
        "# คำนวณเวกเตอร์จาก ปากลำกล้องไปจุดเป้า\n",
        "\n",
        "D = P_hit - Pg_barrel\n",
        "D"
      ]
    },
    {
      "cell_type": "code",
      "execution_count": 54,
      "metadata": {
        "id": "AXANB1K1zJYr",
        "colab": {
          "base_uri": "https://localhost:8080/"
        },
        "outputId": "bf6a2b4b-7e8a-4d8a-d787-9b1a0878942b"
      },
      "outputs": [
        {
          "output_type": "stream",
          "name": "stdout",
          "text": [
            "Yaw (radians) 3.1087003813790606, (degrees) 178.11541162372959\n",
            "Pitch (radians) 1.545449455318924, (degrees) 88.54773124056624\n"
          ]
        }
      ],
      "source": [
        "dx, dy, dz = D\n",
        "\n",
        "# มุมหมุนซ้าย/ขวา\n",
        "yaw = np.arctan2(dy, dx)\n",
        "\n",
        "# มุมเงย/ก้ม\n",
        "# pitch = np.arctan2(dz, np.sqrt(dx**2 + dy**2))\n",
        "pitch = np.arctan2(dz, np.hypot(dx, dy))\n",
        "\n",
        "yaw_deg = np.degrees(yaw)\n",
        "pitch_deg = np.degrees(pitch)\n",
        "\n",
        "print(f\"Yaw (radians) {yaw}, (degrees) {yaw_deg}\")\n",
        "print(f\"Pitch (radians) {pitch}, (degrees) {pitch_deg}\")"
      ]
    },
    {
      "cell_type": "code",
      "execution_count": 55,
      "metadata": {
        "id": "nsI_RGnQCfAA",
        "colab": {
          "base_uri": "https://localhost:8080/"
        },
        "outputId": "15463a3f-6366-4f18-e506-3f8dcbeeff15"
      },
      "outputs": [
        {
          "output_type": "execute_result",
          "data": {
            "text/plain": [
              "(array([-2.01966316e-04,  1.64571588e-02,  1.99387594e+01]),\n",
              " np.float64(0.09872551526759944))"
            ]
          },
          "metadata": {},
          "execution_count": 55
        }
      ],
      "source": [
        "P_hit, t = compute_intercept_point(Pd, Vd, Pg_barrel, Vs)\n",
        "P_hit, t"
      ]
    },
    {
      "cell_type": "code",
      "execution_count": 56,
      "metadata": {
        "id": "jX1jiiKCw3Y5"
      },
      "outputs": [],
      "source": [
        "def compute_yaw_pitch(P_hit, Pg_barrel):\n",
        "  dx, dy, dz = np.array(P_hit) - np.array(Pg_barrel)\n",
        "  yaw = np.degrees(np.arctan2(dy, dx))\n",
        "  pitch = np.degrees(np.arctan2(dz, np.hypot(dx, dy)))\n",
        "  return yaw, pitch"
      ]
    },
    {
      "cell_type": "code",
      "execution_count": 57,
      "metadata": {
        "id": "39NpdBFAw3bs",
        "colab": {
          "base_uri": "https://localhost:8080/"
        },
        "outputId": "dae3302d-035f-4d73-f217-05026584a5da"
      },
      "outputs": [
        {
          "output_type": "execute_result",
          "data": {
            "text/plain": [
              "(np.float64(178.11558971018624), np.float64(88.54758720721952))"
            ]
          },
          "metadata": {},
          "execution_count": 57
        }
      ],
      "source": [
        "yaw, pitch = compute_yaw_pitch(P_hit, Pg_barrel)\n",
        "yaw, pitch"
      ]
    },
    {
      "cell_type": "markdown",
      "metadata": {
        "id": "L9GVJwjtPRnL"
      },
      "source": [
        "Code เต็ม"
      ]
    },
    {
      "cell_type": "code",
      "execution_count": 58,
      "metadata": {
        "id": "az1RTyQxPSOf",
        "colab": {
          "base_uri": "https://localhost:8080/",
          "height": 645
        },
        "outputId": "bd338192-4cb2-4995-abaa-8ecbb04b4842"
      },
      "outputs": [
        {
          "output_type": "stream",
          "name": "stdout",
          "text": [
            "It looks like you are running Gradio on a hosted Jupyter notebook, which requires `share=True`. Automatically setting `share=True` (you can turn this off by setting `share=False` in `launch()` explicitly).\n",
            "\n",
            "Colab notebook detected. To show errors in colab notebook, set debug=True in launch()\n",
            "* Running on public URL: https://db29e55cf3708430ac.gradio.live\n",
            "\n",
            "This share link expires in 1 week. For free permanent hosting and GPU upgrades, run `gradio deploy` from the terminal in the working directory to deploy to Hugging Face Spaces (https://huggingface.co/spaces)\n"
          ]
        },
        {
          "output_type": "display_data",
          "data": {
            "text/plain": [
              "<IPython.core.display.HTML object>"
            ],
            "text/html": [
              "<div><iframe src=\"https://db29e55cf3708430ac.gradio.live\" width=\"100%\" height=\"500\" allow=\"autoplay; camera; microphone; clipboard-read; clipboard-write;\" frameborder=\"0\" allowfullscreen></iframe></div>"
            ]
          },
          "metadata": {}
        },
        {
          "output_type": "execute_result",
          "data": {
            "text/plain": []
          },
          "metadata": {},
          "execution_count": 58
        }
      ],
      "source": [
        "import gradio as gr\n",
        "import requests\n",
        "import plotly.graph_objects as go\n",
        "from collections import deque\n",
        "import numpy as np\n",
        "import datetime\n",
        "import time\n",
        "\n",
        "API_URL = \"http://0.0.0.0:8000/drone\"\n",
        "\n",
        "# เก็บประวัติพิกัด/เวลา (สำหรับ estimate velocity)\n",
        "window_size = 20\n",
        "history = deque(maxlen=window_size)\n",
        "\n",
        "# เก็บประวัติแค่เพื่อวาด path\n",
        "x_history, y_history, z_history = deque(maxlen=200), deque(maxlen=200), deque(maxlen=200)\n",
        "\n",
        "# ป้อมปืน / barrel offset (ปรับตามของจริง)\n",
        "Pg = np.array([0.0, 0.0, 0.0])\n",
        "barrel_offset = np.array([0.5, 0.0, 0.2])   # ตัวอย่าง ปากลำกล้องยื่นไป 0.5m และสูง 0.2m\n",
        "Pg_barrel = Pg + barrel_offset\n",
        "\n",
        "# ความเร็วกระสุน (m/s)\n",
        "Vs = 200.0\n",
        "\n",
        "firing = False               # True เมื่อ user กด Fire และยังไม่ถึงเวลา impact\n",
        "fire_target_epoch = None     # epoch (seconds) เมื่อควรยิงจริง (now + t)\n",
        "last_P_hit = None            # เก็บ P_hit ปัจจุบัน (สำหรับแสดง marker impact)\n",
        "impact_record = None         # เก็บข้อมูลตอน fired (P_hit, epoch)\n",
        "\n",
        "def estimate_velocity_linear_regression(history):\n",
        "    if len(history) < 2:\n",
        "        return np.array([0.0, 0.0, 0.0])\n",
        "    times = np.array([h[0] for h in history])\n",
        "    coords = np.array([[h[1], h[2], h[3]] for h in history])\n",
        "    t0 = times.mean()\n",
        "    t_rel = times - t0\n",
        "    v = np.zeros(3, dtype=float)\n",
        "    for i in range(3):\n",
        "        a, b = np.polyfit(t_rel, coords[:, i], 1)  # a = slope = velocity\n",
        "        v[i] = a\n",
        "    return v\n",
        "\n",
        "def compute_intercept_point(Pd, Vd, Pg, Vs, eps=1e-6):\n",
        "    P_rel = Pd - Pg\n",
        "    a = np.dot(Vd, Vd) - Vs**2\n",
        "    b = 2.0 * np.dot(P_rel, Vd)\n",
        "    c = np.dot(P_rel, P_rel)\n",
        "\n",
        "    if abs(a) < eps:\n",
        "        # linear: b t + c = 0\n",
        "        if abs(b) < eps:\n",
        "            return (None, None)\n",
        "        t = -c / b\n",
        "        if t > 0:\n",
        "            P_hit = Pd + Vd * t\n",
        "            return P_hit, t\n",
        "        else:\n",
        "            return (None, None)\n",
        "\n",
        "    disc = b*b - 4*a*c\n",
        "    if disc < 0:\n",
        "        return (None, None)\n",
        "    sqrt_disc = np.sqrt(disc)\n",
        "    t1 = (-b + sqrt_disc) / (2*a)\n",
        "    t2 = (-b - sqrt_disc) / (2*a)\n",
        "    ts = [t for t in (t1, t2) if t > 1e-9]\n",
        "    if not ts:\n",
        "        return (None, None)\n",
        "    t = min(ts)\n",
        "    P_hit = Pd + Vd * t\n",
        "    return P_hit, t\n",
        "\n",
        "def compute_yaw_pitch(P_hit, Pg_barrel):\n",
        "    dx, dy, dz = np.array(P_hit) - np.array(Pg_barrel)\n",
        "    yaw = np.degrees(np.arctan2(dy, dx))\n",
        "    pitch = np.degrees(np.arctan2(dz, np.hypot(dx, dy)))\n",
        "    return float(yaw), float(pitch)\n",
        "\n",
        "def prepare_fire():\n",
        "    \"\"\"\n",
        "    เมื่อกด Fire: อ่านสถานะปัจจุบันของโดรน (ล่าสุดจาก history if available),\n",
        "    คำนวณ P_hit,t แล้วตั้ง fire_target_epoch = now + t\n",
        "    \"\"\"\n",
        "    global firing, fire_target_epoch, last_P_hit, impact_record\n",
        "\n",
        "    # ต้องมีข้อมูลล่าสุดใน history\n",
        "    if len(history) == 0:\n",
        "        return \"No drone data to compute intercept (history empty).\"\n",
        "\n",
        "    # ใช้สถานะปัจจุบัน (ล่าสุด)\n",
        "    t_now, x, y, z = history[-1]\n",
        "    Pd = np.array([x, y, z])\n",
        "    Vd = estimate_velocity_linear_regression(history)\n",
        "    P_hit, t_to_hit = compute_intercept_point(Pd, Vd, Pg_barrel, Vs)\n",
        "\n",
        "    if P_hit is None or t_to_hit is None:\n",
        "        return \"No intercept solution (cannot fire).\"\n",
        "\n",
        "    last_P_hit = P_hit\n",
        "    firing = True\n",
        "    fire_target_epoch = time.time() + float(t_to_hit)\n",
        "    impact_record = None\n",
        "    fire_time_iso = datetime.datetime.utcfromtimestamp(fire_target_epoch).isoformat(timespec='seconds') + \"Z\"\n",
        "    return f\"Firing prepared — impact in {t_to_hit:.2f} s (target at {fire_time_iso} UTC).\"\n",
        "\n",
        "def get_drone_data_and_plot():\n",
        "    global last_P_hit, firing, fire_target_epoch, impact_record\n",
        "\n",
        "    try:\n",
        "        r = requests.get(API_URL, timeout=1)\n",
        "        data = r.json()\n",
        "\n",
        "        # position & velocity from API\n",
        "        x, y, z = data[\"x\"], data[\"y\"], data[\"z\"]\n",
        "        vx, vy, vz = data[\"vx\"], data[\"vy\"], data[\"vz\"]\n",
        "\n",
        "        # timestamp from API (ISO) -> seconds\n",
        "        ts_str = data.get(\"timestamp\")\n",
        "        if ts_str:\n",
        "            t_seconds = datetime.datetime.fromisoformat(ts_str.replace(\"Z\", \"+00:00\")).timestamp()\n",
        "        else:\n",
        "            t_seconds = time.time()\n",
        "\n",
        "        # update histories\n",
        "        history.append((t_seconds, x, y, z))\n",
        "        x_history.append(x); y_history.append(y); z_history.append(z)\n",
        "\n",
        "        # estimate velocity from recent history\n",
        "        Vd = estimate_velocity_linear_regression(history)\n",
        "\n",
        "        # current drone pos\n",
        "        Pd = np.array([x, y, z])\n",
        "\n",
        "        # compute intercept (update aiming)\n",
        "        P_hit, t_to_hit = compute_intercept_point(Pd, Vd, Pg_barrel, Vs)\n",
        "        if P_hit is not None:\n",
        "            last_P_hit = P_hit\n",
        "\n",
        "        # prepare status string (pos, vel, speed)\n",
        "        speed_kmh = ((vx**2 + vy**2 + vz**2) ** 0.5) * 3.6\n",
        "        pos_str = (\n",
        "            f\"Position (World Frame)\\n\"\n",
        "            f\"({x:.2f}, {y:.2f}, {z:.2f}) m\\n\\n\"\n",
        "            f\"Velocity (API)\\n\"\n",
        "            f\"({vx:.3f}, {vy:.3f}, {vz:.3f}) m/s\\n\\n\"\n",
        "            f\"Speed\\n{speed_kmh:.2f} km/h\\n\\n\"\n",
        "        )\n",
        "\n",
        "        if P_hit is not None and t_to_hit is not None:\n",
        "            yaw_deg, pitch_deg = compute_yaw_pitch(P_hit, Pg_barrel)\n",
        "            pos_str += f\"<<Current predicted HIT>>\\nt\\n{t_to_hit:.2f}s\\n\\nP_hit\\n({P_hit[0]:.3f}, {P_hit[1]:.3f}, {P_hit[2]:.3f}) m\\n\\n\"\n",
        "            pos_str += f\"Yaw\\n({yaw_deg:.2f}°, Pitch={pitch_deg:.2f}°)\\n\"\n",
        "        else:\n",
        "            pos_str += \"No intercept solution (P_hit not found)\\n\"\n",
        "\n",
        "        # If firing was prepared, compute countdown to target epoch\n",
        "        if firing and fire_target_epoch is not None:\n",
        "            remaining = fire_target_epoch - time.time()\n",
        "            if remaining > 0:\n",
        "                pos_str += f\"\\nFIRING -> countdown: {remaining:.2f} s\\n\"\n",
        "            else:\n",
        "                # impact moment\n",
        "                pos_str += f\"\\n*** IMPACT / FIRED at {datetime.datetime.utcnow().isoformat(timespec='seconds')}Z ***\\n\"\n",
        "                firing = False\n",
        "                impact_record = {\n",
        "                    \"epoch\": fire_target_epoch,\n",
        "                    \"P_hit\": last_P_hit.copy() if last_P_hit is not None else None\n",
        "                }\n",
        "                fire_target_epoch = None\n",
        "\n",
        "        if impact_record is not None:\n",
        "            ph = impact_record[\"P_hit\"]\n",
        "            if ph is not None:\n",
        "                pos_str += f\"\\nLast Impact at P_hit = ({ph[0]:.3f}, {ph[1]:.3f}, {ph[2]:.3f}) m\\n\"\n",
        "\n",
        "        fig3d = go.Figure()\n",
        "\n",
        "        # path\n",
        "        fig3d.add_trace(go.Scatter3d(\n",
        "            x=list(x_history),\n",
        "            y=list(y_history),\n",
        "            z=list(z_history),\n",
        "            mode=\"lines+markers\",\n",
        "            line=dict(color=list(range(len(x_history))), colorscale=\"Turbo\", width=4),\n",
        "            marker=dict(size=3, color=list(range(len(x_history))), colorscale=\"Turbo\", showscale=False),\n",
        "            name=\"Path\"\n",
        "        ))\n",
        "\n",
        "        # current drone marker\n",
        "        fig3d.add_trace(go.Scatter3d(\n",
        "            x=[x], y=[y], z=[z],\n",
        "            mode=\"markers\",\n",
        "            marker=dict(size=8, color=\"lime\", symbol=\"circle\"),\n",
        "            name=\"Drone (current)\"\n",
        "        ))\n",
        "\n",
        "        # barrel position marker\n",
        "        fig3d.add_trace(go.Scatter3d(\n",
        "            x=[Pg_barrel[0]], y=[Pg_barrel[1]], z=[Pg_barrel[2]],\n",
        "            mode=\"markers+text\",\n",
        "            marker=dict(size=6, color=\"black\", symbol=\"square\"),\n",
        "            text=[\"Barrel\"],\n",
        "            textposition=\"top center\",\n",
        "            name=\"Barrel\"\n",
        "        ))\n",
        "\n",
        "        # P_hit marker & line (current predicted)\n",
        "        if last_P_hit is not None:\n",
        "            fig3d.add_trace(go.Scatter3d(\n",
        "                x=[last_P_hit[0]], y=[last_P_hit[1]], z=[last_P_hit[2]],\n",
        "                mode=\"markers+text\",\n",
        "                marker=dict(size=6, color=\"red\", symbol=\"x\"),\n",
        "                text=[f\"P_hit\\n{last_P_hit[2]:.1f}m\"],\n",
        "                textposition=\"bottom center\",\n",
        "                name=\"P_hit (pred)\"\n",
        "            ))\n",
        "            # line from barrel -> P_hit\n",
        "            fig3d.add_trace(go.Scatter3d(\n",
        "                x=[Pg_barrel[0], last_P_hit[0]],\n",
        "                y=[Pg_barrel[1], last_P_hit[1]],\n",
        "                z=[Pg_barrel[2], last_P_hit[2]],\n",
        "                mode=\"lines\",\n",
        "                line=dict(color=\"red\", width=3, dash=\"dash\"),\n",
        "                showlegend=False\n",
        "            ))\n",
        "\n",
        "        # impact marker (if fired)\n",
        "        if impact_record is not None and impact_record.get(\"P_hit\") is not None:\n",
        "            ph = impact_record[\"P_hit\"]\n",
        "            fig3d.add_trace(go.Scatter3d(\n",
        "                x=[ph[0]], y=[ph[1]], z=[ph[2]],\n",
        "                mode=\"markers+text\",\n",
        "                marker=dict(size=10, color=\"orange\", symbol=\"diamond\"),\n",
        "                text=[\"IMPACT\"],\n",
        "                textposition=\"top center\",\n",
        "                name=\"Impact\"\n",
        "            ))\n",
        "\n",
        "        margin = 5.0\n",
        "        if len(x_history) > 1:\n",
        "            x_range = [min(x_history)-margin, max(x_history)+margin]\n",
        "            y_range = [min(y_history)-margin, max(y_history)+margin]\n",
        "            z_range = [min(z_history)-margin, max(z_history)+margin]\n",
        "        else:\n",
        "            x_range, y_range, z_range = [-10,10], [-10,10], [0,20]\n",
        "\n",
        "        fig3d.update_layout(\n",
        "            scene=dict(\n",
        "                xaxis=dict(title=\"X (Forward, m)\", range=x_range),\n",
        "                yaxis=dict(title=\"Y (Right, m)\", range=y_range),\n",
        "                zaxis=dict(title=\"Z (Up, m)\", range=z_range),\n",
        "                aspectmode=\"cube\"\n",
        "            ),\n",
        "            template=\"plotly_white\",\n",
        "            margin=dict(l=0, r=0, t=40, b=0),\n",
        "            height=800\n",
        "        )\n",
        "\n",
        "        return fig3d, pos_str\n",
        "\n",
        "    except Exception as e:\n",
        "        return go.Figure(), f\"Error: {e}\"\n",
        "\n",
        "# สร้าง Gradio Dashboard\n",
        "with gr.Blocks(\n",
        "    css=\"\"\"\n",
        "        .gradio-container {max-width: 100% !important; padding: 0; margin: 0;}\n",
        "        #plot-area {width: 100%; height: 75vh !important;} /* ปรับสูงให้พอดี */\n",
        "        #header-text {text-align: center; margin-top: 8px;}\n",
        "        .controls {display:flex; gap:8px; align-items:center;}\n",
        "    \"\"\"\n",
        ") as dashboard:\n",
        "    gr.Markdown(\"## 🚀 Drone Position, Predicted Hit & Gun Angles (Fire)\", elem_id=\"header-text\")\n",
        "\n",
        "    with gr.Row():\n",
        "        with gr.Column(scale=1):\n",
        "            btn_fire = gr.Button(\"Fire (Prepare)\")\n",
        "            info = gr.Textbox(label=\"Drone Status & Intercept Info\", lines=10, interactive=False)\n",
        "        with gr.Column(scale=3):\n",
        "            plot3d = gr.Plot(label=\"🛰️ Real-time 3D Drone Monitor\", elem_id=\"plot-area\")\n",
        "\n",
        "    # ปุ่ม callback\n",
        "    btn_fire.click(prepare_fire, outputs=info)\n",
        "\n",
        "    # เรียกทุก 1 วินาที (update กราฟ และสถานะ)\n",
        "    gr.Timer(value=1).tick(fn=get_drone_data_and_plot, outputs=[plot3d, info])\n",
        "\n",
        "dashboard.launch()\n"
      ]
    },
    {
      "cell_type": "code",
      "execution_count": 58,
      "metadata": {
        "id": "HWsKN1xvPiuH"
      },
      "outputs": [],
      "source": []
    }
  ],
  "metadata": {
    "colab": {
      "machine_shape": "hm",
      "provenance": [],
      "include_colab_link": true
    },
    "kernelspec": {
      "display_name": "Python 3",
      "name": "python3"
    },
    "language_info": {
      "name": "python"
    }
  },
  "nbformat": 4,
  "nbformat_minor": 0
}