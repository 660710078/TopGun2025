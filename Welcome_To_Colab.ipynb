{
  "cells": [
    {
      "cell_type": "markdown",
      "metadata": {
        "id": "view-in-github",
        "colab_type": "text"
      },
      "source": [
        "<a href=\"https://colab.research.google.com/github/660710078/TopGun2025/blob/main/Welcome_To_Colab.ipynb\" target=\"_parent\"><img src=\"https://colab.research.google.com/assets/colab-badge.svg\" alt=\"Open In Colab\"/></a>"
      ]
    },
    {
      "cell_type": "code",
      "source": [
        "!pip install ultralytics opencv-python-headless matplotlib seaborn\n",
        "\n",
        "from google.colab import drive\n",
        "import cv2\n",
        "import numpy as np\n",
        "from ultralytics import YOLO\n",
        "import matplotlib.pyplot as plt\n",
        "from pathlib import Path\n",
        "import yaml"
      ],
      "metadata": {
        "id": "_6_EeZQAvvkt",
        "outputId": "4f3b4354-9f05-446a-b7da-a269c99ca66b",
        "colab": {
          "base_uri": "https://localhost:8080/"
        }
      },
      "execution_count": 10,
      "outputs": [
        {
          "output_type": "stream",
          "name": "stdout",
          "text": [
            "Requirement already satisfied: ultralytics in /usr/local/lib/python3.12/dist-packages (8.3.221)\n",
            "Requirement already satisfied: opencv-python-headless in /usr/local/lib/python3.12/dist-packages (4.12.0.88)\n",
            "Requirement already satisfied: matplotlib in /usr/local/lib/python3.12/dist-packages (3.10.0)\n",
            "Requirement already satisfied: seaborn in /usr/local/lib/python3.12/dist-packages (0.13.2)\n",
            "Requirement already satisfied: numpy>=1.23.0 in /usr/local/lib/python3.12/dist-packages (from ultralytics) (2.0.2)\n",
            "Requirement already satisfied: opencv-python>=4.6.0 in /usr/local/lib/python3.12/dist-packages (from ultralytics) (4.12.0.88)\n",
            "Requirement already satisfied: pillow>=7.1.2 in /usr/local/lib/python3.12/dist-packages (from ultralytics) (11.3.0)\n",
            "Requirement already satisfied: pyyaml>=5.3.1 in /usr/local/lib/python3.12/dist-packages (from ultralytics) (6.0.3)\n",
            "Requirement already satisfied: requests>=2.23.0 in /usr/local/lib/python3.12/dist-packages (from ultralytics) (2.32.4)\n",
            "Requirement already satisfied: scipy>=1.4.1 in /usr/local/lib/python3.12/dist-packages (from ultralytics) (1.16.2)\n",
            "Requirement already satisfied: torch>=1.8.0 in /usr/local/lib/python3.12/dist-packages (from ultralytics) (2.8.0+cu126)\n",
            "Requirement already satisfied: torchvision>=0.9.0 in /usr/local/lib/python3.12/dist-packages (from ultralytics) (0.23.0+cu126)\n",
            "Requirement already satisfied: psutil in /usr/local/lib/python3.12/dist-packages (from ultralytics) (5.9.5)\n",
            "Requirement already satisfied: polars in /usr/local/lib/python3.12/dist-packages (from ultralytics) (1.25.2)\n",
            "Requirement already satisfied: ultralytics-thop>=2.0.0 in /usr/local/lib/python3.12/dist-packages (from ultralytics) (2.0.17)\n",
            "Requirement already satisfied: contourpy>=1.0.1 in /usr/local/lib/python3.12/dist-packages (from matplotlib) (1.3.3)\n",
            "Requirement already satisfied: cycler>=0.10 in /usr/local/lib/python3.12/dist-packages (from matplotlib) (0.12.1)\n",
            "Requirement already satisfied: fonttools>=4.22.0 in /usr/local/lib/python3.12/dist-packages (from matplotlib) (4.60.1)\n",
            "Requirement already satisfied: kiwisolver>=1.3.1 in /usr/local/lib/python3.12/dist-packages (from matplotlib) (1.4.9)\n",
            "Requirement already satisfied: packaging>=20.0 in /usr/local/lib/python3.12/dist-packages (from matplotlib) (25.0)\n",
            "Requirement already satisfied: pyparsing>=2.3.1 in /usr/local/lib/python3.12/dist-packages (from matplotlib) (3.2.5)\n",
            "Requirement already satisfied: python-dateutil>=2.7 in /usr/local/lib/python3.12/dist-packages (from matplotlib) (2.9.0.post0)\n",
            "Requirement already satisfied: pandas>=1.2 in /usr/local/lib/python3.12/dist-packages (from seaborn) (2.2.2)\n",
            "Requirement already satisfied: pytz>=2020.1 in /usr/local/lib/python3.12/dist-packages (from pandas>=1.2->seaborn) (2025.2)\n",
            "Requirement already satisfied: tzdata>=2022.7 in /usr/local/lib/python3.12/dist-packages (from pandas>=1.2->seaborn) (2025.2)\n",
            "Requirement already satisfied: six>=1.5 in /usr/local/lib/python3.12/dist-packages (from python-dateutil>=2.7->matplotlib) (1.17.0)\n",
            "Requirement already satisfied: charset_normalizer<4,>=2 in /usr/local/lib/python3.12/dist-packages (from requests>=2.23.0->ultralytics) (3.4.4)\n",
            "Requirement already satisfied: idna<4,>=2.5 in /usr/local/lib/python3.12/dist-packages (from requests>=2.23.0->ultralytics) (3.11)\n",
            "Requirement already satisfied: urllib3<3,>=1.21.1 in /usr/local/lib/python3.12/dist-packages (from requests>=2.23.0->ultralytics) (2.5.0)\n",
            "Requirement already satisfied: certifi>=2017.4.17 in /usr/local/lib/python3.12/dist-packages (from requests>=2.23.0->ultralytics) (2025.10.5)\n",
            "Requirement already satisfied: filelock in /usr/local/lib/python3.12/dist-packages (from torch>=1.8.0->ultralytics) (3.20.0)\n",
            "Requirement already satisfied: typing-extensions>=4.10.0 in /usr/local/lib/python3.12/dist-packages (from torch>=1.8.0->ultralytics) (4.15.0)\n",
            "Requirement already satisfied: setuptools in /usr/local/lib/python3.12/dist-packages (from torch>=1.8.0->ultralytics) (75.2.0)\n",
            "Requirement already satisfied: sympy>=1.13.3 in /usr/local/lib/python3.12/dist-packages (from torch>=1.8.0->ultralytics) (1.13.3)\n",
            "Requirement already satisfied: networkx in /usr/local/lib/python3.12/dist-packages (from torch>=1.8.0->ultralytics) (3.5)\n",
            "Requirement already satisfied: jinja2 in /usr/local/lib/python3.12/dist-packages (from torch>=1.8.0->ultralytics) (3.1.6)\n",
            "Requirement already satisfied: fsspec in /usr/local/lib/python3.12/dist-packages (from torch>=1.8.0->ultralytics) (2025.3.0)\n",
            "Requirement already satisfied: nvidia-cuda-nvrtc-cu12==12.6.77 in /usr/local/lib/python3.12/dist-packages (from torch>=1.8.0->ultralytics) (12.6.77)\n",
            "Requirement already satisfied: nvidia-cuda-runtime-cu12==12.6.77 in /usr/local/lib/python3.12/dist-packages (from torch>=1.8.0->ultralytics) (12.6.77)\n",
            "Requirement already satisfied: nvidia-cuda-cupti-cu12==12.6.80 in /usr/local/lib/python3.12/dist-packages (from torch>=1.8.0->ultralytics) (12.6.80)\n",
            "Requirement already satisfied: nvidia-cudnn-cu12==9.10.2.21 in /usr/local/lib/python3.12/dist-packages (from torch>=1.8.0->ultralytics) (9.10.2.21)\n",
            "Requirement already satisfied: nvidia-cublas-cu12==12.6.4.1 in /usr/local/lib/python3.12/dist-packages (from torch>=1.8.0->ultralytics) (12.6.4.1)\n",
            "Requirement already satisfied: nvidia-cufft-cu12==11.3.0.4 in /usr/local/lib/python3.12/dist-packages (from torch>=1.8.0->ultralytics) (11.3.0.4)\n",
            "Requirement already satisfied: nvidia-curand-cu12==10.3.7.77 in /usr/local/lib/python3.12/dist-packages (from torch>=1.8.0->ultralytics) (10.3.7.77)\n",
            "Requirement already satisfied: nvidia-cusolver-cu12==11.7.1.2 in /usr/local/lib/python3.12/dist-packages (from torch>=1.8.0->ultralytics) (11.7.1.2)\n",
            "Requirement already satisfied: nvidia-cusparse-cu12==12.5.4.2 in /usr/local/lib/python3.12/dist-packages (from torch>=1.8.0->ultralytics) (12.5.4.2)\n",
            "Requirement already satisfied: nvidia-cusparselt-cu12==0.7.1 in /usr/local/lib/python3.12/dist-packages (from torch>=1.8.0->ultralytics) (0.7.1)\n",
            "Requirement already satisfied: nvidia-nccl-cu12==2.27.3 in /usr/local/lib/python3.12/dist-packages (from torch>=1.8.0->ultralytics) (2.27.3)\n",
            "Requirement already satisfied: nvidia-nvtx-cu12==12.6.77 in /usr/local/lib/python3.12/dist-packages (from torch>=1.8.0->ultralytics) (12.6.77)\n",
            "Requirement already satisfied: nvidia-nvjitlink-cu12==12.6.85 in /usr/local/lib/python3.12/dist-packages (from torch>=1.8.0->ultralytics) (12.6.85)\n",
            "Requirement already satisfied: nvidia-cufile-cu12==1.11.1.6 in /usr/local/lib/python3.12/dist-packages (from torch>=1.8.0->ultralytics) (1.11.1.6)\n",
            "Requirement already satisfied: triton==3.4.0 in /usr/local/lib/python3.12/dist-packages (from torch>=1.8.0->ultralytics) (3.4.0)\n",
            "Requirement already satisfied: mpmath<1.4,>=1.1.0 in /usr/local/lib/python3.12/dist-packages (from sympy>=1.13.3->torch>=1.8.0->ultralytics) (1.3.0)\n",
            "Requirement already satisfied: MarkupSafe>=2.0 in /usr/local/lib/python3.12/dist-packages (from jinja2->torch>=1.8.0->ultralytics) (3.0.3)\n"
          ]
        }
      ]
    },
    {
      "cell_type": "code",
      "source": [
        "from google.colab import drive\n",
        "drive.mount('/content/drive')"
      ],
      "metadata": {
        "id": "V0bFY0WNwG29",
        "outputId": "872bb44d-cfd4-4443-8313-9c3304595662",
        "colab": {
          "base_uri": "https://localhost:8080/"
        }
      },
      "execution_count": 11,
      "outputs": [
        {
          "output_type": "stream",
          "name": "stdout",
          "text": [
            "Drive already mounted at /content/drive; to attempt to forcibly remount, call drive.mount(\"/content/drive\", force_remount=True).\n"
          ]
        }
      ]
    },
    {
      "cell_type": "code",
      "source": [
        "base_path = '/content/drive/MyDrive/drone_dataset'\n",
        "yaml_path = f'{base_path}/data.yaml'\n",
        "\n",
        "# ตรวจสอบโครงสร้างไฟล์\n",
        "!ls -la {base_path}\n",
        "\n",
        "# อ่าน yaml file\n",
        "with open(yaml_path, 'r') as f:\n",
        "    data_config = yaml.safe_load(f)\n",
        "print(data_config)"
      ],
      "metadata": {
        "id": "JOYRIahDwHqR",
        "outputId": "4251bf32-70ae-4642-c9e1-1aa6aec9a90e",
        "colab": {
          "base_uri": "https://localhost:8080/"
        }
      },
      "execution_count": 12,
      "outputs": [
        {
          "output_type": "stream",
          "name": "stdout",
          "text": [
            "total 9\n",
            "-rw------- 1 root root  113 Oct 27 04:37 data.yaml\n",
            "drwx------ 4 root root 4096 Oct 27 03:59 train\n",
            "drwx------ 4 root root 4096 Oct 27 03:59 valid\n",
            "{'path': '/content/drive/MyDrive/drone_dataset', 'train': 'train/images', 'val': 'valid/images', 'names': {0: 'drone'}, 'nc': 1}\n"
          ]
        }
      ]
    },
    {
      "cell_type": "code",
      "source": [
        "def enhance_image(image):\n",
        "    \"\"\"\n",
        "    ปรับปรุงคุณภาพภาพก่อนส่งเข้า YOLO\n",
        "    \"\"\"\n",
        "    # 1. แปลงเป็น RGB\n",
        "    if len(image.shape) == 2: # 2 มิติ - 3\n",
        "        image = cv2.cvtColor(image, cv2.COLOR_GRAY2RGB)\n",
        "\n",
        "    # 2. ปรับ Contrast (CLAHE)\n",
        "    lab = cv2.cvtColor(image, cv2.COLOR_RGB2LAB)\n",
        "    l, a, b = cv2.split(lab) # แยก L, A, B ออกเป็น 3 channels\n",
        "    clahe = cv2.createCLAHE(clipLimit=3.0, tileGridSize=(8,8)) #แบ่งภาพเป็นตาราง 8x8 แล้วปรับแต่ละช่องแยก ส่วนมืดสว่างขึ้น, ส่วนสว่างไม่สว่างจนเกิน\n",
        "    l = clahe.apply(l)  # ปรับแค่ channel L\n",
        "    enhanced = cv2.merge([l,a,b])  # รวมกลับ\n",
        "    enhanced = cv2.cvtColor(enhanced, cv2.COLOR_LAB2RGB)\n",
        "\n",
        "    # 3. Denoise หา pixel ที่คล้ายกันในบริเวณใกล้เคียง เฉลี่ยค่าของ pixel ที่คล้ายกัน\n",
        "    denoised = cv2.fastNlMeansDenoisingColored(enhanced, None, 10, 10, 7, 21)\n",
        "\n",
        "    # 4. Sharpen เพิ่มความคมชัด\n",
        "    kernel = np.array([[-1,-1,-1],\n",
        "                       [-1, 9,-1],\n",
        "                       [-1,-1,-1]])\n",
        "    sharpened = cv2.filter2D(denoised, -1, kernel)\n",
        "\n",
        "    return sharpened # ภาพที่มี contrast ดี, noise น้อย, ขอบคมชัด → YOLO ตรวจจับได้ง่ายขึ้น\n",
        "\n",
        "def detect_sky_region(image):\n",
        "    \"\"\"\n",
        "    ตัดส่วนท้องฟ้าออกเพื่อลด false positives\n",
        "    \"\"\"\n",
        "    hsv = cv2.cvtColor(image, cv2.COLOR_RGB2HSV)\n",
        "    # Sky มักมีค่า Saturation ต่ำ และ Value สูง\n",
        "    lower_sky = np.array([0, 0, 150])\n",
        "    upper_sky = np.array([180, 50, 255])\n",
        "    mask = cv2.inRange(hsv, lower_sky, upper_sky) #สร้าง binary mask\n",
        "    return mask\n",
        "\n",
        "def visualize_preprocessing(original, processed):\n",
        "    \"\"\"\n",
        "    แสดงผลการ preprocessing\n",
        "    \"\"\"\n",
        "    fig, axes = plt.subplots(1, 2, figsize=(12, 6))\n",
        "    axes[0].imshow(original)\n",
        "    axes[0].set_title('Original')\n",
        "    axes[0].axis('off')\n",
        "\n",
        "    axes[1].imshow(processed)\n",
        "    axes[1].set_title('Processed')\n",
        "    axes[1].axis('off')\n",
        "    plt.show()"
      ],
      "metadata": {
        "id": "QfgyO4XUxcwM"
      },
      "execution_count": 13,
      "outputs": []
    },
    {
      "cell_type": "code",
      "source": [
        "# เลือก model size (n, s, m, l, x)\n",
        "model = YOLO('yolov8n.pt')  # nano สำหรับความเร็ว\n",
        "\n",
        "# Train\n",
        "results = model.train(\n",
        "    data=yaml_path,\n",
        "    epochs=100,\n",
        "    imgsz=640,\n",
        "    batch=16,\n",
        "    name='drone_detection',\n",
        "    patience=20,\n",
        "    save=True,\n",
        "    # device=0,  # GPU\n",
        "\n",
        "    # Augmentation\n",
        "    hsv_h=0.015,\n",
        "    hsv_s=0.7,\n",
        "    hsv_v=0.4,\n",
        "    degrees=10,\n",
        "    translate=0.1,\n",
        "    scale=0.5,\n",
        "    flipud=0.5,\n",
        "    fliplr=0.5,\n",
        "    mosaic=1.0,\n",
        "    mixup=0.1\n",
        ")"
      ],
      "metadata": {
        "colab": {
          "base_uri": "https://localhost:8080/",
          "height": 211
        },
        "id": "7YhzrJxTxpwf",
        "outputId": "7c2925ae-37b2-475d-d167-91dc5040a664"
      },
      "execution_count": 1,
      "outputs": [
        {
          "output_type": "error",
          "ename": "NameError",
          "evalue": "name 'YOLO' is not defined",
          "traceback": [
            "\u001b[0;31m---------------------------------------------------------------------------\u001b[0m",
            "\u001b[0;31mNameError\u001b[0m                                 Traceback (most recent call last)",
            "\u001b[0;32m/tmp/ipython-input-294056755.py\u001b[0m in \u001b[0;36m<cell line: 0>\u001b[0;34m()\u001b[0m\n\u001b[1;32m      1\u001b[0m \u001b[0;31m# เลือก model size (n, s, m, l, x)\u001b[0m\u001b[0;34m\u001b[0m\u001b[0;34m\u001b[0m\u001b[0m\n\u001b[0;32m----> 2\u001b[0;31m \u001b[0mmodel\u001b[0m \u001b[0;34m=\u001b[0m \u001b[0mYOLO\u001b[0m\u001b[0;34m(\u001b[0m\u001b[0;34m'yolov8n.pt'\u001b[0m\u001b[0;34m)\u001b[0m  \u001b[0;31m# nano สำหรับความเร็ว\u001b[0m\u001b[0;34m\u001b[0m\u001b[0;34m\u001b[0m\u001b[0m\n\u001b[0m\u001b[1;32m      3\u001b[0m \u001b[0;34m\u001b[0m\u001b[0m\n\u001b[1;32m      4\u001b[0m \u001b[0;31m# Train\u001b[0m\u001b[0;34m\u001b[0m\u001b[0;34m\u001b[0m\u001b[0m\n\u001b[1;32m      5\u001b[0m results = model.train(\n",
            "\u001b[0;31mNameError\u001b[0m: name 'YOLO' is not defined"
          ]
        }
      ]
    },
    {
      "cell_type": "code",
      "source": [
        "# โหลด trained model\n",
        "model = YOLO(f'{base_path}/runs/detect/drone_detection/weights/best.pt') #x (xlarge) - ใหญ่สุด, ช้าสุด, แม่นมาก\n",
        "\n",
        "def detect_drone_with_processing(image_path, conf_threshold=0.25):\n",
        "    \"\"\"\n",
        "    Detection พร้อม image processing\n",
        "    \"\"\"\n",
        "    # อ่านภาพ\n",
        "    image = cv2.imread(image_path)\n",
        "    image = cv2.cvtColor(image, cv2.COLOR_BGR2RGB)\n",
        "    original = image.copy()\n",
        "\n",
        "    # 1. Pre-processing\n",
        "    processed = enhance_image(image)\n",
        "\n",
        "    # 2. Detection\n",
        "    results = model.predict(\n",
        "        source=processed,\n",
        "        conf=conf_threshold,\n",
        "        iou=0.45,\n",
        "        imgsz=640,\n",
        "        #device=0\n",
        "    )\n",
        "\n",
        "    # 3. Post-processing (กรอง false positives)\n",
        "    filtered_boxes = []\n",
        "    for box in results[0].boxes:\n",
        "        x1, y1, x2, y2 = box.xyxy[0].cpu().numpy()\n",
        "        conf = box.conf[0].cpu().numpy()\n",
        "\n",
        "        # เช็คว่าไม่อยู่ในพื้นที่ท้องฟ้าเกินไป\n",
        "        center_y = (y1 + y2) / 2\n",
        "        if center_y > image.shape[0] * 0.2:  # ไม่อยู่บนสุดของภาพ\n",
        "            filtered_boxes.append(box)\n",
        "\n",
        "    # 4. Visualize\n",
        "    fig, axes = plt.subplots(1, 2, figsize=(15, 7))\n",
        "\n",
        "    # Original\n",
        "    axes[0].imshow(original)\n",
        "    axes[0].set_title('Original Image')\n",
        "    axes[0].axis('off')\n",
        "\n",
        "    # Detection result\n",
        "    result_img = results[0].plot()\n",
        "    axes[1].imshow(result_img)\n",
        "    axes[1].set_title(f'Detected Drones: {len(filtered_boxes)}')\n",
        "    axes[1].axis('off')\n",
        "\n",
        "    plt.tight_layout()\n",
        "    plt.show()\n",
        "\n",
        "    return results, filtered_boxes\n",
        "\n",
        "# ทดสอบ\n",
        "test_image = f'{base_path}/test/images/your_image.jpg'\n",
        "results, detections = detect_drone_with_processing(test_image, conf_threshold=0.3)"
      ],
      "metadata": {
        "id": "kiUAL5BTxupI"
      },
      "execution_count": null,
      "outputs": []
    },
    {
      "cell_type": "code",
      "source": [
        "def process_dataset(folder_path, output_path, conf_threshold=0.25):\n",
        "    \"\"\"\n",
        "    ประมวลผลทั้ง folder\n",
        "    \"\"\"\n",
        "    from pathlib import Path\n",
        "    import os\n",
        "\n",
        "    Path(output_path).mkdir(parents=True, exist_ok=True)\n",
        "\n",
        "    image_files = list(Path(folder_path).glob('*.jpg')) + \\\n",
        "                  list(Path(folder_path).glob('*.png'))\n",
        "\n",
        "    results_summary = []\n",
        "\n",
        "    for img_path in image_files:\n",
        "        print(f\"Processing: {img_path.name}\")\n",
        "\n",
        "        # Detect\n",
        "        results, detections = detect_drone_with_processing(\n",
        "            str(img_path),\n",
        "            conf_threshold\n",
        "        )\n",
        "\n",
        "        # Save result\n",
        "        result_img = results[0].plot()\n",
        "        output_file = os.path.join(output_path, f\"result_{img_path.name}\")\n",
        "        cv2.imwrite(output_file, cv2.cvtColor(result_img, cv2.COLOR_RGB2BGR))\n",
        "\n",
        "        results_summary.append({\n",
        "            'image': img_path.name,\n",
        "            'detections': len(detections)\n",
        "        })\n",
        "\n",
        "    return results_summary\n",
        "\n",
        "# ใช้งาน\n",
        "summary = process_dataset(\n",
        "    f'{base_path}/test/images',\n",
        "    f'{base_path}/results',\n",
        "    conf_threshold=0.3\n",
        ")\n",
        "\n",
        "print(\"\\n=== Summary ===\")\n",
        "for item in summary:\n",
        "    print(f\"{item['image']}: {item['detections']} drones\")"
      ],
      "metadata": {
        "id": "bLQDPTTqxyxw"
      },
      "execution_count": null,
      "outputs": []
    },
    {
      "cell_type": "code",
      "source": [
        "# ประเมินผล\n",
        "metrics = model.val(data=yaml_path)\n",
        "\n",
        "print(f\"mAP50: {metrics.box.map50:.4f}\")\n",
        "print(f\"mAP50-95: {metrics.box.map:.4f}\")\n",
        "print(f\"Precision: {metrics.box.mp:.4f}\")\n",
        "print(f\"Recall: {metrics.box.mr:.4f}\")\n",
        "\n",
        "accuracy = (metrics.box.mp + metrics.box.mr) / 2\n",
        "print(f\"Accuracy:  {accuracy:.4f}\")"
      ],
      "metadata": {
        "id": "6BRMwoXTx0BS"
      },
      "execution_count": null,
      "outputs": []
    },
    {
      "cell_type": "code",
      "source": [],
      "metadata": {
        "id": "unGgpn1lyMb2"
      },
      "execution_count": null,
      "outputs": []
    }
  ],
  "metadata": {
    "colab": {
      "name": "Welcome To Colab",
      "provenance": [],
      "include_colab_link": true
    },
    "kernelspec": {
      "display_name": "Python 3",
      "name": "python3"
    }
  },
  "nbformat": 4,
  "nbformat_minor": 0
}